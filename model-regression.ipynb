{
 "cells": [
  {
   "cell_type": "code",
   "execution_count": 1,
   "metadata": {},
   "outputs": [],
   "source": [
    "import pandas as pd\n",
    "import numpy as np\n",
    "import seaborn as sns\n",
    "import matplotlib.pyplot as plt\n",
    "from scipy import stats\n",
    "from scipy.stats import kendalltau\n",
    "import pickle\n",
    "import plotly.express  as px \n",
    "\n",
    "\n",
    "# preprocessing\n",
    "from sklearn.model_selection import train_test_split\n",
    "from sklearn.preprocessing import StandardScaler\n",
    "from feature_engine.outliers import Winsorizer\n",
    "import statsmodels.api as sm\n",
    "from statsmodels.stats.outliers_influence import variance_inflation_factor\n",
    "from sklearn.pipeline import Pipeline\n",
    "from sklearn.compose import ColumnTransformer\n",
    "from sklearn.preprocessing import OneHotEncoder\n",
    "\n",
    "\n",
    "# model \n",
    "# model \n",
    "from sklearn.neighbors import KNeighborsRegressor\n",
    "from sklearn.svm import SVR\n",
    "from sklearn.ensemble import  AdaBoostRegressor, RandomForestRegressor\n",
    "from sklearn.tree import DecisionTreeRegressor\n",
    "from sklearn.linear_model import LinearRegression\n",
    "\n",
    "\n",
    "from sklearn.model_selection import cross_validate\n",
    "from sklearn.model_selection import RandomizedSearchCV, GridSearchCV\n",
    "from sklearn.metrics import make_scorer, mean_absolute_error, mean_squared_error, mean_squared_log_error, r2_score, mean_absolute_percentage_error\n",
    "\n",
    "from sklearn.svm import SVC\n",
    "\n",
    "from sklearn.metrics import classification_report, confusion_matrix, ConfusionMatrixDisplay, f1_score, accuracy_score, precision_score, recall_score\n",
    "from sklearn.model_selection import cross_val_score\n",
    "\n",
    "from sklearn.linear_model import SGDRegressor\n",
    "from sklearn.datasets import make_regression\n",
    "from sklearn.metrics import mean_squared_error"
   ]
  },
  {
   "cell_type": "markdown",
   "metadata": {},
   "source": [
    "# Data Loading"
   ]
  },
  {
   "cell_type": "code",
   "execution_count": 2,
   "metadata": {},
   "outputs": [
    {
     "data": {
      "text/html": [
       "<div>\n",
       "<style scoped>\n",
       "    .dataframe tbody tr th:only-of-type {\n",
       "        vertical-align: middle;\n",
       "    }\n",
       "\n",
       "    .dataframe tbody tr th {\n",
       "        vertical-align: top;\n",
       "    }\n",
       "\n",
       "    .dataframe thead th {\n",
       "        text-align: right;\n",
       "    }\n",
       "</style>\n",
       "<table border=\"1\" class=\"dataframe\">\n",
       "  <thead>\n",
       "    <tr style=\"text-align: right;\">\n",
       "      <th></th>\n",
       "      <th>Suburb</th>\n",
       "      <th>Address</th>\n",
       "      <th>Rooms</th>\n",
       "      <th>Type</th>\n",
       "      <th>Price</th>\n",
       "      <th>Method</th>\n",
       "      <th>SellerG</th>\n",
       "      <th>Date</th>\n",
       "      <th>Distance</th>\n",
       "      <th>Postcode</th>\n",
       "      <th>Bedroom2</th>\n",
       "      <th>Bathroom</th>\n",
       "      <th>Car</th>\n",
       "      <th>Landsize</th>\n",
       "      <th>BuildingArea</th>\n",
       "      <th>YearBuilt</th>\n",
       "      <th>CouncilArea</th>\n",
       "      <th>Lattitude</th>\n",
       "      <th>Longtitude</th>\n",
       "      <th>Regionname</th>\n",
       "      <th>Propertycount</th>\n",
       "    </tr>\n",
       "  </thead>\n",
       "  <tbody>\n",
       "    <tr>\n",
       "      <th>0</th>\n",
       "      <td>Abbotsford</td>\n",
       "      <td>85 Turner St</td>\n",
       "      <td>2</td>\n",
       "      <td>h</td>\n",
       "      <td>1480000.0</td>\n",
       "      <td>S</td>\n",
       "      <td>Biggin</td>\n",
       "      <td>3/12/2016</td>\n",
       "      <td>2.5</td>\n",
       "      <td>3067.0</td>\n",
       "      <td>2.0</td>\n",
       "      <td>1.0</td>\n",
       "      <td>1.0</td>\n",
       "      <td>202.0</td>\n",
       "      <td>NaN</td>\n",
       "      <td>NaN</td>\n",
       "      <td>Yarra</td>\n",
       "      <td>-37.7996</td>\n",
       "      <td>144.9984</td>\n",
       "      <td>Northern Metropolitan</td>\n",
       "      <td>4019.0</td>\n",
       "    </tr>\n",
       "    <tr>\n",
       "      <th>1</th>\n",
       "      <td>Abbotsford</td>\n",
       "      <td>25 Bloomburg St</td>\n",
       "      <td>2</td>\n",
       "      <td>h</td>\n",
       "      <td>1035000.0</td>\n",
       "      <td>S</td>\n",
       "      <td>Biggin</td>\n",
       "      <td>4/02/2016</td>\n",
       "      <td>2.5</td>\n",
       "      <td>3067.0</td>\n",
       "      <td>2.0</td>\n",
       "      <td>1.0</td>\n",
       "      <td>0.0</td>\n",
       "      <td>156.0</td>\n",
       "      <td>79.0</td>\n",
       "      <td>1900.0</td>\n",
       "      <td>Yarra</td>\n",
       "      <td>-37.8079</td>\n",
       "      <td>144.9934</td>\n",
       "      <td>Northern Metropolitan</td>\n",
       "      <td>4019.0</td>\n",
       "    </tr>\n",
       "    <tr>\n",
       "      <th>2</th>\n",
       "      <td>Abbotsford</td>\n",
       "      <td>5 Charles St</td>\n",
       "      <td>3</td>\n",
       "      <td>h</td>\n",
       "      <td>1465000.0</td>\n",
       "      <td>SP</td>\n",
       "      <td>Biggin</td>\n",
       "      <td>4/03/2017</td>\n",
       "      <td>2.5</td>\n",
       "      <td>3067.0</td>\n",
       "      <td>3.0</td>\n",
       "      <td>2.0</td>\n",
       "      <td>0.0</td>\n",
       "      <td>134.0</td>\n",
       "      <td>150.0</td>\n",
       "      <td>1900.0</td>\n",
       "      <td>Yarra</td>\n",
       "      <td>-37.8093</td>\n",
       "      <td>144.9944</td>\n",
       "      <td>Northern Metropolitan</td>\n",
       "      <td>4019.0</td>\n",
       "    </tr>\n",
       "    <tr>\n",
       "      <th>3</th>\n",
       "      <td>Abbotsford</td>\n",
       "      <td>40 Federation La</td>\n",
       "      <td>3</td>\n",
       "      <td>h</td>\n",
       "      <td>850000.0</td>\n",
       "      <td>PI</td>\n",
       "      <td>Biggin</td>\n",
       "      <td>4/03/2017</td>\n",
       "      <td>2.5</td>\n",
       "      <td>3067.0</td>\n",
       "      <td>3.0</td>\n",
       "      <td>2.0</td>\n",
       "      <td>1.0</td>\n",
       "      <td>94.0</td>\n",
       "      <td>NaN</td>\n",
       "      <td>NaN</td>\n",
       "      <td>Yarra</td>\n",
       "      <td>-37.7969</td>\n",
       "      <td>144.9969</td>\n",
       "      <td>Northern Metropolitan</td>\n",
       "      <td>4019.0</td>\n",
       "    </tr>\n",
       "    <tr>\n",
       "      <th>4</th>\n",
       "      <td>Abbotsford</td>\n",
       "      <td>55a Park St</td>\n",
       "      <td>4</td>\n",
       "      <td>h</td>\n",
       "      <td>1600000.0</td>\n",
       "      <td>VB</td>\n",
       "      <td>Nelson</td>\n",
       "      <td>4/06/2016</td>\n",
       "      <td>2.5</td>\n",
       "      <td>3067.0</td>\n",
       "      <td>3.0</td>\n",
       "      <td>1.0</td>\n",
       "      <td>2.0</td>\n",
       "      <td>120.0</td>\n",
       "      <td>142.0</td>\n",
       "      <td>2014.0</td>\n",
       "      <td>Yarra</td>\n",
       "      <td>-37.8072</td>\n",
       "      <td>144.9941</td>\n",
       "      <td>Northern Metropolitan</td>\n",
       "      <td>4019.0</td>\n",
       "    </tr>\n",
       "    <tr>\n",
       "      <th>5</th>\n",
       "      <td>Abbotsford</td>\n",
       "      <td>129 Charles St</td>\n",
       "      <td>2</td>\n",
       "      <td>h</td>\n",
       "      <td>941000.0</td>\n",
       "      <td>S</td>\n",
       "      <td>Jellis</td>\n",
       "      <td>7/05/2016</td>\n",
       "      <td>2.5</td>\n",
       "      <td>3067.0</td>\n",
       "      <td>2.0</td>\n",
       "      <td>1.0</td>\n",
       "      <td>0.0</td>\n",
       "      <td>181.0</td>\n",
       "      <td>NaN</td>\n",
       "      <td>NaN</td>\n",
       "      <td>Yarra</td>\n",
       "      <td>-37.8041</td>\n",
       "      <td>144.9953</td>\n",
       "      <td>Northern Metropolitan</td>\n",
       "      <td>4019.0</td>\n",
       "    </tr>\n",
       "    <tr>\n",
       "      <th>6</th>\n",
       "      <td>Abbotsford</td>\n",
       "      <td>124 Yarra St</td>\n",
       "      <td>3</td>\n",
       "      <td>h</td>\n",
       "      <td>1876000.0</td>\n",
       "      <td>S</td>\n",
       "      <td>Nelson</td>\n",
       "      <td>7/05/2016</td>\n",
       "      <td>2.5</td>\n",
       "      <td>3067.0</td>\n",
       "      <td>4.0</td>\n",
       "      <td>2.0</td>\n",
       "      <td>0.0</td>\n",
       "      <td>245.0</td>\n",
       "      <td>210.0</td>\n",
       "      <td>1910.0</td>\n",
       "      <td>Yarra</td>\n",
       "      <td>-37.8024</td>\n",
       "      <td>144.9993</td>\n",
       "      <td>Northern Metropolitan</td>\n",
       "      <td>4019.0</td>\n",
       "    </tr>\n",
       "    <tr>\n",
       "      <th>7</th>\n",
       "      <td>Abbotsford</td>\n",
       "      <td>98 Charles St</td>\n",
       "      <td>2</td>\n",
       "      <td>h</td>\n",
       "      <td>1636000.0</td>\n",
       "      <td>S</td>\n",
       "      <td>Nelson</td>\n",
       "      <td>8/10/2016</td>\n",
       "      <td>2.5</td>\n",
       "      <td>3067.0</td>\n",
       "      <td>2.0</td>\n",
       "      <td>1.0</td>\n",
       "      <td>2.0</td>\n",
       "      <td>256.0</td>\n",
       "      <td>107.0</td>\n",
       "      <td>1890.0</td>\n",
       "      <td>Yarra</td>\n",
       "      <td>-37.8060</td>\n",
       "      <td>144.9954</td>\n",
       "      <td>Northern Metropolitan</td>\n",
       "      <td>4019.0</td>\n",
       "    </tr>\n",
       "    <tr>\n",
       "      <th>8</th>\n",
       "      <td>Abbotsford</td>\n",
       "      <td>6/241 Nicholson St</td>\n",
       "      <td>1</td>\n",
       "      <td>u</td>\n",
       "      <td>300000.0</td>\n",
       "      <td>S</td>\n",
       "      <td>Biggin</td>\n",
       "      <td>8/10/2016</td>\n",
       "      <td>2.5</td>\n",
       "      <td>3067.0</td>\n",
       "      <td>1.0</td>\n",
       "      <td>1.0</td>\n",
       "      <td>1.0</td>\n",
       "      <td>0.0</td>\n",
       "      <td>NaN</td>\n",
       "      <td>NaN</td>\n",
       "      <td>Yarra</td>\n",
       "      <td>-37.8008</td>\n",
       "      <td>144.9973</td>\n",
       "      <td>Northern Metropolitan</td>\n",
       "      <td>4019.0</td>\n",
       "    </tr>\n",
       "    <tr>\n",
       "      <th>9</th>\n",
       "      <td>Abbotsford</td>\n",
       "      <td>10 Valiant St</td>\n",
       "      <td>2</td>\n",
       "      <td>h</td>\n",
       "      <td>1097000.0</td>\n",
       "      <td>S</td>\n",
       "      <td>Biggin</td>\n",
       "      <td>8/10/2016</td>\n",
       "      <td>2.5</td>\n",
       "      <td>3067.0</td>\n",
       "      <td>3.0</td>\n",
       "      <td>1.0</td>\n",
       "      <td>2.0</td>\n",
       "      <td>220.0</td>\n",
       "      <td>75.0</td>\n",
       "      <td>1900.0</td>\n",
       "      <td>Yarra</td>\n",
       "      <td>-37.8010</td>\n",
       "      <td>144.9989</td>\n",
       "      <td>Northern Metropolitan</td>\n",
       "      <td>4019.0</td>\n",
       "    </tr>\n",
       "  </tbody>\n",
       "</table>\n",
       "</div>"
      ],
      "text/plain": [
       "       Suburb             Address  Rooms Type      Price Method SellerG  \\\n",
       "0  Abbotsford        85 Turner St      2    h  1480000.0      S  Biggin   \n",
       "1  Abbotsford     25 Bloomburg St      2    h  1035000.0      S  Biggin   \n",
       "2  Abbotsford        5 Charles St      3    h  1465000.0     SP  Biggin   \n",
       "3  Abbotsford    40 Federation La      3    h   850000.0     PI  Biggin   \n",
       "4  Abbotsford         55a Park St      4    h  1600000.0     VB  Nelson   \n",
       "5  Abbotsford      129 Charles St      2    h   941000.0      S  Jellis   \n",
       "6  Abbotsford        124 Yarra St      3    h  1876000.0      S  Nelson   \n",
       "7  Abbotsford       98 Charles St      2    h  1636000.0      S  Nelson   \n",
       "8  Abbotsford  6/241 Nicholson St      1    u   300000.0      S  Biggin   \n",
       "9  Abbotsford       10 Valiant St      2    h  1097000.0      S  Biggin   \n",
       "\n",
       "        Date  Distance  Postcode  Bedroom2  Bathroom  Car  Landsize  \\\n",
       "0  3/12/2016       2.5    3067.0       2.0       1.0  1.0     202.0   \n",
       "1  4/02/2016       2.5    3067.0       2.0       1.0  0.0     156.0   \n",
       "2  4/03/2017       2.5    3067.0       3.0       2.0  0.0     134.0   \n",
       "3  4/03/2017       2.5    3067.0       3.0       2.0  1.0      94.0   \n",
       "4  4/06/2016       2.5    3067.0       3.0       1.0  2.0     120.0   \n",
       "5  7/05/2016       2.5    3067.0       2.0       1.0  0.0     181.0   \n",
       "6  7/05/2016       2.5    3067.0       4.0       2.0  0.0     245.0   \n",
       "7  8/10/2016       2.5    3067.0       2.0       1.0  2.0     256.0   \n",
       "8  8/10/2016       2.5    3067.0       1.0       1.0  1.0       0.0   \n",
       "9  8/10/2016       2.5    3067.0       3.0       1.0  2.0     220.0   \n",
       "\n",
       "   BuildingArea  YearBuilt CouncilArea  Lattitude  Longtitude  \\\n",
       "0           NaN        NaN       Yarra   -37.7996    144.9984   \n",
       "1          79.0     1900.0       Yarra   -37.8079    144.9934   \n",
       "2         150.0     1900.0       Yarra   -37.8093    144.9944   \n",
       "3           NaN        NaN       Yarra   -37.7969    144.9969   \n",
       "4         142.0     2014.0       Yarra   -37.8072    144.9941   \n",
       "5           NaN        NaN       Yarra   -37.8041    144.9953   \n",
       "6         210.0     1910.0       Yarra   -37.8024    144.9993   \n",
       "7         107.0     1890.0       Yarra   -37.8060    144.9954   \n",
       "8           NaN        NaN       Yarra   -37.8008    144.9973   \n",
       "9          75.0     1900.0       Yarra   -37.8010    144.9989   \n",
       "\n",
       "              Regionname  Propertycount  \n",
       "0  Northern Metropolitan         4019.0  \n",
       "1  Northern Metropolitan         4019.0  \n",
       "2  Northern Metropolitan         4019.0  \n",
       "3  Northern Metropolitan         4019.0  \n",
       "4  Northern Metropolitan         4019.0  \n",
       "5  Northern Metropolitan         4019.0  \n",
       "6  Northern Metropolitan         4019.0  \n",
       "7  Northern Metropolitan         4019.0  \n",
       "8  Northern Metropolitan         4019.0  \n",
       "9  Northern Metropolitan         4019.0  "
      ]
     },
     "execution_count": 2,
     "metadata": {},
     "output_type": "execute_result"
    }
   ],
   "source": [
    "pd.set_option('display.max_columns', None)\n",
    "df = pd.read_csv('melb_data.csv')\n",
    "df.head(10)"
   ]
  },
  {
   "cell_type": "markdown",
   "metadata": {},
   "source": [
    "## Eksplorasi Data Sederhana"
   ]
  },
  {
   "cell_type": "code",
   "execution_count": 3,
   "metadata": {},
   "outputs": [
    {
     "data": {
      "text/plain": [
       "0"
      ]
     },
     "execution_count": 3,
     "metadata": {},
     "output_type": "execute_result"
    }
   ],
   "source": [
    "df.duplicated().sum()"
   ]
  },
  {
   "cell_type": "code",
   "execution_count": 4,
   "metadata": {},
   "outputs": [
    {
     "data": {
      "text/plain": [
       "Suburb              0\n",
       "Address             0\n",
       "Rooms               0\n",
       "Type                0\n",
       "Price               0\n",
       "Method              0\n",
       "SellerG             0\n",
       "Date                0\n",
       "Distance            0\n",
       "Postcode            0\n",
       "Bedroom2            0\n",
       "Bathroom            0\n",
       "Car                62\n",
       "Landsize            0\n",
       "BuildingArea     6450\n",
       "YearBuilt        5375\n",
       "CouncilArea      1369\n",
       "Lattitude           0\n",
       "Longtitude          0\n",
       "Regionname          0\n",
       "Propertycount       0\n",
       "dtype: int64"
      ]
     },
     "execution_count": 4,
     "metadata": {},
     "output_type": "execute_result"
    }
   ],
   "source": [
    "# Cek missing values\n",
    "df.isna().sum()"
   ]
  },
  {
   "cell_type": "code",
   "execution_count": 14,
   "metadata": {},
   "outputs": [],
   "source": [
    "# Menghitung median dari kolom 'BuildingArea' dan modus dari kolom 'YearBuilt' dan 'CouncilArea'\n",
    "median_building_area = df['BuildingArea'].median()\n",
    "mode_year_built = df['YearBuilt'].mode()[0]  # [0] digunakan untuk mendapatkan nilai modus pertama jika ada beberapa nilai modus\n",
    "mode_council_area = df['CouncilArea'].mode()[0]\n",
    "\n",
    "# Mengganti nilai yang hilang dengan median dan modus\n",
    "df['BuildingArea'].fillna(median_building_area, inplace=True)\n",
    "df['YearBuilt'].fillna(mode_year_built, inplace=True)\n",
    "df['CouncilArea'].fillna(mode_council_area, inplace=True)\n",
    "df['Car'].fillna(0, inplace=True)"
   ]
  },
  {
   "cell_type": "code",
   "execution_count": 15,
   "metadata": {},
   "outputs": [
    {
     "data": {
      "text/plain": [
       "Suburb           0\n",
       "Address          0\n",
       "Rooms            0\n",
       "Type             0\n",
       "Price            0\n",
       "Method           0\n",
       "SellerG          0\n",
       "Date             0\n",
       "Distance         0\n",
       "Postcode         0\n",
       "Bedroom2         0\n",
       "Bathroom         0\n",
       "Car              0\n",
       "Landsize         0\n",
       "BuildingArea     0\n",
       "YearBuilt        0\n",
       "CouncilArea      0\n",
       "Lattitude        0\n",
       "Longtitude       0\n",
       "Regionname       0\n",
       "Propertycount    0\n",
       "dtype: int64"
      ]
     },
     "execution_count": 15,
     "metadata": {},
     "output_type": "execute_result"
    }
   ],
   "source": [
    "# Cek kembali missing values\n",
    "df.isnull().sum()"
   ]
  },
  {
   "cell_type": "code",
   "execution_count": 16,
   "metadata": {},
   "outputs": [],
   "source": [
    "# Mengganti datatype kolom `Bedroom2`, `Bathroom`, `Car`\n",
    "df['Bedroom2']=df['Bedroom2'].astype(int)\n",
    "df['Bathroom'] = df['Bathroom'].astype(int)\n",
    "df['Car']=df['Car'].astype(int)"
   ]
  },
  {
   "cell_type": "code",
   "execution_count": 17,
   "metadata": {},
   "outputs": [
    {
     "name": "stdout",
     "output_type": "stream",
     "text": [
      "<class 'pandas.core.frame.DataFrame'>\n",
      "RangeIndex: 13580 entries, 0 to 13579\n",
      "Data columns (total 21 columns):\n",
      " #   Column         Non-Null Count  Dtype  \n",
      "---  ------         --------------  -----  \n",
      " 0   Suburb         13580 non-null  object \n",
      " 1   Address        13580 non-null  object \n",
      " 2   Rooms          13580 non-null  int64  \n",
      " 3   Type           13580 non-null  object \n",
      " 4   Price          13580 non-null  float64\n",
      " 5   Method         13580 non-null  object \n",
      " 6   SellerG        13580 non-null  object \n",
      " 7   Date           13580 non-null  object \n",
      " 8   Distance       13580 non-null  float64\n",
      " 9   Postcode       13580 non-null  float64\n",
      " 10  Bedroom2       13580 non-null  int32  \n",
      " 11  Bathroom       13580 non-null  int32  \n",
      " 12  Car            13580 non-null  int32  \n",
      " 13  Landsize       13580 non-null  float64\n",
      " 14  BuildingArea   13580 non-null  float64\n",
      " 15  YearBuilt      13580 non-null  float64\n",
      " 16  CouncilArea    13580 non-null  object \n",
      " 17  Lattitude      13580 non-null  float64\n",
      " 18  Longtitude     13580 non-null  float64\n",
      " 19  Regionname     13580 non-null  object \n",
      " 20  Propertycount  13580 non-null  float64\n",
      "dtypes: float64(9), int32(3), int64(1), object(8)\n",
      "memory usage: 2.0+ MB\n"
     ]
    }
   ],
   "source": [
    "df.info()"
   ]
  },
  {
   "cell_type": "markdown",
   "metadata": {},
   "source": [
    "# Feature Engineering"
   ]
  },
  {
   "cell_type": "markdown",
   "metadata": {},
   "source": [
    "## Analisis Cardinality"
   ]
  },
  {
   "cell_type": "code",
   "execution_count": 18,
   "metadata": {},
   "outputs": [],
   "source": [
    "#Divide category columns into category_columns\n",
    "category_columns = df[['Suburb', 'Address', 'Type', 'Regionname', 'Method', 'SellerG', 'CouncilArea']]\n",
    "\n",
    "# Divide numeric columns into numeric_columns\n",
    "numeric_columns = df[['Rooms', 'Price', 'Distance', 'Postcode', 'Bedroom2', 'Bathroom', \n",
    "                'Car', 'Landsize', 'BuildingArea', 'YearBuilt', 'Lattitude',\n",
    "                'Longtitude', 'Propertycount']]"
   ]
  },
  {
   "cell_type": "code",
   "execution_count": 19,
   "metadata": {},
   "outputs": [
    {
     "data": {
      "text/html": [
       "<div>\n",
       "<style scoped>\n",
       "    .dataframe tbody tr th:only-of-type {\n",
       "        vertical-align: middle;\n",
       "    }\n",
       "\n",
       "    .dataframe tbody tr th {\n",
       "        vertical-align: top;\n",
       "    }\n",
       "\n",
       "    .dataframe thead th {\n",
       "        text-align: right;\n",
       "    }\n",
       "</style>\n",
       "<table border=\"1\" class=\"dataframe\">\n",
       "  <thead>\n",
       "    <tr style=\"text-align: right;\">\n",
       "      <th></th>\n",
       "      <th>Suburb</th>\n",
       "      <th>Address</th>\n",
       "      <th>Type</th>\n",
       "      <th>Regionname</th>\n",
       "      <th>Method</th>\n",
       "      <th>SellerG</th>\n",
       "      <th>CouncilArea</th>\n",
       "    </tr>\n",
       "  </thead>\n",
       "  <tbody>\n",
       "    <tr>\n",
       "      <th>0</th>\n",
       "      <td>Abbotsford</td>\n",
       "      <td>85 Turner St</td>\n",
       "      <td>h</td>\n",
       "      <td>Northern Metropolitan</td>\n",
       "      <td>S</td>\n",
       "      <td>Biggin</td>\n",
       "      <td>Yarra</td>\n",
       "    </tr>\n",
       "    <tr>\n",
       "      <th>1</th>\n",
       "      <td>Abbotsford</td>\n",
       "      <td>25 Bloomburg St</td>\n",
       "      <td>h</td>\n",
       "      <td>Northern Metropolitan</td>\n",
       "      <td>S</td>\n",
       "      <td>Biggin</td>\n",
       "      <td>Yarra</td>\n",
       "    </tr>\n",
       "    <tr>\n",
       "      <th>2</th>\n",
       "      <td>Abbotsford</td>\n",
       "      <td>5 Charles St</td>\n",
       "      <td>h</td>\n",
       "      <td>Northern Metropolitan</td>\n",
       "      <td>SP</td>\n",
       "      <td>Biggin</td>\n",
       "      <td>Yarra</td>\n",
       "    </tr>\n",
       "    <tr>\n",
       "      <th>3</th>\n",
       "      <td>Abbotsford</td>\n",
       "      <td>40 Federation La</td>\n",
       "      <td>h</td>\n",
       "      <td>Northern Metropolitan</td>\n",
       "      <td>PI</td>\n",
       "      <td>Biggin</td>\n",
       "      <td>Yarra</td>\n",
       "    </tr>\n",
       "    <tr>\n",
       "      <th>4</th>\n",
       "      <td>Abbotsford</td>\n",
       "      <td>55a Park St</td>\n",
       "      <td>h</td>\n",
       "      <td>Northern Metropolitan</td>\n",
       "      <td>VB</td>\n",
       "      <td>Nelson</td>\n",
       "      <td>Yarra</td>\n",
       "    </tr>\n",
       "  </tbody>\n",
       "</table>\n",
       "</div>"
      ],
      "text/plain": [
       "       Suburb           Address Type             Regionname Method SellerG  \\\n",
       "0  Abbotsford      85 Turner St    h  Northern Metropolitan      S  Biggin   \n",
       "1  Abbotsford   25 Bloomburg St    h  Northern Metropolitan      S  Biggin   \n",
       "2  Abbotsford      5 Charles St    h  Northern Metropolitan     SP  Biggin   \n",
       "3  Abbotsford  40 Federation La    h  Northern Metropolitan     PI  Biggin   \n",
       "4  Abbotsford       55a Park St    h  Northern Metropolitan     VB  Nelson   \n",
       "\n",
       "  CouncilArea  \n",
       "0       Yarra  \n",
       "1       Yarra  \n",
       "2       Yarra  \n",
       "3       Yarra  \n",
       "4       Yarra  "
      ]
     },
     "execution_count": 19,
     "metadata": {},
     "output_type": "execute_result"
    }
   ],
   "source": [
    "# Menampilkan categorical dataframe\n",
    "category_columns.head()"
   ]
  },
  {
   "cell_type": "code",
   "execution_count": 20,
   "metadata": {},
   "outputs": [
    {
     "data": {
      "text/html": [
       "<div>\n",
       "<style scoped>\n",
       "    .dataframe tbody tr th:only-of-type {\n",
       "        vertical-align: middle;\n",
       "    }\n",
       "\n",
       "    .dataframe tbody tr th {\n",
       "        vertical-align: top;\n",
       "    }\n",
       "\n",
       "    .dataframe thead th {\n",
       "        text-align: right;\n",
       "    }\n",
       "</style>\n",
       "<table border=\"1\" class=\"dataframe\">\n",
       "  <thead>\n",
       "    <tr style=\"text-align: right;\">\n",
       "      <th></th>\n",
       "      <th>Rooms</th>\n",
       "      <th>Price</th>\n",
       "      <th>Distance</th>\n",
       "      <th>Postcode</th>\n",
       "      <th>Bedroom2</th>\n",
       "      <th>Bathroom</th>\n",
       "      <th>Car</th>\n",
       "      <th>Landsize</th>\n",
       "      <th>BuildingArea</th>\n",
       "      <th>YearBuilt</th>\n",
       "      <th>Lattitude</th>\n",
       "      <th>Longtitude</th>\n",
       "      <th>Propertycount</th>\n",
       "    </tr>\n",
       "  </thead>\n",
       "  <tbody>\n",
       "    <tr>\n",
       "      <th>0</th>\n",
       "      <td>2</td>\n",
       "      <td>1480000.0</td>\n",
       "      <td>2.5</td>\n",
       "      <td>3067.0</td>\n",
       "      <td>2</td>\n",
       "      <td>1</td>\n",
       "      <td>1</td>\n",
       "      <td>202.0</td>\n",
       "      <td>126.0</td>\n",
       "      <td>1970.0</td>\n",
       "      <td>-37.7996</td>\n",
       "      <td>144.9984</td>\n",
       "      <td>4019.0</td>\n",
       "    </tr>\n",
       "    <tr>\n",
       "      <th>1</th>\n",
       "      <td>2</td>\n",
       "      <td>1035000.0</td>\n",
       "      <td>2.5</td>\n",
       "      <td>3067.0</td>\n",
       "      <td>2</td>\n",
       "      <td>1</td>\n",
       "      <td>0</td>\n",
       "      <td>156.0</td>\n",
       "      <td>79.0</td>\n",
       "      <td>1900.0</td>\n",
       "      <td>-37.8079</td>\n",
       "      <td>144.9934</td>\n",
       "      <td>4019.0</td>\n",
       "    </tr>\n",
       "    <tr>\n",
       "      <th>2</th>\n",
       "      <td>3</td>\n",
       "      <td>1465000.0</td>\n",
       "      <td>2.5</td>\n",
       "      <td>3067.0</td>\n",
       "      <td>3</td>\n",
       "      <td>2</td>\n",
       "      <td>0</td>\n",
       "      <td>134.0</td>\n",
       "      <td>150.0</td>\n",
       "      <td>1900.0</td>\n",
       "      <td>-37.8093</td>\n",
       "      <td>144.9944</td>\n",
       "      <td>4019.0</td>\n",
       "    </tr>\n",
       "    <tr>\n",
       "      <th>3</th>\n",
       "      <td>3</td>\n",
       "      <td>850000.0</td>\n",
       "      <td>2.5</td>\n",
       "      <td>3067.0</td>\n",
       "      <td>3</td>\n",
       "      <td>2</td>\n",
       "      <td>1</td>\n",
       "      <td>94.0</td>\n",
       "      <td>126.0</td>\n",
       "      <td>1970.0</td>\n",
       "      <td>-37.7969</td>\n",
       "      <td>144.9969</td>\n",
       "      <td>4019.0</td>\n",
       "    </tr>\n",
       "    <tr>\n",
       "      <th>4</th>\n",
       "      <td>4</td>\n",
       "      <td>1600000.0</td>\n",
       "      <td>2.5</td>\n",
       "      <td>3067.0</td>\n",
       "      <td>3</td>\n",
       "      <td>1</td>\n",
       "      <td>2</td>\n",
       "      <td>120.0</td>\n",
       "      <td>142.0</td>\n",
       "      <td>2014.0</td>\n",
       "      <td>-37.8072</td>\n",
       "      <td>144.9941</td>\n",
       "      <td>4019.0</td>\n",
       "    </tr>\n",
       "  </tbody>\n",
       "</table>\n",
       "</div>"
      ],
      "text/plain": [
       "   Rooms      Price  Distance  Postcode  Bedroom2  Bathroom  Car  Landsize  \\\n",
       "0      2  1480000.0       2.5    3067.0         2         1    1     202.0   \n",
       "1      2  1035000.0       2.5    3067.0         2         1    0     156.0   \n",
       "2      3  1465000.0       2.5    3067.0         3         2    0     134.0   \n",
       "3      3   850000.0       2.5    3067.0         3         2    1      94.0   \n",
       "4      4  1600000.0       2.5    3067.0         3         1    2     120.0   \n",
       "\n",
       "   BuildingArea  YearBuilt  Lattitude  Longtitude  Propertycount  \n",
       "0         126.0     1970.0   -37.7996    144.9984         4019.0  \n",
       "1          79.0     1900.0   -37.8079    144.9934         4019.0  \n",
       "2         150.0     1900.0   -37.8093    144.9944         4019.0  \n",
       "3         126.0     1970.0   -37.7969    144.9969         4019.0  \n",
       "4         142.0     2014.0   -37.8072    144.9941         4019.0  "
      ]
     },
     "execution_count": 20,
     "metadata": {},
     "output_type": "execute_result"
    }
   ],
   "source": [
    "# Menampilkan categorical dataframe\n",
    "numeric_columns.head()"
   ]
  },
  {
   "cell_type": "code",
   "execution_count": 21,
   "metadata": {},
   "outputs": [
    {
     "name": "stdout",
     "output_type": "stream",
     "text": [
      "cardinality kolom Suburb: 314\n",
      "cardinality kolom Address: 13378\n",
      "cardinality kolom Type: 3\n",
      "cardinality kolom Regionname: 8\n",
      "cardinality kolom Method: 5\n",
      "cardinality kolom SellerG: 268\n",
      "cardinality kolom CouncilArea: 33\n"
     ]
    }
   ],
   "source": [
    "# Menghitung cardinality (jumlah nilai unik) dari setiap kolom\n",
    "for i in category_columns.columns:\n",
    "    print(f'cardinality kolom {i}:', category_columns[i].nunique())"
   ]
  },
  {
   "cell_type": "markdown",
   "metadata": {},
   "source": [
    "## Feature Selection"
   ]
  },
  {
   "cell_type": "code",
   "execution_count": 22,
   "metadata": {},
   "outputs": [],
   "source": [
    "# Membagi kolom kategorikal dan numerikal\n",
    "cols_num = ['Rooms', 'Distance', 'Postcode', 'Bedroom2', 'Bathroom', 'Car', 'Landsize', \n",
    "            'BuildingArea', 'Lattitude', 'Longtitude', 'YearBuilt', 'Propertycount', 'Price']\n",
    "cols_cat = ['Suburb', 'Type', 'Regionname', 'Method', 'SellerG', 'CouncilArea']"
   ]
  },
  {
   "cell_type": "markdown",
   "metadata": {},
   "source": [
    "### Analysis Correlation"
   ]
  },
  {
   "cell_type": "markdown",
   "metadata": {},
   "source": [
    "#### Numerical Column"
   ]
  },
  {
   "cell_type": "code",
   "execution_count": 23,
   "metadata": {},
   "outputs": [
    {
     "data": {
      "text/plain": [
       "<Axes: >"
      ]
     },
     "execution_count": 23,
     "metadata": {},
     "output_type": "execute_result"
    },
    {
     "data": {
      "image/png": "[encoded data removed]",
      "text/plain": [
       "<Figure size 2000x2000 with 2 Axes>"
      ]
     },
     "metadata": {},
     "output_type": "display_data"
    }
   ],
   "source": [
    "# Melakukan plot temp_numeric_cols kedalam heatmap\n",
    "plt.figure(figsize=(20,20)) #mengatur ukuran figure\n",
    "sns.heatmap(df[cols_num].corr(method='pearson'),annot=True)"
   ]
  },
  {
   "cell_type": "markdown",
   "metadata": {},
   "source": [
    "`INSIGHT`:\n",
    "\n",
    "Threshold yang kami gunakan adalah 0.03 . Artinya saya akan mengambil kolom dengan korelasi yang < -0.03 dan > 0.03 terhadap kolom price.\n",
    "\n",
    "Dari Heatmap correlation dapat dilihat yang korelasinya cukup besar dengan harga rumah adalah :\n",
    "- Rooms\n",
    "- Distance\n",
    "- Bedroom2\n",
    "- Bathroom\n",
    "- Car\n",
    "- Landsize\n",
    "- YearBuilt\n",
    "- BuildingArea"
   ]
  },
  {
   "cell_type": "markdown",
   "metadata": {},
   "source": [
    "#### Categorical Column"
   ]
  },
  {
   "cell_type": "code",
   "execution_count": 24,
   "metadata": {},
   "outputs": [
    {
     "name": "stdout",
     "output_type": "stream",
     "text": [
      "Suburb: \n",
      "Korelasi Kendall: -0.09558001346599293\n",
      "P-value: 5.072341924864206e-62\n",
      "\n",
      "Type: \n",
      "Korelasi Kendall: -0.4242524900450961\n",
      "P-value: 0.0\n",
      "\n",
      "Regionname: \n",
      "Korelasi Kendall: -0.008002296253473621\n",
      "P-value: 0.2115616249971648\n",
      "\n",
      "Method: \n",
      "Korelasi Kendall: -0.055993710137258665\n",
      "P-value: 3.5994260831017124e-17\n",
      "\n",
      "SellerG: \n",
      "Korelasi Kendall: -0.03617441500929517\n",
      "P-value: 6.698442424774521e-10\n",
      "\n",
      "CouncilArea: \n",
      "Korelasi Kendall: -0.04000359197156722\n",
      "P-value: 1.4913546394626992e-11\n",
      "\n"
     ]
    }
   ],
   "source": [
    "nilai = []\n",
    "\n",
    "for kolom in cols_cat:\n",
    "    kendall_corr, p_value = stats.kendalltau(df['Price'], df[kolom])\n",
    "    nilai.append((kolom, kendall_corr, p_value))\n",
    "\n",
    "for i in nilai:\n",
    "    kolom, kendall_corr, p_value = i\n",
    "    print(f'{kolom}: \\nKorelasi Kendall: {kendall_corr}\\nP-value: {p_value}\\n')"
   ]
  },
  {
   "cell_type": "markdown",
   "metadata": {},
   "source": [
    "`INSIGHT`:\n",
    "\n",
    "Dari hasil korelasi kolom kategorikal dengan target 'Price' dipilih beberapa feature dengan korelasi tertinggi :\n",
    "\n",
    "- Type memiliki korelasi Kendall dengan nilai -0.4242524900450961, yang merupakan korelasi paling tinggi secara negatif.\n",
    "- Method memiliki korelasi Kendall -0.055993710137258665 dengan p-value sekitar 3.5994260831017124e-17."
   ]
  },
  {
   "cell_type": "markdown",
   "metadata": {},
   "source": [
    "#### Kesimpulan"
   ]
  },
  {
   "cell_type": "markdown",
   "metadata": {},
   "source": [
    "Feature yang dipilih untuk dimasukan kedalam model adalah :\n",
    "1. Type (Kategorikal)\n",
    "2. Method (Kategorikal)\n",
    "3. Rooms (Numerikal)\n",
    "4. Distance (Numerikal)\n",
    "5. Bedroom2 (Numerikal)\n",
    "6. Bathroom (Numerikal)\n",
    "7. Car (Numerikal)\n",
    "8. YearBuilt (Numerikal)\n",
    "9. BuildingArea (Numerikal)"
   ]
  },
  {
   "cell_type": "code",
   "execution_count": 25,
   "metadata": {},
   "outputs": [
    {
     "data": {
      "text/html": [
       "<div>\n",
       "<style scoped>\n",
       "    .dataframe tbody tr th:only-of-type {\n",
       "        vertical-align: middle;\n",
       "    }\n",
       "\n",
       "    .dataframe tbody tr th {\n",
       "        vertical-align: top;\n",
       "    }\n",
       "\n",
       "    .dataframe thead th {\n",
       "        text-align: right;\n",
       "    }\n",
       "</style>\n",
       "<table border=\"1\" class=\"dataframe\">\n",
       "  <thead>\n",
       "    <tr style=\"text-align: right;\">\n",
       "      <th></th>\n",
       "      <th>Type</th>\n",
       "      <th>Method</th>\n",
       "      <th>Rooms</th>\n",
       "      <th>Distance</th>\n",
       "      <th>Bedroom2</th>\n",
       "      <th>Bathroom</th>\n",
       "      <th>Car</th>\n",
       "      <th>Landsize</th>\n",
       "      <th>YearBuilt</th>\n",
       "      <th>BuildingArea</th>\n",
       "      <th>Price</th>\n",
       "    </tr>\n",
       "  </thead>\n",
       "  <tbody>\n",
       "    <tr>\n",
       "      <th>0</th>\n",
       "      <td>h</td>\n",
       "      <td>S</td>\n",
       "      <td>2</td>\n",
       "      <td>2.5</td>\n",
       "      <td>2</td>\n",
       "      <td>1</td>\n",
       "      <td>1</td>\n",
       "      <td>202.0</td>\n",
       "      <td>1970.0</td>\n",
       "      <td>126.0</td>\n",
       "      <td>1480000.0</td>\n",
       "    </tr>\n",
       "    <tr>\n",
       "      <th>1</th>\n",
       "      <td>h</td>\n",
       "      <td>S</td>\n",
       "      <td>2</td>\n",
       "      <td>2.5</td>\n",
       "      <td>2</td>\n",
       "      <td>1</td>\n",
       "      <td>0</td>\n",
       "      <td>156.0</td>\n",
       "      <td>1900.0</td>\n",
       "      <td>79.0</td>\n",
       "      <td>1035000.0</td>\n",
       "    </tr>\n",
       "    <tr>\n",
       "      <th>2</th>\n",
       "      <td>h</td>\n",
       "      <td>SP</td>\n",
       "      <td>3</td>\n",
       "      <td>2.5</td>\n",
       "      <td>3</td>\n",
       "      <td>2</td>\n",
       "      <td>0</td>\n",
       "      <td>134.0</td>\n",
       "      <td>1900.0</td>\n",
       "      <td>150.0</td>\n",
       "      <td>1465000.0</td>\n",
       "    </tr>\n",
       "    <tr>\n",
       "      <th>3</th>\n",
       "      <td>h</td>\n",
       "      <td>PI</td>\n",
       "      <td>3</td>\n",
       "      <td>2.5</td>\n",
       "      <td>3</td>\n",
       "      <td>2</td>\n",
       "      <td>1</td>\n",
       "      <td>94.0</td>\n",
       "      <td>1970.0</td>\n",
       "      <td>126.0</td>\n",
       "      <td>850000.0</td>\n",
       "    </tr>\n",
       "    <tr>\n",
       "      <th>4</th>\n",
       "      <td>h</td>\n",
       "      <td>VB</td>\n",
       "      <td>4</td>\n",
       "      <td>2.5</td>\n",
       "      <td>3</td>\n",
       "      <td>1</td>\n",
       "      <td>2</td>\n",
       "      <td>120.0</td>\n",
       "      <td>2014.0</td>\n",
       "      <td>142.0</td>\n",
       "      <td>1600000.0</td>\n",
       "    </tr>\n",
       "  </tbody>\n",
       "</table>\n",
       "</div>"
      ],
      "text/plain": [
       "  Type Method  Rooms  Distance  Bedroom2  Bathroom  Car  Landsize  YearBuilt  \\\n",
       "0    h      S      2       2.5         2         1    1     202.0     1970.0   \n",
       "1    h      S      2       2.5         2         1    0     156.0     1900.0   \n",
       "2    h     SP      3       2.5         3         2    0     134.0     1900.0   \n",
       "3    h     PI      3       2.5         3         2    1      94.0     1970.0   \n",
       "4    h     VB      4       2.5         3         1    2     120.0     2014.0   \n",
       "\n",
       "   BuildingArea      Price  \n",
       "0         126.0  1480000.0  \n",
       "1          79.0  1035000.0  \n",
       "2         150.0  1465000.0  \n",
       "3         126.0   850000.0  \n",
       "4         142.0  1600000.0  "
      ]
     },
     "execution_count": 25,
     "metadata": {},
     "output_type": "execute_result"
    }
   ],
   "source": [
    "# Masukan feature selected kedalam dataframe baru\n",
    "slc_after_corr = df[['Type', 'Method', 'Rooms', 'Distance', 'Bedroom2', 'Bathroom', 'Car', 'Landsize', 'YearBuilt', 'BuildingArea','Price']]\n",
    "slc_after_corr.head(5)"
   ]
  },
  {
   "cell_type": "markdown",
   "metadata": {},
   "source": [
    "Berhasil membuat dataframe baru bernama slc_after_corr berisi feature-feature yang sudah dipilih berdasarkan nilai korelasi dengan kolom Price dan juga business knowledge."
   ]
  },
  {
   "cell_type": "markdown",
   "metadata": {},
   "source": [
    "### VIF"
   ]
  },
  {
   "cell_type": "markdown",
   "metadata": {},
   "source": [
    "VIF (Variance Inflation Factor) digunakan dalam analisis regresi untuk menilai seberapa kuat korelasi antara variabel independen (predictor) dalam model regresi. VIF membantu dalam mendeteksi multikolinearitas, yaitu kondisi di mana dua atau lebih variabel independen saling terkorelasi satu sama lain.\n",
    "\n",
    "VIF dihitung untuk setiap variabel dalam model regresi dan memberikan perkiraan seberapa banyak varians dari sebuah koefisien regresi ditingkatkan karena korelasi dengan variabel lain. Semakin tinggi nilai VIF, semakin tinggi tingkat multikolinearitas dalam variabel tersebut."
   ]
  },
  {
   "cell_type": "code",
   "execution_count": 26,
   "metadata": {},
   "outputs": [
    {
     "data": {
      "text/html": [
       "<div>\n",
       "<style scoped>\n",
       "    .dataframe tbody tr th:only-of-type {\n",
       "        vertical-align: middle;\n",
       "    }\n",
       "\n",
       "    .dataframe tbody tr th {\n",
       "        vertical-align: top;\n",
       "    }\n",
       "\n",
       "    .dataframe thead th {\n",
       "        text-align: right;\n",
       "    }\n",
       "</style>\n",
       "<table border=\"1\" class=\"dataframe\">\n",
       "  <thead>\n",
       "    <tr style=\"text-align: right;\">\n",
       "      <th></th>\n",
       "      <th>variables</th>\n",
       "      <th>VIF</th>\n",
       "    </tr>\n",
       "  </thead>\n",
       "  <tbody>\n",
       "    <tr>\n",
       "      <th>0</th>\n",
       "      <td>Bedroom2</td>\n",
       "      <td>13.186242</td>\n",
       "    </tr>\n",
       "    <tr>\n",
       "      <th>1</th>\n",
       "      <td>Bathroom</td>\n",
       "      <td>8.931035</td>\n",
       "    </tr>\n",
       "    <tr>\n",
       "      <th>2</th>\n",
       "      <td>Distance</td>\n",
       "      <td>4.245401</td>\n",
       "    </tr>\n",
       "    <tr>\n",
       "      <th>3</th>\n",
       "      <td>Car</td>\n",
       "      <td>4.665894</td>\n",
       "    </tr>\n",
       "    <tr>\n",
       "      <th>4</th>\n",
       "      <td>Landsize</td>\n",
       "      <td>1.029815</td>\n",
       "    </tr>\n",
       "    <tr>\n",
       "      <th>5</th>\n",
       "      <td>BuildingArea</td>\n",
       "      <td>1.151101</td>\n",
       "    </tr>\n",
       "  </tbody>\n",
       "</table>\n",
       "</div>"
      ],
      "text/plain": [
       "      variables        VIF\n",
       "0      Bedroom2  13.186242\n",
       "1      Bathroom   8.931035\n",
       "2      Distance   4.245401\n",
       "3           Car   4.665894\n",
       "4      Landsize   1.029815\n",
       "5  BuildingArea   1.151101"
      ]
     },
     "execution_count": 26,
     "metadata": {},
     "output_type": "execute_result"
    }
   ],
   "source": [
    "# Membuat fungsi untuk menghitung Variance Inflation Factor\n",
    "\n",
    "def calc_vif(X):\n",
    "    vif = pd.DataFrame()\n",
    "    vif[\"variables\"] = X.columns\n",
    "    vif[\"VIF\"] = [variance_inflation_factor(X.values, i) for i in range(X.shape[1])]\n",
    "\n",
    "    return(vif)\n",
    "\n",
    "# saya tidak memasukan kolom name karena menggunakan metode one hot encoding\n",
    "\n",
    "# Define kolom yang dibutuhkan\n",
    "data_VIF = slc_after_corr[['Bedroom2','Bathroom','Distance', 'Car', 'Landsize', 'BuildingArea']]\n",
    "\n",
    "\n",
    "# Check Multicolinearity in X\n",
    "\n",
    "calc_vif(data_VIF)"
   ]
  },
  {
   "cell_type": "code",
   "execution_count": 29,
   "metadata": {},
   "outputs": [
    {
     "data": {
      "text/html": [
       "<div>\n",
       "<style scoped>\n",
       "    .dataframe tbody tr th:only-of-type {\n",
       "        vertical-align: middle;\n",
       "    }\n",
       "\n",
       "    .dataframe tbody tr th {\n",
       "        vertical-align: top;\n",
       "    }\n",
       "\n",
       "    .dataframe thead th {\n",
       "        text-align: right;\n",
       "    }\n",
       "</style>\n",
       "<table border=\"1\" class=\"dataframe\">\n",
       "  <thead>\n",
       "    <tr style=\"text-align: right;\">\n",
       "      <th></th>\n",
       "      <th>Type</th>\n",
       "      <th>Method</th>\n",
       "      <th>Bedroom2</th>\n",
       "      <th>Bathroom</th>\n",
       "      <th>Distance</th>\n",
       "      <th>Car</th>\n",
       "      <th>Landsize</th>\n",
       "      <th>BuildingArea</th>\n",
       "      <th>Price</th>\n",
       "    </tr>\n",
       "  </thead>\n",
       "  <tbody>\n",
       "    <tr>\n",
       "      <th>0</th>\n",
       "      <td>h</td>\n",
       "      <td>S</td>\n",
       "      <td>2</td>\n",
       "      <td>1</td>\n",
       "      <td>2.5</td>\n",
       "      <td>1</td>\n",
       "      <td>202.0</td>\n",
       "      <td>126.0</td>\n",
       "      <td>1480000.0</td>\n",
       "    </tr>\n",
       "    <tr>\n",
       "      <th>1</th>\n",
       "      <td>h</td>\n",
       "      <td>S</td>\n",
       "      <td>2</td>\n",
       "      <td>1</td>\n",
       "      <td>2.5</td>\n",
       "      <td>0</td>\n",
       "      <td>156.0</td>\n",
       "      <td>79.0</td>\n",
       "      <td>1035000.0</td>\n",
       "    </tr>\n",
       "    <tr>\n",
       "      <th>2</th>\n",
       "      <td>h</td>\n",
       "      <td>SP</td>\n",
       "      <td>3</td>\n",
       "      <td>2</td>\n",
       "      <td>2.5</td>\n",
       "      <td>0</td>\n",
       "      <td>134.0</td>\n",
       "      <td>150.0</td>\n",
       "      <td>1465000.0</td>\n",
       "    </tr>\n",
       "    <tr>\n",
       "      <th>3</th>\n",
       "      <td>h</td>\n",
       "      <td>PI</td>\n",
       "      <td>3</td>\n",
       "      <td>2</td>\n",
       "      <td>2.5</td>\n",
       "      <td>1</td>\n",
       "      <td>94.0</td>\n",
       "      <td>126.0</td>\n",
       "      <td>850000.0</td>\n",
       "    </tr>\n",
       "    <tr>\n",
       "      <th>4</th>\n",
       "      <td>h</td>\n",
       "      <td>VB</td>\n",
       "      <td>3</td>\n",
       "      <td>1</td>\n",
       "      <td>2.5</td>\n",
       "      <td>2</td>\n",
       "      <td>120.0</td>\n",
       "      <td>142.0</td>\n",
       "      <td>1600000.0</td>\n",
       "    </tr>\n",
       "  </tbody>\n",
       "</table>\n",
       "</div>"
      ],
      "text/plain": [
       "  Type Method  Bedroom2  Bathroom  Distance  Car  Landsize  BuildingArea  \\\n",
       "0    h      S         2         1       2.5    1     202.0         126.0   \n",
       "1    h      S         2         1       2.5    0     156.0          79.0   \n",
       "2    h     SP         3         2       2.5    0     134.0         150.0   \n",
       "3    h     PI         3         2       2.5    1      94.0         126.0   \n",
       "4    h     VB         3         1       2.5    2     120.0         142.0   \n",
       "\n",
       "       Price  \n",
       "0  1480000.0  \n",
       "1  1035000.0  \n",
       "2  1465000.0  \n",
       "3   850000.0  \n",
       "4  1600000.0  "
      ]
     },
     "execution_count": 29,
     "metadata": {},
     "output_type": "execute_result"
    }
   ],
   "source": [
    "# Masukan feature selected setelah dilakukan VIF kedalam dataframe baru\n",
    "new_features_aftr_vif = slc_after_corr[['Type', 'Method', 'Bedroom2','Bathroom','Distance', 'Car', 'Landsize', 'BuildingArea', 'Price']]\n",
    "new_features_aftr_vif.head(5)"
   ]
  },
  {
   "cell_type": "markdown",
   "metadata": {},
   "source": [
    "## Split Data"
   ]
  },
  {
   "cell_type": "code",
   "execution_count": 30,
   "metadata": {},
   "outputs": [],
   "source": [
    "# Membagi data hasil pemilihan feature kedalam X(feature) dan y(target)\n",
    "X = new_features_aftr_vif.drop(['Price'], axis=1)\n",
    "y = new_features_aftr_vif['Price']"
   ]
  },
  {
   "cell_type": "code",
   "execution_count": 31,
   "metadata": {},
   "outputs": [
    {
     "name": "stdout",
     "output_type": "stream",
     "text": [
      "Train size (9506, 8)\n",
      "Test size (4074, 8)\n"
     ]
    },
    {
     "data": {
      "text/html": [
       "<div>\n",
       "<style scoped>\n",
       "    .dataframe tbody tr th:only-of-type {\n",
       "        vertical-align: middle;\n",
       "    }\n",
       "\n",
       "    .dataframe tbody tr th {\n",
       "        vertical-align: top;\n",
       "    }\n",
       "\n",
       "    .dataframe thead th {\n",
       "        text-align: right;\n",
       "    }\n",
       "</style>\n",
       "<table border=\"1\" class=\"dataframe\">\n",
       "  <thead>\n",
       "    <tr style=\"text-align: right;\">\n",
       "      <th></th>\n",
       "      <th>Type</th>\n",
       "      <th>Method</th>\n",
       "      <th>Bedroom2</th>\n",
       "      <th>Bathroom</th>\n",
       "      <th>Distance</th>\n",
       "      <th>Car</th>\n",
       "      <th>Landsize</th>\n",
       "      <th>BuildingArea</th>\n",
       "    </tr>\n",
       "  </thead>\n",
       "  <tbody>\n",
       "    <tr>\n",
       "      <th>9520</th>\n",
       "      <td>u</td>\n",
       "      <td>S</td>\n",
       "      <td>2</td>\n",
       "      <td>1</td>\n",
       "      <td>7.2</td>\n",
       "      <td>1</td>\n",
       "      <td>0.0</td>\n",
       "      <td>87.0</td>\n",
       "    </tr>\n",
       "    <tr>\n",
       "      <th>6863</th>\n",
       "      <td>u</td>\n",
       "      <td>SP</td>\n",
       "      <td>2</td>\n",
       "      <td>1</td>\n",
       "      <td>1.5</td>\n",
       "      <td>1</td>\n",
       "      <td>0.0</td>\n",
       "      <td>126.0</td>\n",
       "    </tr>\n",
       "    <tr>\n",
       "      <th>708</th>\n",
       "      <td>h</td>\n",
       "      <td>S</td>\n",
       "      <td>3</td>\n",
       "      <td>1</td>\n",
       "      <td>13.0</td>\n",
       "      <td>1</td>\n",
       "      <td>576.0</td>\n",
       "      <td>127.0</td>\n",
       "    </tr>\n",
       "    <tr>\n",
       "      <th>8554</th>\n",
       "      <td>h</td>\n",
       "      <td>S</td>\n",
       "      <td>3</td>\n",
       "      <td>1</td>\n",
       "      <td>13.5</td>\n",
       "      <td>1</td>\n",
       "      <td>594.0</td>\n",
       "      <td>126.0</td>\n",
       "    </tr>\n",
       "    <tr>\n",
       "      <th>3</th>\n",
       "      <td>h</td>\n",
       "      <td>PI</td>\n",
       "      <td>3</td>\n",
       "      <td>2</td>\n",
       "      <td>2.5</td>\n",
       "      <td>1</td>\n",
       "      <td>94.0</td>\n",
       "      <td>126.0</td>\n",
       "    </tr>\n",
       "  </tbody>\n",
       "</table>\n",
       "</div>"
      ],
      "text/plain": [
       "     Type Method  Bedroom2  Bathroom  Distance  Car  Landsize  BuildingArea\n",
       "9520    u      S         2         1       7.2    1       0.0          87.0\n",
       "6863    u     SP         2         1       1.5    1       0.0         126.0\n",
       "708     h      S         3         1      13.0    1     576.0         127.0\n",
       "8554    h      S         3         1      13.5    1     594.0         126.0\n",
       "3       h     PI         3         2       2.5    1      94.0         126.0"
      ]
     },
     "execution_count": 31,
     "metadata": {},
     "output_type": "execute_result"
    }
   ],
   "source": [
    "# Memisahkan antara Data Train dan Data Test\n",
    "X_train, X_test, y_train, y_test = train_test_split(\n",
    "    X, y, test_size=0.3, random_state=20)\n",
    "\n",
    "print('Train size', X_train.shape)\n",
    "print('Test size', X_test.shape)\n",
    "X_train.head()"
   ]
  },
  {
   "cell_type": "code",
   "execution_count": 32,
   "metadata": {},
   "outputs": [
    {
     "data": {
      "text/html": [
       "<div>\n",
       "<style scoped>\n",
       "    .dataframe tbody tr th:only-of-type {\n",
       "        vertical-align: middle;\n",
       "    }\n",
       "\n",
       "    .dataframe tbody tr th {\n",
       "        vertical-align: top;\n",
       "    }\n",
       "\n",
       "    .dataframe thead th {\n",
       "        text-align: right;\n",
       "    }\n",
       "</style>\n",
       "<table border=\"1\" class=\"dataframe\">\n",
       "  <thead>\n",
       "    <tr style=\"text-align: right;\">\n",
       "      <th></th>\n",
       "      <th>Distance</th>\n",
       "      <th>Car</th>\n",
       "      <th>Landsize</th>\n",
       "      <th>BuildingArea</th>\n",
       "      <th>Bedroom2</th>\n",
       "      <th>Bathroom</th>\n",
       "    </tr>\n",
       "  </thead>\n",
       "  <tbody>\n",
       "    <tr>\n",
       "      <th>4160</th>\n",
       "      <td>14.6</td>\n",
       "      <td>1</td>\n",
       "      <td>318.0</td>\n",
       "      <td>242.0</td>\n",
       "      <td>4</td>\n",
       "      <td>2</td>\n",
       "    </tr>\n",
       "    <tr>\n",
       "      <th>4963</th>\n",
       "      <td>8.8</td>\n",
       "      <td>2</td>\n",
       "      <td>227.0</td>\n",
       "      <td>126.0</td>\n",
       "      <td>3</td>\n",
       "      <td>2</td>\n",
       "    </tr>\n",
       "    <tr>\n",
       "      <th>9008</th>\n",
       "      <td>9.4</td>\n",
       "      <td>1</td>\n",
       "      <td>402.0</td>\n",
       "      <td>126.0</td>\n",
       "      <td>3</td>\n",
       "      <td>1</td>\n",
       "    </tr>\n",
       "    <tr>\n",
       "      <th>9036</th>\n",
       "      <td>17.3</td>\n",
       "      <td>2</td>\n",
       "      <td>947.0</td>\n",
       "      <td>126.0</td>\n",
       "      <td>5</td>\n",
       "      <td>3</td>\n",
       "    </tr>\n",
       "    <tr>\n",
       "      <th>9781</th>\n",
       "      <td>4.3</td>\n",
       "      <td>2</td>\n",
       "      <td>239.0</td>\n",
       "      <td>126.0</td>\n",
       "      <td>3</td>\n",
       "      <td>2</td>\n",
       "    </tr>\n",
       "  </tbody>\n",
       "</table>\n",
       "</div>"
      ],
      "text/plain": [
       "      Distance  Car  Landsize  BuildingArea  Bedroom2  Bathroom\n",
       "4160      14.6    1     318.0         242.0         4         2\n",
       "4963       8.8    2     227.0         126.0         3         2\n",
       "9008       9.4    1     402.0         126.0         3         1\n",
       "9036      17.3    2     947.0         126.0         5         3\n",
       "9781       4.3    2     239.0         126.0         3         2"
      ]
     },
     "execution_count": 32,
     "metadata": {},
     "output_type": "execute_result"
    }
   ],
   "source": [
    "# Membagi lagi data test dan train ke data kategorikal dan data numerikal\n",
    "\n",
    "# Data train numerikal\n",
    "X_train_num = X_train[['Distance', 'Car', 'Landsize', 'BuildingArea','Bedroom2','Bathroom']]\n",
    "\n",
    "# Data test numerikal\n",
    "X_test_num = X_test[['Distance', 'Car', 'Landsize', 'BuildingArea','Bedroom2','Bathroom']]\n",
    "X_test_num.head()"
   ]
  },
  {
   "cell_type": "code",
   "execution_count": 33,
   "metadata": {},
   "outputs": [
    {
     "data": {
      "text/html": [
       "<div>\n",
       "<style scoped>\n",
       "    .dataframe tbody tr th:only-of-type {\n",
       "        vertical-align: middle;\n",
       "    }\n",
       "\n",
       "    .dataframe tbody tr th {\n",
       "        vertical-align: top;\n",
       "    }\n",
       "\n",
       "    .dataframe thead th {\n",
       "        text-align: right;\n",
       "    }\n",
       "</style>\n",
       "<table border=\"1\" class=\"dataframe\">\n",
       "  <thead>\n",
       "    <tr style=\"text-align: right;\">\n",
       "      <th></th>\n",
       "      <th>Type</th>\n",
       "      <th>Method</th>\n",
       "    </tr>\n",
       "  </thead>\n",
       "  <tbody>\n",
       "    <tr>\n",
       "      <th>9520</th>\n",
       "      <td>u</td>\n",
       "      <td>S</td>\n",
       "    </tr>\n",
       "    <tr>\n",
       "      <th>6863</th>\n",
       "      <td>u</td>\n",
       "      <td>SP</td>\n",
       "    </tr>\n",
       "    <tr>\n",
       "      <th>708</th>\n",
       "      <td>h</td>\n",
       "      <td>S</td>\n",
       "    </tr>\n",
       "    <tr>\n",
       "      <th>8554</th>\n",
       "      <td>h</td>\n",
       "      <td>S</td>\n",
       "    </tr>\n",
       "    <tr>\n",
       "      <th>3</th>\n",
       "      <td>h</td>\n",
       "      <td>PI</td>\n",
       "    </tr>\n",
       "  </tbody>\n",
       "</table>\n",
       "</div>"
      ],
      "text/plain": [
       "     Type Method\n",
       "9520    u      S\n",
       "6863    u     SP\n",
       "708     h      S\n",
       "8554    h      S\n",
       "3       h     PI"
      ]
     },
     "execution_count": 33,
     "metadata": {},
     "output_type": "execute_result"
    }
   ],
   "source": [
    "# Data train categorical\n",
    "X_train_cat = X_train[['Type', 'Method']]\n",
    "\n",
    "# Data test categorical\n",
    "X_test_cat = X_test[['Type', 'Method']]\n",
    "\n",
    "X_train_cat.head()"
   ]
  },
  {
   "cell_type": "markdown",
   "metadata": {},
   "source": [
    "## Cek Distribusi Normal atau Skewness"
   ]
  },
  {
   "cell_type": "code",
   "execution_count": 34,
   "metadata": {},
   "outputs": [
    {
     "name": "stdout",
     "output_type": "stream",
     "text": [
      "Skewness of column Distance is 1.6860354012422436\n",
      "Skewness of column Car is 1.349071455453829\n",
      "Skewness of column Landsize is 33.645573801263936\n",
      "Skewness of column BuildingArea is 37.17569736079715\n",
      "Skewness of column Bedroom2 is 0.4292948232009099\n",
      "Skewness of column Bathroom is 1.4076155596893787\n"
     ]
    }
   ],
   "source": [
    "# For loop untuk melihat nilai skew dari semua kolom di X_train_num\n",
    "for i in X_train_num:\n",
    "    skew = X_train_num[i].skew()\n",
    "    print('Skewness of column', i, 'is', skew)"
   ]
  },
  {
   "cell_type": "markdown",
   "metadata": {},
   "source": [
    "Dari nilai skewness tersebut , lihat mana yang terdistribusi normal dan mana yang skewed."
   ]
  },
  {
   "cell_type": "code",
   "execution_count": 35,
   "metadata": {},
   "outputs": [],
   "source": [
    "normal = []  # untuk menampung kolom yang masuk dalam skewness normal\n",
    "skewed = []  # untuk menampung kolom yang masuk dalam skewness skewed\n",
    "\n",
    "for column in X_train_num.columns:  # untuk mencari kolom mana yang skewed atau normal\n",
    "    skewness = X_train_num[column].skew()\n",
    "    if skewness < -0.5 or skewness > 0.5:  # syarat\n",
    "        skewed.append(column)  # masuk ke variabel penampung skewed\n",
    "    elif skewness >= -0.5 or skewness <= 0.5:  # syarat\n",
    "        normal.append(column)  # masuk ke variabel penampung normal"
   ]
  },
  {
   "cell_type": "code",
   "execution_count": 36,
   "metadata": {},
   "outputs": [
    {
     "name": "stdout",
     "output_type": "stream",
     "text": [
      "Kolom yang termasuk distribusi normal adalah ['Bedroom2']\n",
      "Kolom yang termasuk distribusi skewed adalah ['Distance', 'Car', 'Landsize', 'BuildingArea', 'Bathroom']\n"
     ]
    }
   ],
   "source": [
    "print (f'Kolom yang termasuk distribusi normal adalah {normal}')\n",
    "print (f'Kolom yang termasuk distribusi skewed adalah {skewed}')"
   ]
  },
  {
   "cell_type": "markdown",
   "metadata": {},
   "source": [
    "Melihat jumlah outlier pada setiap kolom di X_train_num"
   ]
  },
  {
   "cell_type": "code",
   "execution_count": 37,
   "metadata": {},
   "outputs": [
    {
     "name": "stdout",
     "output_type": "stream",
     "text": [
      "Jumlah outlier dalam kolom Distance: 173 outlier\n",
      "Jumlah outlier dalam kolom Car: 96 outlier\n",
      "Jumlah outlier dalam kolom Landsize: 42 outlier\n",
      "Jumlah outlier dalam kolom BuildingArea: 61 outlier\n",
      "Jumlah outlier dalam kolom Bedroom2: 69 outlier\n",
      "Jumlah outlier dalam kolom Bathroom: 94 outlier\n"
     ]
    }
   ],
   "source": [
    "threshold = 3\n",
    "\n",
    "outlier_counts = {}\n",
    "\n",
    "for col in X_train_num.columns:\n",
    "    data_skew = X_train_num[col]\n",
    "    mean = np.mean(data_skew)\n",
    "    std_dev = np.std(data_skew)\n",
    "\n",
    "    upper_bound = mean + threshold * std_dev\n",
    "    lower_bound = mean - threshold * std_dev\n",
    "\n",
    "    outliers = np.where((data_skew > upper_bound) | (data_skew < lower_bound))\n",
    "    \n",
    "    outlier_counts[col] = len(outliers[0])\n",
    "\n",
    "for col, count in outlier_counts.items():\n",
    "    print(f\"Jumlah outlier dalam kolom {col}: {count} outlier\")"
   ]
  },
  {
   "cell_type": "markdown",
   "metadata": {},
   "source": [
    "Melihat persentase outlier pada kolom X_train_num"
   ]
  },
  {
   "cell_type": "code",
   "execution_count": 38,
   "metadata": {},
   "outputs": [
    {
     "name": "stdout",
     "output_type": "stream",
     "text": [
      "Percentage of outliers in column Distance: 1.82%\n",
      "Percentage of outliers in column Car: 1.01%\n",
      "Percentage of outliers in column Landsize: 0.44%\n",
      "Percentage of outliers in column BuildingArea: 0.64%\n",
      "Percentage of outliers in column Bedroom2: 0.73%\n",
      "Percentage of outliers in column Bathroom: 0.99%\n"
     ]
    }
   ],
   "source": [
    "# Set the threshold for identifying outliers\n",
    "threshold = 3\n",
    "\n",
    "# Initialize a dictionary to store outlier percentages for each numerical column\n",
    "outlier_percentages = {}\n",
    "\n",
    "# Iterate through each column in X_train_num\n",
    "for col in X_train_num.columns:\n",
    "    data_skew = X_train_num[col]\n",
    "    mean = np.mean(data_skew)\n",
    "    std_dev = np.std(data_skew)\n",
    "\n",
    "    upper_bound = mean + threshold * std_dev\n",
    "    lower_bound = mean - threshold * std_dev\n",
    "\n",
    "    # Identify outliers based on the threshold\n",
    "    outliers = np.where((data_skew > upper_bound) | (data_skew < lower_bound))\n",
    "    \n",
    "    # Calculate the percentage of outliers\n",
    "    total_data_points = len(data_skew)\n",
    "    percentage = (len(outliers[0]) / total_data_points) * 100\n",
    "    \n",
    "    # Store the percentage of outliers in the dictionary\n",
    "    outlier_percentages[col] = percentage\n",
    "\n",
    "# Print the percentage of outliers for each column\n",
    "for col, percentage in outlier_percentages.items():\n",
    "    print(f\"Percentage of outliers in column {col}: {percentage:.2f}%\")"
   ]
  },
  {
   "cell_type": "markdown",
   "metadata": {},
   "source": [
    "Semua outlier persentasenya dibawah 5 % , namun karena jumlah data hanya sekitar 13.000an data, kami tidak melakukan trimming karena ada kemungkinan akan membuat model kami kekurangan data untuk belajar. Sebagai gantinya kami akan melakukan capping dengan metode Gaussian untuk kolom 'Bedroom2' dan 'Bathroom' , dan menggunakan metode IQR untuk kolom 'Distance', 'Car', 'Landsize', dan 'BuildingArea' di proses pipeline."
   ]
  },
  {
   "cell_type": "markdown",
   "metadata": {},
   "source": [
    "## Pipeline Preprocessing"
   ]
  },
  {
   "cell_type": "markdown",
   "metadata": {},
   "source": [
    "Pipeline adalah salah satu fitur yang sangat berguna dalam scikit-learn di Python yang memungkinkan pengguna untuk menggabungkan beberapa tahapan pemrosesan data (seperti normalisasi, reduksi dimensi, dll.) dan model pembelajaran mesin (seperti regresi, klasifikasi, dll.) menjadi satu alur kerja yang dapat dieksekusi dengan mudah."
   ]
  },
  {
   "cell_type": "markdown",
   "metadata": {},
   "source": [
    "### Memasukan langkah-langkah yang akan digunakan pada preprocessing menggunakan `pipeline`"
   ]
  },
  {
   "cell_type": "code",
   "execution_count": 39,
   "metadata": {},
   "outputs": [],
   "source": [
    "# define kolom numerik yang akan di proses pada numerik features\n",
    "numeric_features = ['Distance', 'Car', 'Landsize', 'BuildingArea', 'Bathroom','Bedroom2']\n",
    "\n",
    "# membuat numeric transformer pipeline\n",
    "numeric_transformer = Pipeline(\n",
    "    steps=[\n",
    "        ('winsorizer Gaussian', Winsorizer(capping_method='gaussian', tail='both', fold=1.5, variables=['Bedroom2','Bathroom'])),\n",
    "        ('winsorizer iqr', Winsorizer(capping_method='iqr', tail='both', fold=1.5, variables=['Distance', 'Car', 'Landsize', 'BuildingArea'])), \n",
    "        ('scaler', StandardScaler())\n",
    "    ]\n",
    ")\n",
    "\n",
    "# Define categorical features\n",
    "categorical_features = ['Type', 'Method']\n",
    "\n",
    "# ordinal transformer pipeline\n",
    "categorical_transformer = Pipeline([\n",
    "        (('onehot', OneHotEncoder(handle_unknown='ignore')))\n",
    "    ]\n",
    ")"
   ]
  },
  {
   "cell_type": "markdown",
   "metadata": {},
   "source": [
    "### Menyatukan semua transformer menjadi column transformer dan dimasukan ke variabel bernama preprocessor"
   ]
  },
  {
   "cell_type": "code",
   "execution_count": 40,
   "metadata": {},
   "outputs": [
    {
     "data": {
      "text/html": [
       "<style>#sk-container-id-1 {color: black;}#sk-container-id-1 pre{padding: 0;}#sk-container-id-1 div.sk-toggleable {background-color: white;}#sk-container-id-1 label.sk-toggleable__label {cursor: pointer;display: block;width: 100%;margin-bottom: 0;padding: 0.3em;box-sizing: border-box;text-align: center;}#sk-container-id-1 label.sk-toggleable__label-arrow:before {content: \"▸\";float: left;margin-right: 0.25em;color: #696969;}#sk-container-id-1 label.sk-toggleable__label-arrow:hover:before {color: black;}#sk-container-id-1 div.sk-estimator:hover label.sk-toggleable__label-arrow:before {color: black;}#sk-container-id-1 div.sk-toggleable__content {max-height: 0;max-width: 0;overflow: hidden;text-align: left;background-color: #f0f8ff;}#sk-container-id-1 div.sk-toggleable__content pre {margin: 0.2em;color: black;border-radius: 0.25em;background-color: #f0f8ff;}#sk-container-id-1 input.sk-toggleable__control:checked~div.sk-toggleable__content {max-height: 200px;max-width: 100%;overflow: auto;}#sk-container-id-1 input.sk-toggleable__control:checked~label.sk-toggleable__label-arrow:before {content: \"▾\";}#sk-container-id-1 div.sk-estimator input.sk-toggleable__control:checked~label.sk-toggleable__label {background-color: #d4ebff;}#sk-container-id-1 div.sk-label input.sk-toggleable__control:checked~label.sk-toggleable__label {background-color: #d4ebff;}#sk-container-id-1 input.sk-hidden--visually {border: 0;clip: rect(1px 1px 1px 1px);clip: rect(1px, 1px, 1px, 1px);height: 1px;margin: -1px;overflow: hidden;padding: 0;position: absolute;width: 1px;}#sk-container-id-1 div.sk-estimator {font-family: monospace;background-color: #f0f8ff;border: 1px dotted black;border-radius: 0.25em;box-sizing: border-box;margin-bottom: 0.5em;}#sk-container-id-1 div.sk-estimator:hover {background-color: #d4ebff;}#sk-container-id-1 div.sk-parallel-item::after {content: \"\";width: 100%;border-bottom: 1px solid gray;flex-grow: 1;}#sk-container-id-1 div.sk-label:hover label.sk-toggleable__label {background-color: #d4ebff;}#sk-container-id-1 div.sk-serial::before {content: \"\";position: absolute;border-left: 1px solid gray;box-sizing: border-box;top: 0;bottom: 0;left: 50%;z-index: 0;}#sk-container-id-1 div.sk-serial {display: flex;flex-direction: column;align-items: center;background-color: white;padding-right: 0.2em;padding-left: 0.2em;position: relative;}#sk-container-id-1 div.sk-item {position: relative;z-index: 1;}#sk-container-id-1 div.sk-parallel {display: flex;align-items: stretch;justify-content: center;background-color: white;position: relative;}#sk-container-id-1 div.sk-item::before, #sk-container-id-1 div.sk-parallel-item::before {content: \"\";position: absolute;border-left: 1px solid gray;box-sizing: border-box;top: 0;bottom: 0;left: 50%;z-index: -1;}#sk-container-id-1 div.sk-parallel-item {display: flex;flex-direction: column;z-index: 1;position: relative;background-color: white;}#sk-container-id-1 div.sk-parallel-item:first-child::after {align-self: flex-end;width: 50%;}#sk-container-id-1 div.sk-parallel-item:last-child::after {align-self: flex-start;width: 50%;}#sk-container-id-1 div.sk-parallel-item:only-child::after {width: 0;}#sk-container-id-1 div.sk-dashed-wrapped {border: 1px dashed gray;margin: 0 0.4em 0.5em 0.4em;box-sizing: border-box;padding-bottom: 0.4em;background-color: white;}#sk-container-id-1 div.sk-label label {font-family: monospace;font-weight: bold;display: inline-block;line-height: 1.2em;}#sk-container-id-1 div.sk-label-container {text-align: center;}#sk-container-id-1 div.sk-container {/* jupyter's `normalize.less` sets `[hidden] { display: none; }` but bootstrap.min.css set `[hidden] { display: none !important; }` so we also need the `!important` here to be able to override the default hidden behavior on the sphinx rendered scikit-learn.org. See: https://github.com/scikit-learn/scikit-learn/issues/21755 */display: inline-block !important;position: relative;}#sk-container-id-1 div.sk-text-repr-fallback {display: none;}</style><div id=\"sk-container-id-1\" class=\"sk-top-container\"><div class=\"sk-text-repr-fallback\"><pre>ColumnTransformer(transformers=[(&#x27;Numerical&#x27;,\n",
       "                                 Pipeline(steps=[(&#x27;winsorizer Gaussian&#x27;,\n",
       "                                                  Winsorizer(fold=1.5,\n",
       "                                                             tail=&#x27;both&#x27;,\n",
       "                                                             variables=[&#x27;Bedroom2&#x27;,\n",
       "                                                                        &#x27;Bathroom&#x27;])),\n",
       "                                                 (&#x27;winsorizer iqr&#x27;,\n",
       "                                                  Winsorizer(capping_method=&#x27;iqr&#x27;,\n",
       "                                                             fold=1.5,\n",
       "                                                             tail=&#x27;both&#x27;,\n",
       "                                                             variables=[&#x27;Distance&#x27;,\n",
       "                                                                        &#x27;Car&#x27;,\n",
       "                                                                        &#x27;Landsize&#x27;,\n",
       "                                                                        &#x27;BuildingArea&#x27;])),\n",
       "                                                 (&#x27;scaler&#x27;, StandardScaler())]),\n",
       "                                 [&#x27;Distance&#x27;, &#x27;Car&#x27;, &#x27;Landsize&#x27;, &#x27;BuildingArea&#x27;,\n",
       "                                  &#x27;Bathroom&#x27;, &#x27;Bedroom2&#x27;]),\n",
       "                                (&#x27;Categorical&#x27;,\n",
       "                                 Pipeline(steps=[(&#x27;onehot&#x27;,\n",
       "                                                  OneHotEncoder(handle_unknown=&#x27;ignore&#x27;))]),\n",
       "                                 [&#x27;Type&#x27;, &#x27;Method&#x27;])])</pre><b>In a Jupyter environment, please rerun this cell to show the HTML representation or trust the notebook. <br />On GitHub, the HTML representation is unable to render, please try loading this page with nbviewer.org.</b></div><div class=\"sk-container\" hidden><div class=\"sk-item sk-dashed-wrapped\"><div class=\"sk-label-container\"><div class=\"sk-label sk-toggleable\"><input class=\"sk-toggleable__control sk-hidden--visually\" id=\"sk-estimator-id-1\" type=\"checkbox\" ><label for=\"sk-estimator-id-1\" class=\"sk-toggleable__label sk-toggleable__label-arrow\">ColumnTransformer</label><div class=\"sk-toggleable__content\"><pre>ColumnTransformer(transformers=[(&#x27;Numerical&#x27;,\n",
       "                                 Pipeline(steps=[(&#x27;winsorizer Gaussian&#x27;,\n",
       "                                                  Winsorizer(fold=1.5,\n",
       "                                                             tail=&#x27;both&#x27;,\n",
       "                                                             variables=[&#x27;Bedroom2&#x27;,\n",
       "                                                                        &#x27;Bathroom&#x27;])),\n",
       "                                                 (&#x27;winsorizer iqr&#x27;,\n",
       "                                                  Winsorizer(capping_method=&#x27;iqr&#x27;,\n",
       "                                                             fold=1.5,\n",
       "                                                             tail=&#x27;both&#x27;,\n",
       "                                                             variables=[&#x27;Distance&#x27;,\n",
       "                                                                        &#x27;Car&#x27;,\n",
       "                                                                        &#x27;Landsize&#x27;,\n",
       "                                                                        &#x27;BuildingArea&#x27;])),\n",
       "                                                 (&#x27;scaler&#x27;, StandardScaler())]),\n",
       "                                 [&#x27;Distance&#x27;, &#x27;Car&#x27;, &#x27;Landsize&#x27;, &#x27;BuildingArea&#x27;,\n",
       "                                  &#x27;Bathroom&#x27;, &#x27;Bedroom2&#x27;]),\n",
       "                                (&#x27;Categorical&#x27;,\n",
       "                                 Pipeline(steps=[(&#x27;onehot&#x27;,\n",
       "                                                  OneHotEncoder(handle_unknown=&#x27;ignore&#x27;))]),\n",
       "                                 [&#x27;Type&#x27;, &#x27;Method&#x27;])])</pre></div></div></div><div class=\"sk-parallel\"><div class=\"sk-parallel-item\"><div class=\"sk-item\"><div class=\"sk-label-container\"><div class=\"sk-label sk-toggleable\"><input class=\"sk-toggleable__control sk-hidden--visually\" id=\"sk-estimator-id-2\" type=\"checkbox\" ><label for=\"sk-estimator-id-2\" class=\"sk-toggleable__label sk-toggleable__label-arrow\">Numerical</label><div class=\"sk-toggleable__content\"><pre>[&#x27;Distance&#x27;, &#x27;Car&#x27;, &#x27;Landsize&#x27;, &#x27;BuildingArea&#x27;, &#x27;Bathroom&#x27;, &#x27;Bedroom2&#x27;]</pre></div></div></div><div class=\"sk-serial\"><div class=\"sk-item\"><div class=\"sk-serial\"><div class=\"sk-item\"><div class=\"sk-estimator sk-toggleable\"><input class=\"sk-toggleable__control sk-hidden--visually\" id=\"sk-estimator-id-3\" type=\"checkbox\" ><label for=\"sk-estimator-id-3\" class=\"sk-toggleable__label sk-toggleable__label-arrow\">Winsorizer</label><div class=\"sk-toggleable__content\"><pre>Winsorizer(fold=1.5, tail=&#x27;both&#x27;, variables=[&#x27;Bedroom2&#x27;, &#x27;Bathroom&#x27;])</pre></div></div></div><div class=\"sk-item\"><div class=\"sk-estimator sk-toggleable\"><input class=\"sk-toggleable__control sk-hidden--visually\" id=\"sk-estimator-id-4\" type=\"checkbox\" ><label for=\"sk-estimator-id-4\" class=\"sk-toggleable__label sk-toggleable__label-arrow\">Winsorizer</label><div class=\"sk-toggleable__content\"><pre>Winsorizer(capping_method=&#x27;iqr&#x27;, fold=1.5, tail=&#x27;both&#x27;,\n",
       "           variables=[&#x27;Distance&#x27;, &#x27;Car&#x27;, &#x27;Landsize&#x27;, &#x27;BuildingArea&#x27;])</pre></div></div></div><div class=\"sk-item\"><div class=\"sk-estimator sk-toggleable\"><input class=\"sk-toggleable__control sk-hidden--visually\" id=\"sk-estimator-id-5\" type=\"checkbox\" ><label for=\"sk-estimator-id-5\" class=\"sk-toggleable__label sk-toggleable__label-arrow\">StandardScaler</label><div class=\"sk-toggleable__content\"><pre>StandardScaler()</pre></div></div></div></div></div></div></div></div><div class=\"sk-parallel-item\"><div class=\"sk-item\"><div class=\"sk-label-container\"><div class=\"sk-label sk-toggleable\"><input class=\"sk-toggleable__control sk-hidden--visually\" id=\"sk-estimator-id-6\" type=\"checkbox\" ><label for=\"sk-estimator-id-6\" class=\"sk-toggleable__label sk-toggleable__label-arrow\">Categorical</label><div class=\"sk-toggleable__content\"><pre>[&#x27;Type&#x27;, &#x27;Method&#x27;]</pre></div></div></div><div class=\"sk-serial\"><div class=\"sk-item\"><div class=\"sk-serial\"><div class=\"sk-item\"><div class=\"sk-estimator sk-toggleable\"><input class=\"sk-toggleable__control sk-hidden--visually\" id=\"sk-estimator-id-7\" type=\"checkbox\" ><label for=\"sk-estimator-id-7\" class=\"sk-toggleable__label sk-toggleable__label-arrow\">OneHotEncoder</label><div class=\"sk-toggleable__content\"><pre>OneHotEncoder(handle_unknown=&#x27;ignore&#x27;)</pre></div></div></div></div></div></div></div></div></div></div></div></div>"
      ],
      "text/plain": [
       "ColumnTransformer(transformers=[('Numerical',\n",
       "                                 Pipeline(steps=[('winsorizer Gaussian',\n",
       "                                                  Winsorizer(fold=1.5,\n",
       "                                                             tail='both',\n",
       "                                                             variables=['Bedroom2',\n",
       "                                                                        'Bathroom'])),\n",
       "                                                 ('winsorizer iqr',\n",
       "                                                  Winsorizer(capping_method='iqr',\n",
       "                                                             fold=1.5,\n",
       "                                                             tail='both',\n",
       "                                                             variables=['Distance',\n",
       "                                                                        'Car',\n",
       "                                                                        'Landsize',\n",
       "                                                                        'BuildingArea'])),\n",
       "                                                 ('scaler', StandardScaler())]),\n",
       "                                 ['Distance', 'Car', 'Landsize', 'BuildingArea',\n",
       "                                  'Bathroom', 'Bedroom2']),\n",
       "                                ('Categorical',\n",
       "                                 Pipeline(steps=[('onehot',\n",
       "                                                  OneHotEncoder(handle_unknown='ignore'))]),\n",
       "                                 ['Type', 'Method'])])"
      ]
     },
     "execution_count": 40,
     "metadata": {},
     "output_type": "execute_result"
    }
   ],
   "source": [
    "#ColumnTransformer for preprocessing\n",
    "preprocessor = ColumnTransformer([\n",
    "        ('Numerical', numeric_transformer, numeric_features),\n",
    "        ('Categorical', categorical_transformer, categorical_features)\n",
    "    ])\n",
    "\n",
    "preprocessor"
   ]
  },
  {
   "cell_type": "markdown",
   "metadata": {},
   "source": [
    "Berhasil untuk membuat pipeline Column Transformer untuk preprocessing, Prosesnya adalah untuk data numerikal akan dilakukan capping gaussian dan iqr(sesuai dengan jenis distribusi datanya), setelah itu dilakukan scaling menggunakan Standar scaler. Untuk Kolom Kategorikal dilakukan one hot encoder pada kolom kategorikal"
   ]
  },
  {
   "cell_type": "markdown",
   "metadata": {},
   "source": [
    "# Model Definition"
   ]
  },
  {
   "cell_type": "markdown",
   "metadata": {},
   "source": [
    "Pada tahap kali ini kami akan menggunakan 6 model:\n",
    "- KNN Regressor\n",
    "- SVR (Support Vector Reggresor)\n",
    "- DecisionTree Regressor\n",
    "- RandomForest Regressor\n",
    "- AdaBoost Regressor\n",
    "- Linear Regression"
   ]
  },
  {
   "cell_type": "markdown",
   "metadata": {},
   "source": [
    "## Membuat pipeline untuk masing-masing model"
   ]
  },
  {
   "cell_type": "code",
   "execution_count": 32,
   "metadata": {},
   "outputs": [],
   "source": [
    "#pipeline untuk linear regression\n",
    "pipe_linreg = Pipeline([\n",
    "    ('transormer', preprocessor),\n",
    "    ('regressor', LinearRegression())\n",
    "])\n",
    "\n",
    "#pipeline untuk KNN\n",
    "pipe_knn = Pipeline([\n",
    "    ('transormer', preprocessor),\n",
    "    ('regressor', KNeighborsRegressor())\n",
    "])\n",
    "\n",
    "#pipeline untuk decision tree regressor\n",
    "pipe_dtr = Pipeline([\n",
    "    ('transormer', preprocessor),\n",
    "    ('regressor', DecisionTreeRegressor())\n",
    "])\n",
    "\n",
    "#pipeline untuk adaboost regressor\n",
    "pipe_abr = Pipeline([\n",
    "    ('transormer', preprocessor),\n",
    "    ('regressor', AdaBoostRegressor())\n",
    "])\n",
    "\n",
    "#pipeline untuk random forest regressor\n",
    "pipe_rfr = Pipeline([\n",
    "    ('transormer', preprocessor),\n",
    "    ('regressor', RandomForestRegressor())\n",
    "])\n",
    "\n",
    "#pipeline untuk support vectore regressor\n",
    "pipe_svr = Pipeline([\n",
    "    ('transormer', preprocessor),\n",
    "    ('regressor', SVR() )\n",
    "])\n",
    "\n",
    "#pipeline untuk SGD Regressor\n",
    "pipe_sgd = Pipeline([\n",
    "    ('transormer', preprocessor),\n",
    "    ('regressor', SGDRegressor() )\n",
    "])"
   ]
  },
  {
   "cell_type": "markdown",
   "metadata": {},
   "source": [
    "## Base Model Evaluation"
   ]
  },
  {
   "cell_type": "markdown",
   "metadata": {},
   "source": [
    "### 1. Linear Regression"
   ]
  },
  {
   "cell_type": "code",
   "execution_count": 33,
   "metadata": {},
   "outputs": [
    {
     "data": {
      "text/html": [
       "<style>#sk-container-id-2 {color: black;}#sk-container-id-2 pre{padding: 0;}#sk-container-id-2 div.sk-toggleable {background-color: white;}#sk-container-id-2 label.sk-toggleable__label {cursor: pointer;display: block;width: 100%;margin-bottom: 0;padding: 0.3em;box-sizing: border-box;text-align: center;}#sk-container-id-2 label.sk-toggleable__label-arrow:before {content: \"▸\";float: left;margin-right: 0.25em;color: #696969;}#sk-container-id-2 label.sk-toggleable__label-arrow:hover:before {color: black;}#sk-container-id-2 div.sk-estimator:hover label.sk-toggleable__label-arrow:before {color: black;}#sk-container-id-2 div.sk-toggleable__content {max-height: 0;max-width: 0;overflow: hidden;text-align: left;background-color: #f0f8ff;}#sk-container-id-2 div.sk-toggleable__content pre {margin: 0.2em;color: black;border-radius: 0.25em;background-color: #f0f8ff;}#sk-container-id-2 input.sk-toggleable__control:checked~div.sk-toggleable__content {max-height: 200px;max-width: 100%;overflow: auto;}#sk-container-id-2 input.sk-toggleable__control:checked~label.sk-toggleable__label-arrow:before {content: \"▾\";}#sk-container-id-2 div.sk-estimator input.sk-toggleable__control:checked~label.sk-toggleable__label {background-color: #d4ebff;}#sk-container-id-2 div.sk-label input.sk-toggleable__control:checked~label.sk-toggleable__label {background-color: #d4ebff;}#sk-container-id-2 input.sk-hidden--visually {border: 0;clip: rect(1px 1px 1px 1px);clip: rect(1px, 1px, 1px, 1px);height: 1px;margin: -1px;overflow: hidden;padding: 0;position: absolute;width: 1px;}#sk-container-id-2 div.sk-estimator {font-family: monospace;background-color: #f0f8ff;border: 1px dotted black;border-radius: 0.25em;box-sizing: border-box;margin-bottom: 0.5em;}#sk-container-id-2 div.sk-estimator:hover {background-color: #d4ebff;}#sk-container-id-2 div.sk-parallel-item::after {content: \"\";width: 100%;border-bottom: 1px solid gray;flex-grow: 1;}#sk-container-id-2 div.sk-label:hover label.sk-toggleable__label {background-color: #d4ebff;}#sk-container-id-2 div.sk-serial::before {content: \"\";position: absolute;border-left: 1px solid gray;box-sizing: border-box;top: 0;bottom: 0;left: 50%;z-index: 0;}#sk-container-id-2 div.sk-serial {display: flex;flex-direction: column;align-items: center;background-color: white;padding-right: 0.2em;padding-left: 0.2em;position: relative;}#sk-container-id-2 div.sk-item {position: relative;z-index: 1;}#sk-container-id-2 div.sk-parallel {display: flex;align-items: stretch;justify-content: center;background-color: white;position: relative;}#sk-container-id-2 div.sk-item::before, #sk-container-id-2 div.sk-parallel-item::before {content: \"\";position: absolute;border-left: 1px solid gray;box-sizing: border-box;top: 0;bottom: 0;left: 50%;z-index: -1;}#sk-container-id-2 div.sk-parallel-item {display: flex;flex-direction: column;z-index: 1;position: relative;background-color: white;}#sk-container-id-2 div.sk-parallel-item:first-child::after {align-self: flex-end;width: 50%;}#sk-container-id-2 div.sk-parallel-item:last-child::after {align-self: flex-start;width: 50%;}#sk-container-id-2 div.sk-parallel-item:only-child::after {width: 0;}#sk-container-id-2 div.sk-dashed-wrapped {border: 1px dashed gray;margin: 0 0.4em 0.5em 0.4em;box-sizing: border-box;padding-bottom: 0.4em;background-color: white;}#sk-container-id-2 div.sk-label label {font-family: monospace;font-weight: bold;display: inline-block;line-height: 1.2em;}#sk-container-id-2 div.sk-label-container {text-align: center;}#sk-container-id-2 div.sk-container {/* jupyter's `normalize.less` sets `[hidden] { display: none; }` but bootstrap.min.css set `[hidden] { display: none !important; }` so we also need the `!important` here to be able to override the default hidden behavior on the sphinx rendered scikit-learn.org. See: https://github.com/scikit-learn/scikit-learn/issues/21755 */display: inline-block !important;position: relative;}#sk-container-id-2 div.sk-text-repr-fallback {display: none;}</style><div id=\"sk-container-id-2\" class=\"sk-top-container\"><div class=\"sk-text-repr-fallback\"><pre>Pipeline(steps=[(&#x27;transormer&#x27;,\n",
       "                 ColumnTransformer(transformers=[(&#x27;Numerical&#x27;,\n",
       "                                                  Pipeline(steps=[(&#x27;winsorizer &#x27;\n",
       "                                                                   &#x27;Gaussian&#x27;,\n",
       "                                                                   Winsorizer(fold=1.5,\n",
       "                                                                              tail=&#x27;both&#x27;,\n",
       "                                                                              variables=[&#x27;Bedroom2&#x27;,\n",
       "                                                                                         &#x27;Bathroom&#x27;])),\n",
       "                                                                  (&#x27;winsorizer &#x27;\n",
       "                                                                   &#x27;iqr&#x27;,\n",
       "                                                                   Winsorizer(capping_method=&#x27;iqr&#x27;,\n",
       "                                                                              fold=1.5,\n",
       "                                                                              tail=&#x27;both&#x27;,\n",
       "                                                                              variables=[&#x27;Distance&#x27;,\n",
       "                                                                                         &#x27;Car&#x27;,\n",
       "                                                                                         &#x27;Landsize&#x27;,\n",
       "                                                                                         &#x27;BuildingArea&#x27;])),\n",
       "                                                                  (&#x27;scaler&#x27;,\n",
       "                                                                   StandardScaler())]),\n",
       "                                                  [&#x27;Distance&#x27;, &#x27;Car&#x27;,\n",
       "                                                   &#x27;Landsize&#x27;, &#x27;BuildingArea&#x27;,\n",
       "                                                   &#x27;Bathroom&#x27;, &#x27;Bedroom2&#x27;]),\n",
       "                                                 (&#x27;Categorical&#x27;,\n",
       "                                                  Pipeline(steps=[(&#x27;onehot&#x27;,\n",
       "                                                                   OneHotEncoder(handle_unknown=&#x27;ignore&#x27;))]),\n",
       "                                                  [&#x27;Type&#x27;, &#x27;Method&#x27;])])),\n",
       "                (&#x27;regressor&#x27;, LinearRegression())])</pre><b>In a Jupyter environment, please rerun this cell to show the HTML representation or trust the notebook. <br />On GitHub, the HTML representation is unable to render, please try loading this page with nbviewer.org.</b></div><div class=\"sk-container\" hidden><div class=\"sk-item sk-dashed-wrapped\"><div class=\"sk-label-container\"><div class=\"sk-label sk-toggleable\"><input class=\"sk-toggleable__control sk-hidden--visually\" id=\"sk-estimator-id-8\" type=\"checkbox\" ><label for=\"sk-estimator-id-8\" class=\"sk-toggleable__label sk-toggleable__label-arrow\">Pipeline</label><div class=\"sk-toggleable__content\"><pre>Pipeline(steps=[(&#x27;transormer&#x27;,\n",
       "                 ColumnTransformer(transformers=[(&#x27;Numerical&#x27;,\n",
       "                                                  Pipeline(steps=[(&#x27;winsorizer &#x27;\n",
       "                                                                   &#x27;Gaussian&#x27;,\n",
       "                                                                   Winsorizer(fold=1.5,\n",
       "                                                                              tail=&#x27;both&#x27;,\n",
       "                                                                              variables=[&#x27;Bedroom2&#x27;,\n",
       "                                                                                         &#x27;Bathroom&#x27;])),\n",
       "                                                                  (&#x27;winsorizer &#x27;\n",
       "                                                                   &#x27;iqr&#x27;,\n",
       "                                                                   Winsorizer(capping_method=&#x27;iqr&#x27;,\n",
       "                                                                              fold=1.5,\n",
       "                                                                              tail=&#x27;both&#x27;,\n",
       "                                                                              variables=[&#x27;Distance&#x27;,\n",
       "                                                                                         &#x27;Car&#x27;,\n",
       "                                                                                         &#x27;Landsize&#x27;,\n",
       "                                                                                         &#x27;BuildingArea&#x27;])),\n",
       "                                                                  (&#x27;scaler&#x27;,\n",
       "                                                                   StandardScaler())]),\n",
       "                                                  [&#x27;Distance&#x27;, &#x27;Car&#x27;,\n",
       "                                                   &#x27;Landsize&#x27;, &#x27;BuildingArea&#x27;,\n",
       "                                                   &#x27;Bathroom&#x27;, &#x27;Bedroom2&#x27;]),\n",
       "                                                 (&#x27;Categorical&#x27;,\n",
       "                                                  Pipeline(steps=[(&#x27;onehot&#x27;,\n",
       "                                                                   OneHotEncoder(handle_unknown=&#x27;ignore&#x27;))]),\n",
       "                                                  [&#x27;Type&#x27;, &#x27;Method&#x27;])])),\n",
       "                (&#x27;regressor&#x27;, LinearRegression())])</pre></div></div></div><div class=\"sk-serial\"><div class=\"sk-item sk-dashed-wrapped\"><div class=\"sk-label-container\"><div class=\"sk-label sk-toggleable\"><input class=\"sk-toggleable__control sk-hidden--visually\" id=\"sk-estimator-id-9\" type=\"checkbox\" ><label for=\"sk-estimator-id-9\" class=\"sk-toggleable__label sk-toggleable__label-arrow\">transormer: ColumnTransformer</label><div class=\"sk-toggleable__content\"><pre>ColumnTransformer(transformers=[(&#x27;Numerical&#x27;,\n",
       "                                 Pipeline(steps=[(&#x27;winsorizer Gaussian&#x27;,\n",
       "                                                  Winsorizer(fold=1.5,\n",
       "                                                             tail=&#x27;both&#x27;,\n",
       "                                                             variables=[&#x27;Bedroom2&#x27;,\n",
       "                                                                        &#x27;Bathroom&#x27;])),\n",
       "                                                 (&#x27;winsorizer iqr&#x27;,\n",
       "                                                  Winsorizer(capping_method=&#x27;iqr&#x27;,\n",
       "                                                             fold=1.5,\n",
       "                                                             tail=&#x27;both&#x27;,\n",
       "                                                             variables=[&#x27;Distance&#x27;,\n",
       "                                                                        &#x27;Car&#x27;,\n",
       "                                                                        &#x27;Landsize&#x27;,\n",
       "                                                                        &#x27;BuildingArea&#x27;])),\n",
       "                                                 (&#x27;scaler&#x27;, StandardScaler())]),\n",
       "                                 [&#x27;Distance&#x27;, &#x27;Car&#x27;, &#x27;Landsize&#x27;, &#x27;BuildingArea&#x27;,\n",
       "                                  &#x27;Bathroom&#x27;, &#x27;Bedroom2&#x27;]),\n",
       "                                (&#x27;Categorical&#x27;,\n",
       "                                 Pipeline(steps=[(&#x27;onehot&#x27;,\n",
       "                                                  OneHotEncoder(handle_unknown=&#x27;ignore&#x27;))]),\n",
       "                                 [&#x27;Type&#x27;, &#x27;Method&#x27;])])</pre></div></div></div><div class=\"sk-parallel\"><div class=\"sk-parallel-item\"><div class=\"sk-item\"><div class=\"sk-label-container\"><div class=\"sk-label sk-toggleable\"><input class=\"sk-toggleable__control sk-hidden--visually\" id=\"sk-estimator-id-10\" type=\"checkbox\" ><label for=\"sk-estimator-id-10\" class=\"sk-toggleable__label sk-toggleable__label-arrow\">Numerical</label><div class=\"sk-toggleable__content\"><pre>[&#x27;Distance&#x27;, &#x27;Car&#x27;, &#x27;Landsize&#x27;, &#x27;BuildingArea&#x27;, &#x27;Bathroom&#x27;, &#x27;Bedroom2&#x27;]</pre></div></div></div><div class=\"sk-serial\"><div class=\"sk-item\"><div class=\"sk-serial\"><div class=\"sk-item\"><div class=\"sk-estimator sk-toggleable\"><input class=\"sk-toggleable__control sk-hidden--visually\" id=\"sk-estimator-id-11\" type=\"checkbox\" ><label for=\"sk-estimator-id-11\" class=\"sk-toggleable__label sk-toggleable__label-arrow\">Winsorizer</label><div class=\"sk-toggleable__content\"><pre>Winsorizer(fold=1.5, tail=&#x27;both&#x27;, variables=[&#x27;Bedroom2&#x27;, &#x27;Bathroom&#x27;])</pre></div></div></div><div class=\"sk-item\"><div class=\"sk-estimator sk-toggleable\"><input class=\"sk-toggleable__control sk-hidden--visually\" id=\"sk-estimator-id-12\" type=\"checkbox\" ><label for=\"sk-estimator-id-12\" class=\"sk-toggleable__label sk-toggleable__label-arrow\">Winsorizer</label><div class=\"sk-toggleable__content\"><pre>Winsorizer(capping_method=&#x27;iqr&#x27;, fold=1.5, tail=&#x27;both&#x27;,\n",
       "           variables=[&#x27;Distance&#x27;, &#x27;Car&#x27;, &#x27;Landsize&#x27;, &#x27;BuildingArea&#x27;])</pre></div></div></div><div class=\"sk-item\"><div class=\"sk-estimator sk-toggleable\"><input class=\"sk-toggleable__control sk-hidden--visually\" id=\"sk-estimator-id-13\" type=\"checkbox\" ><label for=\"sk-estimator-id-13\" class=\"sk-toggleable__label sk-toggleable__label-arrow\">StandardScaler</label><div class=\"sk-toggleable__content\"><pre>StandardScaler()</pre></div></div></div></div></div></div></div></div><div class=\"sk-parallel-item\"><div class=\"sk-item\"><div class=\"sk-label-container\"><div class=\"sk-label sk-toggleable\"><input class=\"sk-toggleable__control sk-hidden--visually\" id=\"sk-estimator-id-14\" type=\"checkbox\" ><label for=\"sk-estimator-id-14\" class=\"sk-toggleable__label sk-toggleable__label-arrow\">Categorical</label><div class=\"sk-toggleable__content\"><pre>[&#x27;Type&#x27;, &#x27;Method&#x27;]</pre></div></div></div><div class=\"sk-serial\"><div class=\"sk-item\"><div class=\"sk-serial\"><div class=\"sk-item\"><div class=\"sk-estimator sk-toggleable\"><input class=\"sk-toggleable__control sk-hidden--visually\" id=\"sk-estimator-id-15\" type=\"checkbox\" ><label for=\"sk-estimator-id-15\" class=\"sk-toggleable__label sk-toggleable__label-arrow\">OneHotEncoder</label><div class=\"sk-toggleable__content\"><pre>OneHotEncoder(handle_unknown=&#x27;ignore&#x27;)</pre></div></div></div></div></div></div></div></div></div></div><div class=\"sk-item\"><div class=\"sk-estimator sk-toggleable\"><input class=\"sk-toggleable__control sk-hidden--visually\" id=\"sk-estimator-id-16\" type=\"checkbox\" ><label for=\"sk-estimator-id-16\" class=\"sk-toggleable__label sk-toggleable__label-arrow\">LinearRegression</label><div class=\"sk-toggleable__content\"><pre>LinearRegression()</pre></div></div></div></div></div></div></div>"
      ],
      "text/plain": [
       "Pipeline(steps=[('transormer',\n",
       "                 ColumnTransformer(transformers=[('Numerical',\n",
       "                                                  Pipeline(steps=[('winsorizer '\n",
       "                                                                   'Gaussian',\n",
       "                                                                   Winsorizer(fold=1.5,\n",
       "                                                                              tail='both',\n",
       "                                                                              variables=['Bedroom2',\n",
       "                                                                                         'Bathroom'])),\n",
       "                                                                  ('winsorizer '\n",
       "                                                                   'iqr',\n",
       "                                                                   Winsorizer(capping_method='iqr',\n",
       "                                                                              fold=1.5,\n",
       "                                                                              tail='both',\n",
       "                                                                              variables=['Distance',\n",
       "                                                                                         'Car',\n",
       "                                                                                         'Landsize',\n",
       "                                                                                         'BuildingArea'])),\n",
       "                                                                  ('scaler',\n",
       "                                                                   StandardScaler())]),\n",
       "                                                  ['Distance', 'Car',\n",
       "                                                   'Landsize', 'BuildingArea',\n",
       "                                                   'Bathroom', 'Bedroom2']),\n",
       "                                                 ('Categorical',\n",
       "                                                  Pipeline(steps=[('onehot',\n",
       "                                                                   OneHotEncoder(handle_unknown='ignore'))]),\n",
       "                                                  ['Type', 'Method'])])),\n",
       "                ('regressor', LinearRegression())])"
      ]
     },
     "execution_count": 33,
     "metadata": {},
     "output_type": "execute_result"
    }
   ],
   "source": [
    "#melihat pipeline untuk linear regression\n",
    "pipe_linreg"
   ]
  },
  {
   "cell_type": "code",
   "execution_count": 34,
   "metadata": {},
   "outputs": [
    {
     "name": "stdout",
     "output_type": "stream",
     "text": [
      "0.4561287714779212\n",
      "0.4660356399718273\n"
     ]
    }
   ],
   "source": [
    "pipe_linreg.fit(X_train,y_train)\n",
    "\n",
    "y_train_linreg = pipe_linreg.predict(X_train)\n",
    "y_test_linreg = pipe_linreg.predict(X_test)\n",
    "\n",
    "print (pipe_linreg.score(X_train,y_train))\n",
    "print(pipe_linreg.score(X_test,y_test))\n"
   ]
  },
  {
   "cell_type": "markdown",
   "metadata": {},
   "source": [
    "### 2. KNN"
   ]
  },
  {
   "cell_type": "code",
   "execution_count": 35,
   "metadata": {},
   "outputs": [
    {
     "data": {
      "text/html": [
       "<style>#sk-container-id-3 {color: black;}#sk-container-id-3 pre{padding: 0;}#sk-container-id-3 div.sk-toggleable {background-color: white;}#sk-container-id-3 label.sk-toggleable__label {cursor: pointer;display: block;width: 100%;margin-bottom: 0;padding: 0.3em;box-sizing: border-box;text-align: center;}#sk-container-id-3 label.sk-toggleable__label-arrow:before {content: \"▸\";float: left;margin-right: 0.25em;color: #696969;}#sk-container-id-3 label.sk-toggleable__label-arrow:hover:before {color: black;}#sk-container-id-3 div.sk-estimator:hover label.sk-toggleable__label-arrow:before {color: black;}#sk-container-id-3 div.sk-toggleable__content {max-height: 0;max-width: 0;overflow: hidden;text-align: left;background-color: #f0f8ff;}#sk-container-id-3 div.sk-toggleable__content pre {margin: 0.2em;color: black;border-radius: 0.25em;background-color: #f0f8ff;}#sk-container-id-3 input.sk-toggleable__control:checked~div.sk-toggleable__content {max-height: 200px;max-width: 100%;overflow: auto;}#sk-container-id-3 input.sk-toggleable__control:checked~label.sk-toggleable__label-arrow:before {content: \"▾\";}#sk-container-id-3 div.sk-estimator input.sk-toggleable__control:checked~label.sk-toggleable__label {background-color: #d4ebff;}#sk-container-id-3 div.sk-label input.sk-toggleable__control:checked~label.sk-toggleable__label {background-color: #d4ebff;}#sk-container-id-3 input.sk-hidden--visually {border: 0;clip: rect(1px 1px 1px 1px);clip: rect(1px, 1px, 1px, 1px);height: 1px;margin: -1px;overflow: hidden;padding: 0;position: absolute;width: 1px;}#sk-container-id-3 div.sk-estimator {font-family: monospace;background-color: #f0f8ff;border: 1px dotted black;border-radius: 0.25em;box-sizing: border-box;margin-bottom: 0.5em;}#sk-container-id-3 div.sk-estimator:hover {background-color: #d4ebff;}#sk-container-id-3 div.sk-parallel-item::after {content: \"\";width: 100%;border-bottom: 1px solid gray;flex-grow: 1;}#sk-container-id-3 div.sk-label:hover label.sk-toggleable__label {background-color: #d4ebff;}#sk-container-id-3 div.sk-serial::before {content: \"\";position: absolute;border-left: 1px solid gray;box-sizing: border-box;top: 0;bottom: 0;left: 50%;z-index: 0;}#sk-container-id-3 div.sk-serial {display: flex;flex-direction: column;align-items: center;background-color: white;padding-right: 0.2em;padding-left: 0.2em;position: relative;}#sk-container-id-3 div.sk-item {position: relative;z-index: 1;}#sk-container-id-3 div.sk-parallel {display: flex;align-items: stretch;justify-content: center;background-color: white;position: relative;}#sk-container-id-3 div.sk-item::before, #sk-container-id-3 div.sk-parallel-item::before {content: \"\";position: absolute;border-left: 1px solid gray;box-sizing: border-box;top: 0;bottom: 0;left: 50%;z-index: -1;}#sk-container-id-3 div.sk-parallel-item {display: flex;flex-direction: column;z-index: 1;position: relative;background-color: white;}#sk-container-id-3 div.sk-parallel-item:first-child::after {align-self: flex-end;width: 50%;}#sk-container-id-3 div.sk-parallel-item:last-child::after {align-self: flex-start;width: 50%;}#sk-container-id-3 div.sk-parallel-item:only-child::after {width: 0;}#sk-container-id-3 div.sk-dashed-wrapped {border: 1px dashed gray;margin: 0 0.4em 0.5em 0.4em;box-sizing: border-box;padding-bottom: 0.4em;background-color: white;}#sk-container-id-3 div.sk-label label {font-family: monospace;font-weight: bold;display: inline-block;line-height: 1.2em;}#sk-container-id-3 div.sk-label-container {text-align: center;}#sk-container-id-3 div.sk-container {/* jupyter's `normalize.less` sets `[hidden] { display: none; }` but bootstrap.min.css set `[hidden] { display: none !important; }` so we also need the `!important` here to be able to override the default hidden behavior on the sphinx rendered scikit-learn.org. See: https://github.com/scikit-learn/scikit-learn/issues/21755 */display: inline-block !important;position: relative;}#sk-container-id-3 div.sk-text-repr-fallback {display: none;}</style><div id=\"sk-container-id-3\" class=\"sk-top-container\"><div class=\"sk-text-repr-fallback\"><pre>Pipeline(steps=[(&#x27;transormer&#x27;,\n",
       "                 ColumnTransformer(transformers=[(&#x27;Numerical&#x27;,\n",
       "                                                  Pipeline(steps=[(&#x27;winsorizer &#x27;\n",
       "                                                                   &#x27;Gaussian&#x27;,\n",
       "                                                                   Winsorizer(fold=1.5,\n",
       "                                                                              tail=&#x27;both&#x27;,\n",
       "                                                                              variables=[&#x27;Bedroom2&#x27;,\n",
       "                                                                                         &#x27;Bathroom&#x27;])),\n",
       "                                                                  (&#x27;winsorizer &#x27;\n",
       "                                                                   &#x27;iqr&#x27;,\n",
       "                                                                   Winsorizer(capping_method=&#x27;iqr&#x27;,\n",
       "                                                                              fold=1.5,\n",
       "                                                                              tail=&#x27;both&#x27;,\n",
       "                                                                              variables=[&#x27;Distance&#x27;,\n",
       "                                                                                         &#x27;Car&#x27;,\n",
       "                                                                                         &#x27;Landsize&#x27;,\n",
       "                                                                                         &#x27;BuildingArea&#x27;])),\n",
       "                                                                  (&#x27;scaler&#x27;,\n",
       "                                                                   StandardScaler())]),\n",
       "                                                  [&#x27;Distance&#x27;, &#x27;Car&#x27;,\n",
       "                                                   &#x27;Landsize&#x27;, &#x27;BuildingArea&#x27;,\n",
       "                                                   &#x27;Bathroom&#x27;, &#x27;Bedroom2&#x27;]),\n",
       "                                                 (&#x27;Categorical&#x27;,\n",
       "                                                  Pipeline(steps=[(&#x27;onehot&#x27;,\n",
       "                                                                   OneHotEncoder(handle_unknown=&#x27;ignore&#x27;))]),\n",
       "                                                  [&#x27;Type&#x27;, &#x27;Method&#x27;])])),\n",
       "                (&#x27;regressor&#x27;, KNeighborsRegressor())])</pre><b>In a Jupyter environment, please rerun this cell to show the HTML representation or trust the notebook. <br />On GitHub, the HTML representation is unable to render, please try loading this page with nbviewer.org.</b></div><div class=\"sk-container\" hidden><div class=\"sk-item sk-dashed-wrapped\"><div class=\"sk-label-container\"><div class=\"sk-label sk-toggleable\"><input class=\"sk-toggleable__control sk-hidden--visually\" id=\"sk-estimator-id-17\" type=\"checkbox\" ><label for=\"sk-estimator-id-17\" class=\"sk-toggleable__label sk-toggleable__label-arrow\">Pipeline</label><div class=\"sk-toggleable__content\"><pre>Pipeline(steps=[(&#x27;transormer&#x27;,\n",
       "                 ColumnTransformer(transformers=[(&#x27;Numerical&#x27;,\n",
       "                                                  Pipeline(steps=[(&#x27;winsorizer &#x27;\n",
       "                                                                   &#x27;Gaussian&#x27;,\n",
       "                                                                   Winsorizer(fold=1.5,\n",
       "                                                                              tail=&#x27;both&#x27;,\n",
       "                                                                              variables=[&#x27;Bedroom2&#x27;,\n",
       "                                                                                         &#x27;Bathroom&#x27;])),\n",
       "                                                                  (&#x27;winsorizer &#x27;\n",
       "                                                                   &#x27;iqr&#x27;,\n",
       "                                                                   Winsorizer(capping_method=&#x27;iqr&#x27;,\n",
       "                                                                              fold=1.5,\n",
       "                                                                              tail=&#x27;both&#x27;,\n",
       "                                                                              variables=[&#x27;Distance&#x27;,\n",
       "                                                                                         &#x27;Car&#x27;,\n",
       "                                                                                         &#x27;Landsize&#x27;,\n",
       "                                                                                         &#x27;BuildingArea&#x27;])),\n",
       "                                                                  (&#x27;scaler&#x27;,\n",
       "                                                                   StandardScaler())]),\n",
       "                                                  [&#x27;Distance&#x27;, &#x27;Car&#x27;,\n",
       "                                                   &#x27;Landsize&#x27;, &#x27;BuildingArea&#x27;,\n",
       "                                                   &#x27;Bathroom&#x27;, &#x27;Bedroom2&#x27;]),\n",
       "                                                 (&#x27;Categorical&#x27;,\n",
       "                                                  Pipeline(steps=[(&#x27;onehot&#x27;,\n",
       "                                                                   OneHotEncoder(handle_unknown=&#x27;ignore&#x27;))]),\n",
       "                                                  [&#x27;Type&#x27;, &#x27;Method&#x27;])])),\n",
       "                (&#x27;regressor&#x27;, KNeighborsRegressor())])</pre></div></div></div><div class=\"sk-serial\"><div class=\"sk-item sk-dashed-wrapped\"><div class=\"sk-label-container\"><div class=\"sk-label sk-toggleable\"><input class=\"sk-toggleable__control sk-hidden--visually\" id=\"sk-estimator-id-18\" type=\"checkbox\" ><label for=\"sk-estimator-id-18\" class=\"sk-toggleable__label sk-toggleable__label-arrow\">transormer: ColumnTransformer</label><div class=\"sk-toggleable__content\"><pre>ColumnTransformer(transformers=[(&#x27;Numerical&#x27;,\n",
       "                                 Pipeline(steps=[(&#x27;winsorizer Gaussian&#x27;,\n",
       "                                                  Winsorizer(fold=1.5,\n",
       "                                                             tail=&#x27;both&#x27;,\n",
       "                                                             variables=[&#x27;Bedroom2&#x27;,\n",
       "                                                                        &#x27;Bathroom&#x27;])),\n",
       "                                                 (&#x27;winsorizer iqr&#x27;,\n",
       "                                                  Winsorizer(capping_method=&#x27;iqr&#x27;,\n",
       "                                                             fold=1.5,\n",
       "                                                             tail=&#x27;both&#x27;,\n",
       "                                                             variables=[&#x27;Distance&#x27;,\n",
       "                                                                        &#x27;Car&#x27;,\n",
       "                                                                        &#x27;Landsize&#x27;,\n",
       "                                                                        &#x27;BuildingArea&#x27;])),\n",
       "                                                 (&#x27;scaler&#x27;, StandardScaler())]),\n",
       "                                 [&#x27;Distance&#x27;, &#x27;Car&#x27;, &#x27;Landsize&#x27;, &#x27;BuildingArea&#x27;,\n",
       "                                  &#x27;Bathroom&#x27;, &#x27;Bedroom2&#x27;]),\n",
       "                                (&#x27;Categorical&#x27;,\n",
       "                                 Pipeline(steps=[(&#x27;onehot&#x27;,\n",
       "                                                  OneHotEncoder(handle_unknown=&#x27;ignore&#x27;))]),\n",
       "                                 [&#x27;Type&#x27;, &#x27;Method&#x27;])])</pre></div></div></div><div class=\"sk-parallel\"><div class=\"sk-parallel-item\"><div class=\"sk-item\"><div class=\"sk-label-container\"><div class=\"sk-label sk-toggleable\"><input class=\"sk-toggleable__control sk-hidden--visually\" id=\"sk-estimator-id-19\" type=\"checkbox\" ><label for=\"sk-estimator-id-19\" class=\"sk-toggleable__label sk-toggleable__label-arrow\">Numerical</label><div class=\"sk-toggleable__content\"><pre>[&#x27;Distance&#x27;, &#x27;Car&#x27;, &#x27;Landsize&#x27;, &#x27;BuildingArea&#x27;, &#x27;Bathroom&#x27;, &#x27;Bedroom2&#x27;]</pre></div></div></div><div class=\"sk-serial\"><div class=\"sk-item\"><div class=\"sk-serial\"><div class=\"sk-item\"><div class=\"sk-estimator sk-toggleable\"><input class=\"sk-toggleable__control sk-hidden--visually\" id=\"sk-estimator-id-20\" type=\"checkbox\" ><label for=\"sk-estimator-id-20\" class=\"sk-toggleable__label sk-toggleable__label-arrow\">Winsorizer</label><div class=\"sk-toggleable__content\"><pre>Winsorizer(fold=1.5, tail=&#x27;both&#x27;, variables=[&#x27;Bedroom2&#x27;, &#x27;Bathroom&#x27;])</pre></div></div></div><div class=\"sk-item\"><div class=\"sk-estimator sk-toggleable\"><input class=\"sk-toggleable__control sk-hidden--visually\" id=\"sk-estimator-id-21\" type=\"checkbox\" ><label for=\"sk-estimator-id-21\" class=\"sk-toggleable__label sk-toggleable__label-arrow\">Winsorizer</label><div class=\"sk-toggleable__content\"><pre>Winsorizer(capping_method=&#x27;iqr&#x27;, fold=1.5, tail=&#x27;both&#x27;,\n",
       "           variables=[&#x27;Distance&#x27;, &#x27;Car&#x27;, &#x27;Landsize&#x27;, &#x27;BuildingArea&#x27;])</pre></div></div></div><div class=\"sk-item\"><div class=\"sk-estimator sk-toggleable\"><input class=\"sk-toggleable__control sk-hidden--visually\" id=\"sk-estimator-id-22\" type=\"checkbox\" ><label for=\"sk-estimator-id-22\" class=\"sk-toggleable__label sk-toggleable__label-arrow\">StandardScaler</label><div class=\"sk-toggleable__content\"><pre>StandardScaler()</pre></div></div></div></div></div></div></div></div><div class=\"sk-parallel-item\"><div class=\"sk-item\"><div class=\"sk-label-container\"><div class=\"sk-label sk-toggleable\"><input class=\"sk-toggleable__control sk-hidden--visually\" id=\"sk-estimator-id-23\" type=\"checkbox\" ><label for=\"sk-estimator-id-23\" class=\"sk-toggleable__label sk-toggleable__label-arrow\">Categorical</label><div class=\"sk-toggleable__content\"><pre>[&#x27;Type&#x27;, &#x27;Method&#x27;]</pre></div></div></div><div class=\"sk-serial\"><div class=\"sk-item\"><div class=\"sk-serial\"><div class=\"sk-item\"><div class=\"sk-estimator sk-toggleable\"><input class=\"sk-toggleable__control sk-hidden--visually\" id=\"sk-estimator-id-24\" type=\"checkbox\" ><label for=\"sk-estimator-id-24\" class=\"sk-toggleable__label sk-toggleable__label-arrow\">OneHotEncoder</label><div class=\"sk-toggleable__content\"><pre>OneHotEncoder(handle_unknown=&#x27;ignore&#x27;)</pre></div></div></div></div></div></div></div></div></div></div><div class=\"sk-item\"><div class=\"sk-estimator sk-toggleable\"><input class=\"sk-toggleable__control sk-hidden--visually\" id=\"sk-estimator-id-25\" type=\"checkbox\" ><label for=\"sk-estimator-id-25\" class=\"sk-toggleable__label sk-toggleable__label-arrow\">KNeighborsRegressor</label><div class=\"sk-toggleable__content\"><pre>KNeighborsRegressor()</pre></div></div></div></div></div></div></div>"
      ],
      "text/plain": [
       "Pipeline(steps=[('transormer',\n",
       "                 ColumnTransformer(transformers=[('Numerical',\n",
       "                                                  Pipeline(steps=[('winsorizer '\n",
       "                                                                   'Gaussian',\n",
       "                                                                   Winsorizer(fold=1.5,\n",
       "                                                                              tail='both',\n",
       "                                                                              variables=['Bedroom2',\n",
       "                                                                                         'Bathroom'])),\n",
       "                                                                  ('winsorizer '\n",
       "                                                                   'iqr',\n",
       "                                                                   Winsorizer(capping_method='iqr',\n",
       "                                                                              fold=1.5,\n",
       "                                                                              tail='both',\n",
       "                                                                              variables=['Distance',\n",
       "                                                                                         'Car',\n",
       "                                                                                         'Landsize',\n",
       "                                                                                         'BuildingArea'])),\n",
       "                                                                  ('scaler',\n",
       "                                                                   StandardScaler())]),\n",
       "                                                  ['Distance', 'Car',\n",
       "                                                   'Landsize', 'BuildingArea',\n",
       "                                                   'Bathroom', 'Bedroom2']),\n",
       "                                                 ('Categorical',\n",
       "                                                  Pipeline(steps=[('onehot',\n",
       "                                                                   OneHotEncoder(handle_unknown='ignore'))]),\n",
       "                                                  ['Type', 'Method'])])),\n",
       "                ('regressor', KNeighborsRegressor())])"
      ]
     },
     "execution_count": 35,
     "metadata": {},
     "output_type": "execute_result"
    }
   ],
   "source": [
    "pipe_knn"
   ]
  },
  {
   "cell_type": "code",
   "execution_count": 36,
   "metadata": {},
   "outputs": [
    {
     "name": "stdout",
     "output_type": "stream",
     "text": [
      "0.6647895144354131\n",
      "0.5309608613597498\n"
     ]
    }
   ],
   "source": [
    "pipe_knn.fit(X_train,y_train)\n",
    "\n",
    "y_train_knn = pipe_knn.predict(X_train)\n",
    "y_test_knn = pipe_knn.predict(X_test)\n",
    "\n",
    "print (pipe_knn.score(X_train,y_train))\n",
    "print(pipe_knn.score(X_test,y_test))\n"
   ]
  },
  {
   "cell_type": "markdown",
   "metadata": {},
   "source": [
    "### 3. Decission Tree"
   ]
  },
  {
   "cell_type": "code",
   "execution_count": 37,
   "metadata": {},
   "outputs": [
    {
     "data": {
      "text/html": [
       "<style>#sk-container-id-4 {color: black;}#sk-container-id-4 pre{padding: 0;}#sk-container-id-4 div.sk-toggleable {background-color: white;}#sk-container-id-4 label.sk-toggleable__label {cursor: pointer;display: block;width: 100%;margin-bottom: 0;padding: 0.3em;box-sizing: border-box;text-align: center;}#sk-container-id-4 label.sk-toggleable__label-arrow:before {content: \"▸\";float: left;margin-right: 0.25em;color: #696969;}#sk-container-id-4 label.sk-toggleable__label-arrow:hover:before {color: black;}#sk-container-id-4 div.sk-estimator:hover label.sk-toggleable__label-arrow:before {color: black;}#sk-container-id-4 div.sk-toggleable__content {max-height: 0;max-width: 0;overflow: hidden;text-align: left;background-color: #f0f8ff;}#sk-container-id-4 div.sk-toggleable__content pre {margin: 0.2em;color: black;border-radius: 0.25em;background-color: #f0f8ff;}#sk-container-id-4 input.sk-toggleable__control:checked~div.sk-toggleable__content {max-height: 200px;max-width: 100%;overflow: auto;}#sk-container-id-4 input.sk-toggleable__control:checked~label.sk-toggleable__label-arrow:before {content: \"▾\";}#sk-container-id-4 div.sk-estimator input.sk-toggleable__control:checked~label.sk-toggleable__label {background-color: #d4ebff;}#sk-container-id-4 div.sk-label input.sk-toggleable__control:checked~label.sk-toggleable__label {background-color: #d4ebff;}#sk-container-id-4 input.sk-hidden--visually {border: 0;clip: rect(1px 1px 1px 1px);clip: rect(1px, 1px, 1px, 1px);height: 1px;margin: -1px;overflow: hidden;padding: 0;position: absolute;width: 1px;}#sk-container-id-4 div.sk-estimator {font-family: monospace;background-color: #f0f8ff;border: 1px dotted black;border-radius: 0.25em;box-sizing: border-box;margin-bottom: 0.5em;}#sk-container-id-4 div.sk-estimator:hover {background-color: #d4ebff;}#sk-container-id-4 div.sk-parallel-item::after {content: \"\";width: 100%;border-bottom: 1px solid gray;flex-grow: 1;}#sk-container-id-4 div.sk-label:hover label.sk-toggleable__label {background-color: #d4ebff;}#sk-container-id-4 div.sk-serial::before {content: \"\";position: absolute;border-left: 1px solid gray;box-sizing: border-box;top: 0;bottom: 0;left: 50%;z-index: 0;}#sk-container-id-4 div.sk-serial {display: flex;flex-direction: column;align-items: center;background-color: white;padding-right: 0.2em;padding-left: 0.2em;position: relative;}#sk-container-id-4 div.sk-item {position: relative;z-index: 1;}#sk-container-id-4 div.sk-parallel {display: flex;align-items: stretch;justify-content: center;background-color: white;position: relative;}#sk-container-id-4 div.sk-item::before, #sk-container-id-4 div.sk-parallel-item::before {content: \"\";position: absolute;border-left: 1px solid gray;box-sizing: border-box;top: 0;bottom: 0;left: 50%;z-index: -1;}#sk-container-id-4 div.sk-parallel-item {display: flex;flex-direction: column;z-index: 1;position: relative;background-color: white;}#sk-container-id-4 div.sk-parallel-item:first-child::after {align-self: flex-end;width: 50%;}#sk-container-id-4 div.sk-parallel-item:last-child::after {align-self: flex-start;width: 50%;}#sk-container-id-4 div.sk-parallel-item:only-child::after {width: 0;}#sk-container-id-4 div.sk-dashed-wrapped {border: 1px dashed gray;margin: 0 0.4em 0.5em 0.4em;box-sizing: border-box;padding-bottom: 0.4em;background-color: white;}#sk-container-id-4 div.sk-label label {font-family: monospace;font-weight: bold;display: inline-block;line-height: 1.2em;}#sk-container-id-4 div.sk-label-container {text-align: center;}#sk-container-id-4 div.sk-container {/* jupyter's `normalize.less` sets `[hidden] { display: none; }` but bootstrap.min.css set `[hidden] { display: none !important; }` so we also need the `!important` here to be able to override the default hidden behavior on the sphinx rendered scikit-learn.org. See: https://github.com/scikit-learn/scikit-learn/issues/21755 */display: inline-block !important;position: relative;}#sk-container-id-4 div.sk-text-repr-fallback {display: none;}</style><div id=\"sk-container-id-4\" class=\"sk-top-container\"><div class=\"sk-text-repr-fallback\"><pre>Pipeline(steps=[(&#x27;transormer&#x27;,\n",
       "                 ColumnTransformer(transformers=[(&#x27;Numerical&#x27;,\n",
       "                                                  Pipeline(steps=[(&#x27;winsorizer &#x27;\n",
       "                                                                   &#x27;Gaussian&#x27;,\n",
       "                                                                   Winsorizer(fold=1.5,\n",
       "                                                                              tail=&#x27;both&#x27;,\n",
       "                                                                              variables=[&#x27;Bedroom2&#x27;,\n",
       "                                                                                         &#x27;Bathroom&#x27;])),\n",
       "                                                                  (&#x27;winsorizer &#x27;\n",
       "                                                                   &#x27;iqr&#x27;,\n",
       "                                                                   Winsorizer(capping_method=&#x27;iqr&#x27;,\n",
       "                                                                              fold=1.5,\n",
       "                                                                              tail=&#x27;both&#x27;,\n",
       "                                                                              variables=[&#x27;Distance&#x27;,\n",
       "                                                                                         &#x27;Car&#x27;,\n",
       "                                                                                         &#x27;Landsize&#x27;,\n",
       "                                                                                         &#x27;BuildingArea&#x27;])),\n",
       "                                                                  (&#x27;scaler&#x27;,\n",
       "                                                                   StandardScaler())]),\n",
       "                                                  [&#x27;Distance&#x27;, &#x27;Car&#x27;,\n",
       "                                                   &#x27;Landsize&#x27;, &#x27;BuildingArea&#x27;,\n",
       "                                                   &#x27;Bathroom&#x27;, &#x27;Bedroom2&#x27;]),\n",
       "                                                 (&#x27;Categorical&#x27;,\n",
       "                                                  Pipeline(steps=[(&#x27;onehot&#x27;,\n",
       "                                                                   OneHotEncoder(handle_unknown=&#x27;ignore&#x27;))]),\n",
       "                                                  [&#x27;Type&#x27;, &#x27;Method&#x27;])])),\n",
       "                (&#x27;regressor&#x27;, DecisionTreeRegressor())])</pre><b>In a Jupyter environment, please rerun this cell to show the HTML representation or trust the notebook. <br />On GitHub, the HTML representation is unable to render, please try loading this page with nbviewer.org.</b></div><div class=\"sk-container\" hidden><div class=\"sk-item sk-dashed-wrapped\"><div class=\"sk-label-container\"><div class=\"sk-label sk-toggleable\"><input class=\"sk-toggleable__control sk-hidden--visually\" id=\"sk-estimator-id-26\" type=\"checkbox\" ><label for=\"sk-estimator-id-26\" class=\"sk-toggleable__label sk-toggleable__label-arrow\">Pipeline</label><div class=\"sk-toggleable__content\"><pre>Pipeline(steps=[(&#x27;transormer&#x27;,\n",
       "                 ColumnTransformer(transformers=[(&#x27;Numerical&#x27;,\n",
       "                                                  Pipeline(steps=[(&#x27;winsorizer &#x27;\n",
       "                                                                   &#x27;Gaussian&#x27;,\n",
       "                                                                   Winsorizer(fold=1.5,\n",
       "                                                                              tail=&#x27;both&#x27;,\n",
       "                                                                              variables=[&#x27;Bedroom2&#x27;,\n",
       "                                                                                         &#x27;Bathroom&#x27;])),\n",
       "                                                                  (&#x27;winsorizer &#x27;\n",
       "                                                                   &#x27;iqr&#x27;,\n",
       "                                                                   Winsorizer(capping_method=&#x27;iqr&#x27;,\n",
       "                                                                              fold=1.5,\n",
       "                                                                              tail=&#x27;both&#x27;,\n",
       "                                                                              variables=[&#x27;Distance&#x27;,\n",
       "                                                                                         &#x27;Car&#x27;,\n",
       "                                                                                         &#x27;Landsize&#x27;,\n",
       "                                                                                         &#x27;BuildingArea&#x27;])),\n",
       "                                                                  (&#x27;scaler&#x27;,\n",
       "                                                                   StandardScaler())]),\n",
       "                                                  [&#x27;Distance&#x27;, &#x27;Car&#x27;,\n",
       "                                                   &#x27;Landsize&#x27;, &#x27;BuildingArea&#x27;,\n",
       "                                                   &#x27;Bathroom&#x27;, &#x27;Bedroom2&#x27;]),\n",
       "                                                 (&#x27;Categorical&#x27;,\n",
       "                                                  Pipeline(steps=[(&#x27;onehot&#x27;,\n",
       "                                                                   OneHotEncoder(handle_unknown=&#x27;ignore&#x27;))]),\n",
       "                                                  [&#x27;Type&#x27;, &#x27;Method&#x27;])])),\n",
       "                (&#x27;regressor&#x27;, DecisionTreeRegressor())])</pre></div></div></div><div class=\"sk-serial\"><div class=\"sk-item sk-dashed-wrapped\"><div class=\"sk-label-container\"><div class=\"sk-label sk-toggleable\"><input class=\"sk-toggleable__control sk-hidden--visually\" id=\"sk-estimator-id-27\" type=\"checkbox\" ><label for=\"sk-estimator-id-27\" class=\"sk-toggleable__label sk-toggleable__label-arrow\">transormer: ColumnTransformer</label><div class=\"sk-toggleable__content\"><pre>ColumnTransformer(transformers=[(&#x27;Numerical&#x27;,\n",
       "                                 Pipeline(steps=[(&#x27;winsorizer Gaussian&#x27;,\n",
       "                                                  Winsorizer(fold=1.5,\n",
       "                                                             tail=&#x27;both&#x27;,\n",
       "                                                             variables=[&#x27;Bedroom2&#x27;,\n",
       "                                                                        &#x27;Bathroom&#x27;])),\n",
       "                                                 (&#x27;winsorizer iqr&#x27;,\n",
       "                                                  Winsorizer(capping_method=&#x27;iqr&#x27;,\n",
       "                                                             fold=1.5,\n",
       "                                                             tail=&#x27;both&#x27;,\n",
       "                                                             variables=[&#x27;Distance&#x27;,\n",
       "                                                                        &#x27;Car&#x27;,\n",
       "                                                                        &#x27;Landsize&#x27;,\n",
       "                                                                        &#x27;BuildingArea&#x27;])),\n",
       "                                                 (&#x27;scaler&#x27;, StandardScaler())]),\n",
       "                                 [&#x27;Distance&#x27;, &#x27;Car&#x27;, &#x27;Landsize&#x27;, &#x27;BuildingArea&#x27;,\n",
       "                                  &#x27;Bathroom&#x27;, &#x27;Bedroom2&#x27;]),\n",
       "                                (&#x27;Categorical&#x27;,\n",
       "                                 Pipeline(steps=[(&#x27;onehot&#x27;,\n",
       "                                                  OneHotEncoder(handle_unknown=&#x27;ignore&#x27;))]),\n",
       "                                 [&#x27;Type&#x27;, &#x27;Method&#x27;])])</pre></div></div></div><div class=\"sk-parallel\"><div class=\"sk-parallel-item\"><div class=\"sk-item\"><div class=\"sk-label-container\"><div class=\"sk-label sk-toggleable\"><input class=\"sk-toggleable__control sk-hidden--visually\" id=\"sk-estimator-id-28\" type=\"checkbox\" ><label for=\"sk-estimator-id-28\" class=\"sk-toggleable__label sk-toggleable__label-arrow\">Numerical</label><div class=\"sk-toggleable__content\"><pre>[&#x27;Distance&#x27;, &#x27;Car&#x27;, &#x27;Landsize&#x27;, &#x27;BuildingArea&#x27;, &#x27;Bathroom&#x27;, &#x27;Bedroom2&#x27;]</pre></div></div></div><div class=\"sk-serial\"><div class=\"sk-item\"><div class=\"sk-serial\"><div class=\"sk-item\"><div class=\"sk-estimator sk-toggleable\"><input class=\"sk-toggleable__control sk-hidden--visually\" id=\"sk-estimator-id-29\" type=\"checkbox\" ><label for=\"sk-estimator-id-29\" class=\"sk-toggleable__label sk-toggleable__label-arrow\">Winsorizer</label><div class=\"sk-toggleable__content\"><pre>Winsorizer(fold=1.5, tail=&#x27;both&#x27;, variables=[&#x27;Bedroom2&#x27;, &#x27;Bathroom&#x27;])</pre></div></div></div><div class=\"sk-item\"><div class=\"sk-estimator sk-toggleable\"><input class=\"sk-toggleable__control sk-hidden--visually\" id=\"sk-estimator-id-30\" type=\"checkbox\" ><label for=\"sk-estimator-id-30\" class=\"sk-toggleable__label sk-toggleable__label-arrow\">Winsorizer</label><div class=\"sk-toggleable__content\"><pre>Winsorizer(capping_method=&#x27;iqr&#x27;, fold=1.5, tail=&#x27;both&#x27;,\n",
       "           variables=[&#x27;Distance&#x27;, &#x27;Car&#x27;, &#x27;Landsize&#x27;, &#x27;BuildingArea&#x27;])</pre></div></div></div><div class=\"sk-item\"><div class=\"sk-estimator sk-toggleable\"><input class=\"sk-toggleable__control sk-hidden--visually\" id=\"sk-estimator-id-31\" type=\"checkbox\" ><label for=\"sk-estimator-id-31\" class=\"sk-toggleable__label sk-toggleable__label-arrow\">StandardScaler</label><div class=\"sk-toggleable__content\"><pre>StandardScaler()</pre></div></div></div></div></div></div></div></div><div class=\"sk-parallel-item\"><div class=\"sk-item\"><div class=\"sk-label-container\"><div class=\"sk-label sk-toggleable\"><input class=\"sk-toggleable__control sk-hidden--visually\" id=\"sk-estimator-id-32\" type=\"checkbox\" ><label for=\"sk-estimator-id-32\" class=\"sk-toggleable__label sk-toggleable__label-arrow\">Categorical</label><div class=\"sk-toggleable__content\"><pre>[&#x27;Type&#x27;, &#x27;Method&#x27;]</pre></div></div></div><div class=\"sk-serial\"><div class=\"sk-item\"><div class=\"sk-serial\"><div class=\"sk-item\"><div class=\"sk-estimator sk-toggleable\"><input class=\"sk-toggleable__control sk-hidden--visually\" id=\"sk-estimator-id-33\" type=\"checkbox\" ><label for=\"sk-estimator-id-33\" class=\"sk-toggleable__label sk-toggleable__label-arrow\">OneHotEncoder</label><div class=\"sk-toggleable__content\"><pre>OneHotEncoder(handle_unknown=&#x27;ignore&#x27;)</pre></div></div></div></div></div></div></div></div></div></div><div class=\"sk-item\"><div class=\"sk-estimator sk-toggleable\"><input class=\"sk-toggleable__control sk-hidden--visually\" id=\"sk-estimator-id-34\" type=\"checkbox\" ><label for=\"sk-estimator-id-34\" class=\"sk-toggleable__label sk-toggleable__label-arrow\">DecisionTreeRegressor</label><div class=\"sk-toggleable__content\"><pre>DecisionTreeRegressor()</pre></div></div></div></div></div></div></div>"
      ],
      "text/plain": [
       "Pipeline(steps=[('transormer',\n",
       "                 ColumnTransformer(transformers=[('Numerical',\n",
       "                                                  Pipeline(steps=[('winsorizer '\n",
       "                                                                   'Gaussian',\n",
       "                                                                   Winsorizer(fold=1.5,\n",
       "                                                                              tail='both',\n",
       "                                                                              variables=['Bedroom2',\n",
       "                                                                                         'Bathroom'])),\n",
       "                                                                  ('winsorizer '\n",
       "                                                                   'iqr',\n",
       "                                                                   Winsorizer(capping_method='iqr',\n",
       "                                                                              fold=1.5,\n",
       "                                                                              tail='both',\n",
       "                                                                              variables=['Distance',\n",
       "                                                                                         'Car',\n",
       "                                                                                         'Landsize',\n",
       "                                                                                         'BuildingArea'])),\n",
       "                                                                  ('scaler',\n",
       "                                                                   StandardScaler())]),\n",
       "                                                  ['Distance', 'Car',\n",
       "                                                   'Landsize', 'BuildingArea',\n",
       "                                                   'Bathroom', 'Bedroom2']),\n",
       "                                                 ('Categorical',\n",
       "                                                  Pipeline(steps=[('onehot',\n",
       "                                                                   OneHotEncoder(handle_unknown='ignore'))]),\n",
       "                                                  ['Type', 'Method'])])),\n",
       "                ('regressor', DecisionTreeRegressor())])"
      ]
     },
     "execution_count": 37,
     "metadata": {},
     "output_type": "execute_result"
    }
   ],
   "source": [
    "pipe_dtr"
   ]
  },
  {
   "cell_type": "code",
   "execution_count": 38,
   "metadata": {},
   "outputs": [
    {
     "name": "stdout",
     "output_type": "stream",
     "text": [
      "0.998203377942423\n",
      "0.259328939384737\n"
     ]
    }
   ],
   "source": [
    "pipe_dtr.fit(X_train,y_train)\n",
    "\n",
    "y_train_dtr = pipe_dtr.predict(X_train)\n",
    "y_test_dtr = pipe_dtr.predict(X_test)\n",
    "\n",
    "print (pipe_dtr.score(X_train,y_train))\n",
    "print(pipe_dtr.score(X_test,y_test))\n"
   ]
  },
  {
   "cell_type": "markdown",
   "metadata": {},
   "source": [
    "### 4. ADA Boost Regressor"
   ]
  },
  {
   "cell_type": "code",
   "execution_count": 39,
   "metadata": {},
   "outputs": [
    {
     "data": {
      "text/html": [
       "<style>#sk-container-id-5 {color: black;}#sk-container-id-5 pre{padding: 0;}#sk-container-id-5 div.sk-toggleable {background-color: white;}#sk-container-id-5 label.sk-toggleable__label {cursor: pointer;display: block;width: 100%;margin-bottom: 0;padding: 0.3em;box-sizing: border-box;text-align: center;}#sk-container-id-5 label.sk-toggleable__label-arrow:before {content: \"▸\";float: left;margin-right: 0.25em;color: #696969;}#sk-container-id-5 label.sk-toggleable__label-arrow:hover:before {color: black;}#sk-container-id-5 div.sk-estimator:hover label.sk-toggleable__label-arrow:before {color: black;}#sk-container-id-5 div.sk-toggleable__content {max-height: 0;max-width: 0;overflow: hidden;text-align: left;background-color: #f0f8ff;}#sk-container-id-5 div.sk-toggleable__content pre {margin: 0.2em;color: black;border-radius: 0.25em;background-color: #f0f8ff;}#sk-container-id-5 input.sk-toggleable__control:checked~div.sk-toggleable__content {max-height: 200px;max-width: 100%;overflow: auto;}#sk-container-id-5 input.sk-toggleable__control:checked~label.sk-toggleable__label-arrow:before {content: \"▾\";}#sk-container-id-5 div.sk-estimator input.sk-toggleable__control:checked~label.sk-toggleable__label {background-color: #d4ebff;}#sk-container-id-5 div.sk-label input.sk-toggleable__control:checked~label.sk-toggleable__label {background-color: #d4ebff;}#sk-container-id-5 input.sk-hidden--visually {border: 0;clip: rect(1px 1px 1px 1px);clip: rect(1px, 1px, 1px, 1px);height: 1px;margin: -1px;overflow: hidden;padding: 0;position: absolute;width: 1px;}#sk-container-id-5 div.sk-estimator {font-family: monospace;background-color: #f0f8ff;border: 1px dotted black;border-radius: 0.25em;box-sizing: border-box;margin-bottom: 0.5em;}#sk-container-id-5 div.sk-estimator:hover {background-color: #d4ebff;}#sk-container-id-5 div.sk-parallel-item::after {content: \"\";width: 100%;border-bottom: 1px solid gray;flex-grow: 1;}#sk-container-id-5 div.sk-label:hover label.sk-toggleable__label {background-color: #d4ebff;}#sk-container-id-5 div.sk-serial::before {content: \"\";position: absolute;border-left: 1px solid gray;box-sizing: border-box;top: 0;bottom: 0;left: 50%;z-index: 0;}#sk-container-id-5 div.sk-serial {display: flex;flex-direction: column;align-items: center;background-color: white;padding-right: 0.2em;padding-left: 0.2em;position: relative;}#sk-container-id-5 div.sk-item {position: relative;z-index: 1;}#sk-container-id-5 div.sk-parallel {display: flex;align-items: stretch;justify-content: center;background-color: white;position: relative;}#sk-container-id-5 div.sk-item::before, #sk-container-id-5 div.sk-parallel-item::before {content: \"\";position: absolute;border-left: 1px solid gray;box-sizing: border-box;top: 0;bottom: 0;left: 50%;z-index: -1;}#sk-container-id-5 div.sk-parallel-item {display: flex;flex-direction: column;z-index: 1;position: relative;background-color: white;}#sk-container-id-5 div.sk-parallel-item:first-child::after {align-self: flex-end;width: 50%;}#sk-container-id-5 div.sk-parallel-item:last-child::after {align-self: flex-start;width: 50%;}#sk-container-id-5 div.sk-parallel-item:only-child::after {width: 0;}#sk-container-id-5 div.sk-dashed-wrapped {border: 1px dashed gray;margin: 0 0.4em 0.5em 0.4em;box-sizing: border-box;padding-bottom: 0.4em;background-color: white;}#sk-container-id-5 div.sk-label label {font-family: monospace;font-weight: bold;display: inline-block;line-height: 1.2em;}#sk-container-id-5 div.sk-label-container {text-align: center;}#sk-container-id-5 div.sk-container {/* jupyter's `normalize.less` sets `[hidden] { display: none; }` but bootstrap.min.css set `[hidden] { display: none !important; }` so we also need the `!important` here to be able to override the default hidden behavior on the sphinx rendered scikit-learn.org. See: https://github.com/scikit-learn/scikit-learn/issues/21755 */display: inline-block !important;position: relative;}#sk-container-id-5 div.sk-text-repr-fallback {display: none;}</style><div id=\"sk-container-id-5\" class=\"sk-top-container\"><div class=\"sk-text-repr-fallback\"><pre>Pipeline(steps=[(&#x27;transormer&#x27;,\n",
       "                 ColumnTransformer(transformers=[(&#x27;Numerical&#x27;,\n",
       "                                                  Pipeline(steps=[(&#x27;winsorizer &#x27;\n",
       "                                                                   &#x27;Gaussian&#x27;,\n",
       "                                                                   Winsorizer(fold=1.5,\n",
       "                                                                              tail=&#x27;both&#x27;,\n",
       "                                                                              variables=[&#x27;Bedroom2&#x27;,\n",
       "                                                                                         &#x27;Bathroom&#x27;])),\n",
       "                                                                  (&#x27;winsorizer &#x27;\n",
       "                                                                   &#x27;iqr&#x27;,\n",
       "                                                                   Winsorizer(capping_method=&#x27;iqr&#x27;,\n",
       "                                                                              fold=1.5,\n",
       "                                                                              tail=&#x27;both&#x27;,\n",
       "                                                                              variables=[&#x27;Distance&#x27;,\n",
       "                                                                                         &#x27;Car&#x27;,\n",
       "                                                                                         &#x27;Landsize&#x27;,\n",
       "                                                                                         &#x27;BuildingArea&#x27;])),\n",
       "                                                                  (&#x27;scaler&#x27;,\n",
       "                                                                   StandardScaler())]),\n",
       "                                                  [&#x27;Distance&#x27;, &#x27;Car&#x27;,\n",
       "                                                   &#x27;Landsize&#x27;, &#x27;BuildingArea&#x27;,\n",
       "                                                   &#x27;Bathroom&#x27;, &#x27;Bedroom2&#x27;]),\n",
       "                                                 (&#x27;Categorical&#x27;,\n",
       "                                                  Pipeline(steps=[(&#x27;onehot&#x27;,\n",
       "                                                                   OneHotEncoder(handle_unknown=&#x27;ignore&#x27;))]),\n",
       "                                                  [&#x27;Type&#x27;, &#x27;Method&#x27;])])),\n",
       "                (&#x27;regressor&#x27;, AdaBoostRegressor())])</pre><b>In a Jupyter environment, please rerun this cell to show the HTML representation or trust the notebook. <br />On GitHub, the HTML representation is unable to render, please try loading this page with nbviewer.org.</b></div><div class=\"sk-container\" hidden><div class=\"sk-item sk-dashed-wrapped\"><div class=\"sk-label-container\"><div class=\"sk-label sk-toggleable\"><input class=\"sk-toggleable__control sk-hidden--visually\" id=\"sk-estimator-id-35\" type=\"checkbox\" ><label for=\"sk-estimator-id-35\" class=\"sk-toggleable__label sk-toggleable__label-arrow\">Pipeline</label><div class=\"sk-toggleable__content\"><pre>Pipeline(steps=[(&#x27;transormer&#x27;,\n",
       "                 ColumnTransformer(transformers=[(&#x27;Numerical&#x27;,\n",
       "                                                  Pipeline(steps=[(&#x27;winsorizer &#x27;\n",
       "                                                                   &#x27;Gaussian&#x27;,\n",
       "                                                                   Winsorizer(fold=1.5,\n",
       "                                                                              tail=&#x27;both&#x27;,\n",
       "                                                                              variables=[&#x27;Bedroom2&#x27;,\n",
       "                                                                                         &#x27;Bathroom&#x27;])),\n",
       "                                                                  (&#x27;winsorizer &#x27;\n",
       "                                                                   &#x27;iqr&#x27;,\n",
       "                                                                   Winsorizer(capping_method=&#x27;iqr&#x27;,\n",
       "                                                                              fold=1.5,\n",
       "                                                                              tail=&#x27;both&#x27;,\n",
       "                                                                              variables=[&#x27;Distance&#x27;,\n",
       "                                                                                         &#x27;Car&#x27;,\n",
       "                                                                                         &#x27;Landsize&#x27;,\n",
       "                                                                                         &#x27;BuildingArea&#x27;])),\n",
       "                                                                  (&#x27;scaler&#x27;,\n",
       "                                                                   StandardScaler())]),\n",
       "                                                  [&#x27;Distance&#x27;, &#x27;Car&#x27;,\n",
       "                                                   &#x27;Landsize&#x27;, &#x27;BuildingArea&#x27;,\n",
       "                                                   &#x27;Bathroom&#x27;, &#x27;Bedroom2&#x27;]),\n",
       "                                                 (&#x27;Categorical&#x27;,\n",
       "                                                  Pipeline(steps=[(&#x27;onehot&#x27;,\n",
       "                                                                   OneHotEncoder(handle_unknown=&#x27;ignore&#x27;))]),\n",
       "                                                  [&#x27;Type&#x27;, &#x27;Method&#x27;])])),\n",
       "                (&#x27;regressor&#x27;, AdaBoostRegressor())])</pre></div></div></div><div class=\"sk-serial\"><div class=\"sk-item sk-dashed-wrapped\"><div class=\"sk-label-container\"><div class=\"sk-label sk-toggleable\"><input class=\"sk-toggleable__control sk-hidden--visually\" id=\"sk-estimator-id-36\" type=\"checkbox\" ><label for=\"sk-estimator-id-36\" class=\"sk-toggleable__label sk-toggleable__label-arrow\">transormer: ColumnTransformer</label><div class=\"sk-toggleable__content\"><pre>ColumnTransformer(transformers=[(&#x27;Numerical&#x27;,\n",
       "                                 Pipeline(steps=[(&#x27;winsorizer Gaussian&#x27;,\n",
       "                                                  Winsorizer(fold=1.5,\n",
       "                                                             tail=&#x27;both&#x27;,\n",
       "                                                             variables=[&#x27;Bedroom2&#x27;,\n",
       "                                                                        &#x27;Bathroom&#x27;])),\n",
       "                                                 (&#x27;winsorizer iqr&#x27;,\n",
       "                                                  Winsorizer(capping_method=&#x27;iqr&#x27;,\n",
       "                                                             fold=1.5,\n",
       "                                                             tail=&#x27;both&#x27;,\n",
       "                                                             variables=[&#x27;Distance&#x27;,\n",
       "                                                                        &#x27;Car&#x27;,\n",
       "                                                                        &#x27;Landsize&#x27;,\n",
       "                                                                        &#x27;BuildingArea&#x27;])),\n",
       "                                                 (&#x27;scaler&#x27;, StandardScaler())]),\n",
       "                                 [&#x27;Distance&#x27;, &#x27;Car&#x27;, &#x27;Landsize&#x27;, &#x27;BuildingArea&#x27;,\n",
       "                                  &#x27;Bathroom&#x27;, &#x27;Bedroom2&#x27;]),\n",
       "                                (&#x27;Categorical&#x27;,\n",
       "                                 Pipeline(steps=[(&#x27;onehot&#x27;,\n",
       "                                                  OneHotEncoder(handle_unknown=&#x27;ignore&#x27;))]),\n",
       "                                 [&#x27;Type&#x27;, &#x27;Method&#x27;])])</pre></div></div></div><div class=\"sk-parallel\"><div class=\"sk-parallel-item\"><div class=\"sk-item\"><div class=\"sk-label-container\"><div class=\"sk-label sk-toggleable\"><input class=\"sk-toggleable__control sk-hidden--visually\" id=\"sk-estimator-id-37\" type=\"checkbox\" ><label for=\"sk-estimator-id-37\" class=\"sk-toggleable__label sk-toggleable__label-arrow\">Numerical</label><div class=\"sk-toggleable__content\"><pre>[&#x27;Distance&#x27;, &#x27;Car&#x27;, &#x27;Landsize&#x27;, &#x27;BuildingArea&#x27;, &#x27;Bathroom&#x27;, &#x27;Bedroom2&#x27;]</pre></div></div></div><div class=\"sk-serial\"><div class=\"sk-item\"><div class=\"sk-serial\"><div class=\"sk-item\"><div class=\"sk-estimator sk-toggleable\"><input class=\"sk-toggleable__control sk-hidden--visually\" id=\"sk-estimator-id-38\" type=\"checkbox\" ><label for=\"sk-estimator-id-38\" class=\"sk-toggleable__label sk-toggleable__label-arrow\">Winsorizer</label><div class=\"sk-toggleable__content\"><pre>Winsorizer(fold=1.5, tail=&#x27;both&#x27;, variables=[&#x27;Bedroom2&#x27;, &#x27;Bathroom&#x27;])</pre></div></div></div><div class=\"sk-item\"><div class=\"sk-estimator sk-toggleable\"><input class=\"sk-toggleable__control sk-hidden--visually\" id=\"sk-estimator-id-39\" type=\"checkbox\" ><label for=\"sk-estimator-id-39\" class=\"sk-toggleable__label sk-toggleable__label-arrow\">Winsorizer</label><div class=\"sk-toggleable__content\"><pre>Winsorizer(capping_method=&#x27;iqr&#x27;, fold=1.5, tail=&#x27;both&#x27;,\n",
       "           variables=[&#x27;Distance&#x27;, &#x27;Car&#x27;, &#x27;Landsize&#x27;, &#x27;BuildingArea&#x27;])</pre></div></div></div><div class=\"sk-item\"><div class=\"sk-estimator sk-toggleable\"><input class=\"sk-toggleable__control sk-hidden--visually\" id=\"sk-estimator-id-40\" type=\"checkbox\" ><label for=\"sk-estimator-id-40\" class=\"sk-toggleable__label sk-toggleable__label-arrow\">StandardScaler</label><div class=\"sk-toggleable__content\"><pre>StandardScaler()</pre></div></div></div></div></div></div></div></div><div class=\"sk-parallel-item\"><div class=\"sk-item\"><div class=\"sk-label-container\"><div class=\"sk-label sk-toggleable\"><input class=\"sk-toggleable__control sk-hidden--visually\" id=\"sk-estimator-id-41\" type=\"checkbox\" ><label for=\"sk-estimator-id-41\" class=\"sk-toggleable__label sk-toggleable__label-arrow\">Categorical</label><div class=\"sk-toggleable__content\"><pre>[&#x27;Type&#x27;, &#x27;Method&#x27;]</pre></div></div></div><div class=\"sk-serial\"><div class=\"sk-item\"><div class=\"sk-serial\"><div class=\"sk-item\"><div class=\"sk-estimator sk-toggleable\"><input class=\"sk-toggleable__control sk-hidden--visually\" id=\"sk-estimator-id-42\" type=\"checkbox\" ><label for=\"sk-estimator-id-42\" class=\"sk-toggleable__label sk-toggleable__label-arrow\">OneHotEncoder</label><div class=\"sk-toggleable__content\"><pre>OneHotEncoder(handle_unknown=&#x27;ignore&#x27;)</pre></div></div></div></div></div></div></div></div></div></div><div class=\"sk-item\"><div class=\"sk-estimator sk-toggleable\"><input class=\"sk-toggleable__control sk-hidden--visually\" id=\"sk-estimator-id-43\" type=\"checkbox\" ><label for=\"sk-estimator-id-43\" class=\"sk-toggleable__label sk-toggleable__label-arrow\">AdaBoostRegressor</label><div class=\"sk-toggleable__content\"><pre>AdaBoostRegressor()</pre></div></div></div></div></div></div></div>"
      ],
      "text/plain": [
       "Pipeline(steps=[('transormer',\n",
       "                 ColumnTransformer(transformers=[('Numerical',\n",
       "                                                  Pipeline(steps=[('winsorizer '\n",
       "                                                                   'Gaussian',\n",
       "                                                                   Winsorizer(fold=1.5,\n",
       "                                                                              tail='both',\n",
       "                                                                              variables=['Bedroom2',\n",
       "                                                                                         'Bathroom'])),\n",
       "                                                                  ('winsorizer '\n",
       "                                                                   'iqr',\n",
       "                                                                   Winsorizer(capping_method='iqr',\n",
       "                                                                              fold=1.5,\n",
       "                                                                              tail='both',\n",
       "                                                                              variables=['Distance',\n",
       "                                                                                         'Car',\n",
       "                                                                                         'Landsize',\n",
       "                                                                                         'BuildingArea'])),\n",
       "                                                                  ('scaler',\n",
       "                                                                   StandardScaler())]),\n",
       "                                                  ['Distance', 'Car',\n",
       "                                                   'Landsize', 'BuildingArea',\n",
       "                                                   'Bathroom', 'Bedroom2']),\n",
       "                                                 ('Categorical',\n",
       "                                                  Pipeline(steps=[('onehot',\n",
       "                                                                   OneHotEncoder(handle_unknown='ignore'))]),\n",
       "                                                  ['Type', 'Method'])])),\n",
       "                ('regressor', AdaBoostRegressor())])"
      ]
     },
     "execution_count": 39,
     "metadata": {},
     "output_type": "execute_result"
    }
   ],
   "source": [
    "pipe_abr"
   ]
  },
  {
   "cell_type": "code",
   "execution_count": 40,
   "metadata": {},
   "outputs": [
    {
     "name": "stdout",
     "output_type": "stream",
     "text": [
      "-0.26070628267835394\n",
      "-0.2828083092993412\n"
     ]
    }
   ],
   "source": [
    "pipe_abr.fit(X_train,y_train)\n",
    "\n",
    "y_train_abr = pipe_abr.predict(X_train)\n",
    "y_test_abr = pipe_abr.predict(X_test)\n",
    "\n",
    "print (pipe_abr.score(X_train,y_train))\n",
    "print(pipe_abr.score(X_test,y_test))\n"
   ]
  },
  {
   "cell_type": "markdown",
   "metadata": {},
   "source": [
    "### 5. Random Forest Regressor"
   ]
  },
  {
   "cell_type": "code",
   "execution_count": 41,
   "metadata": {},
   "outputs": [
    {
     "data": {
      "text/html": [
       "<style>#sk-container-id-6 {color: black;}#sk-container-id-6 pre{padding: 0;}#sk-container-id-6 div.sk-toggleable {background-color: white;}#sk-container-id-6 label.sk-toggleable__label {cursor: pointer;display: block;width: 100%;margin-bottom: 0;padding: 0.3em;box-sizing: border-box;text-align: center;}#sk-container-id-6 label.sk-toggleable__label-arrow:before {content: \"▸\";float: left;margin-right: 0.25em;color: #696969;}#sk-container-id-6 label.sk-toggleable__label-arrow:hover:before {color: black;}#sk-container-id-6 div.sk-estimator:hover label.sk-toggleable__label-arrow:before {color: black;}#sk-container-id-6 div.sk-toggleable__content {max-height: 0;max-width: 0;overflow: hidden;text-align: left;background-color: #f0f8ff;}#sk-container-id-6 div.sk-toggleable__content pre {margin: 0.2em;color: black;border-radius: 0.25em;background-color: #f0f8ff;}#sk-container-id-6 input.sk-toggleable__control:checked~div.sk-toggleable__content {max-height: 200px;max-width: 100%;overflow: auto;}#sk-container-id-6 input.sk-toggleable__control:checked~label.sk-toggleable__label-arrow:before {content: \"▾\";}#sk-container-id-6 div.sk-estimator input.sk-toggleable__control:checked~label.sk-toggleable__label {background-color: #d4ebff;}#sk-container-id-6 div.sk-label input.sk-toggleable__control:checked~label.sk-toggleable__label {background-color: #d4ebff;}#sk-container-id-6 input.sk-hidden--visually {border: 0;clip: rect(1px 1px 1px 1px);clip: rect(1px, 1px, 1px, 1px);height: 1px;margin: -1px;overflow: hidden;padding: 0;position: absolute;width: 1px;}#sk-container-id-6 div.sk-estimator {font-family: monospace;background-color: #f0f8ff;border: 1px dotted black;border-radius: 0.25em;box-sizing: border-box;margin-bottom: 0.5em;}#sk-container-id-6 div.sk-estimator:hover {background-color: #d4ebff;}#sk-container-id-6 div.sk-parallel-item::after {content: \"\";width: 100%;border-bottom: 1px solid gray;flex-grow: 1;}#sk-container-id-6 div.sk-label:hover label.sk-toggleable__label {background-color: #d4ebff;}#sk-container-id-6 div.sk-serial::before {content: \"\";position: absolute;border-left: 1px solid gray;box-sizing: border-box;top: 0;bottom: 0;left: 50%;z-index: 0;}#sk-container-id-6 div.sk-serial {display: flex;flex-direction: column;align-items: center;background-color: white;padding-right: 0.2em;padding-left: 0.2em;position: relative;}#sk-container-id-6 div.sk-item {position: relative;z-index: 1;}#sk-container-id-6 div.sk-parallel {display: flex;align-items: stretch;justify-content: center;background-color: white;position: relative;}#sk-container-id-6 div.sk-item::before, #sk-container-id-6 div.sk-parallel-item::before {content: \"\";position: absolute;border-left: 1px solid gray;box-sizing: border-box;top: 0;bottom: 0;left: 50%;z-index: -1;}#sk-container-id-6 div.sk-parallel-item {display: flex;flex-direction: column;z-index: 1;position: relative;background-color: white;}#sk-container-id-6 div.sk-parallel-item:first-child::after {align-self: flex-end;width: 50%;}#sk-container-id-6 div.sk-parallel-item:last-child::after {align-self: flex-start;width: 50%;}#sk-container-id-6 div.sk-parallel-item:only-child::after {width: 0;}#sk-container-id-6 div.sk-dashed-wrapped {border: 1px dashed gray;margin: 0 0.4em 0.5em 0.4em;box-sizing: border-box;padding-bottom: 0.4em;background-color: white;}#sk-container-id-6 div.sk-label label {font-family: monospace;font-weight: bold;display: inline-block;line-height: 1.2em;}#sk-container-id-6 div.sk-label-container {text-align: center;}#sk-container-id-6 div.sk-container {/* jupyter's `normalize.less` sets `[hidden] { display: none; }` but bootstrap.min.css set `[hidden] { display: none !important; }` so we also need the `!important` here to be able to override the default hidden behavior on the sphinx rendered scikit-learn.org. See: https://github.com/scikit-learn/scikit-learn/issues/21755 */display: inline-block !important;position: relative;}#sk-container-id-6 div.sk-text-repr-fallback {display: none;}</style><div id=\"sk-container-id-6\" class=\"sk-top-container\"><div class=\"sk-text-repr-fallback\"><pre>Pipeline(steps=[(&#x27;transormer&#x27;,\n",
       "                 ColumnTransformer(transformers=[(&#x27;Numerical&#x27;,\n",
       "                                                  Pipeline(steps=[(&#x27;winsorizer &#x27;\n",
       "                                                                   &#x27;Gaussian&#x27;,\n",
       "                                                                   Winsorizer(fold=1.5,\n",
       "                                                                              tail=&#x27;both&#x27;,\n",
       "                                                                              variables=[&#x27;Bedroom2&#x27;,\n",
       "                                                                                         &#x27;Bathroom&#x27;])),\n",
       "                                                                  (&#x27;winsorizer &#x27;\n",
       "                                                                   &#x27;iqr&#x27;,\n",
       "                                                                   Winsorizer(capping_method=&#x27;iqr&#x27;,\n",
       "                                                                              fold=1.5,\n",
       "                                                                              tail=&#x27;both&#x27;,\n",
       "                                                                              variables=[&#x27;Distance&#x27;,\n",
       "                                                                                         &#x27;Car&#x27;,\n",
       "                                                                                         &#x27;Landsize&#x27;,\n",
       "                                                                                         &#x27;BuildingArea&#x27;])),\n",
       "                                                                  (&#x27;scaler&#x27;,\n",
       "                                                                   StandardScaler())]),\n",
       "                                                  [&#x27;Distance&#x27;, &#x27;Car&#x27;,\n",
       "                                                   &#x27;Landsize&#x27;, &#x27;BuildingArea&#x27;,\n",
       "                                                   &#x27;Bathroom&#x27;, &#x27;Bedroom2&#x27;]),\n",
       "                                                 (&#x27;Categorical&#x27;,\n",
       "                                                  Pipeline(steps=[(&#x27;onehot&#x27;,\n",
       "                                                                   OneHotEncoder(handle_unknown=&#x27;ignore&#x27;))]),\n",
       "                                                  [&#x27;Type&#x27;, &#x27;Method&#x27;])])),\n",
       "                (&#x27;regressor&#x27;, RandomForestRegressor())])</pre><b>In a Jupyter environment, please rerun this cell to show the HTML representation or trust the notebook. <br />On GitHub, the HTML representation is unable to render, please try loading this page with nbviewer.org.</b></div><div class=\"sk-container\" hidden><div class=\"sk-item sk-dashed-wrapped\"><div class=\"sk-label-container\"><div class=\"sk-label sk-toggleable\"><input class=\"sk-toggleable__control sk-hidden--visually\" id=\"sk-estimator-id-44\" type=\"checkbox\" ><label for=\"sk-estimator-id-44\" class=\"sk-toggleable__label sk-toggleable__label-arrow\">Pipeline</label><div class=\"sk-toggleable__content\"><pre>Pipeline(steps=[(&#x27;transormer&#x27;,\n",
       "                 ColumnTransformer(transformers=[(&#x27;Numerical&#x27;,\n",
       "                                                  Pipeline(steps=[(&#x27;winsorizer &#x27;\n",
       "                                                                   &#x27;Gaussian&#x27;,\n",
       "                                                                   Winsorizer(fold=1.5,\n",
       "                                                                              tail=&#x27;both&#x27;,\n",
       "                                                                              variables=[&#x27;Bedroom2&#x27;,\n",
       "                                                                                         &#x27;Bathroom&#x27;])),\n",
       "                                                                  (&#x27;winsorizer &#x27;\n",
       "                                                                   &#x27;iqr&#x27;,\n",
       "                                                                   Winsorizer(capping_method=&#x27;iqr&#x27;,\n",
       "                                                                              fold=1.5,\n",
       "                                                                              tail=&#x27;both&#x27;,\n",
       "                                                                              variables=[&#x27;Distance&#x27;,\n",
       "                                                                                         &#x27;Car&#x27;,\n",
       "                                                                                         &#x27;Landsize&#x27;,\n",
       "                                                                                         &#x27;BuildingArea&#x27;])),\n",
       "                                                                  (&#x27;scaler&#x27;,\n",
       "                                                                   StandardScaler())]),\n",
       "                                                  [&#x27;Distance&#x27;, &#x27;Car&#x27;,\n",
       "                                                   &#x27;Landsize&#x27;, &#x27;BuildingArea&#x27;,\n",
       "                                                   &#x27;Bathroom&#x27;, &#x27;Bedroom2&#x27;]),\n",
       "                                                 (&#x27;Categorical&#x27;,\n",
       "                                                  Pipeline(steps=[(&#x27;onehot&#x27;,\n",
       "                                                                   OneHotEncoder(handle_unknown=&#x27;ignore&#x27;))]),\n",
       "                                                  [&#x27;Type&#x27;, &#x27;Method&#x27;])])),\n",
       "                (&#x27;regressor&#x27;, RandomForestRegressor())])</pre></div></div></div><div class=\"sk-serial\"><div class=\"sk-item sk-dashed-wrapped\"><div class=\"sk-label-container\"><div class=\"sk-label sk-toggleable\"><input class=\"sk-toggleable__control sk-hidden--visually\" id=\"sk-estimator-id-45\" type=\"checkbox\" ><label for=\"sk-estimator-id-45\" class=\"sk-toggleable__label sk-toggleable__label-arrow\">transormer: ColumnTransformer</label><div class=\"sk-toggleable__content\"><pre>ColumnTransformer(transformers=[(&#x27;Numerical&#x27;,\n",
       "                                 Pipeline(steps=[(&#x27;winsorizer Gaussian&#x27;,\n",
       "                                                  Winsorizer(fold=1.5,\n",
       "                                                             tail=&#x27;both&#x27;,\n",
       "                                                             variables=[&#x27;Bedroom2&#x27;,\n",
       "                                                                        &#x27;Bathroom&#x27;])),\n",
       "                                                 (&#x27;winsorizer iqr&#x27;,\n",
       "                                                  Winsorizer(capping_method=&#x27;iqr&#x27;,\n",
       "                                                             fold=1.5,\n",
       "                                                             tail=&#x27;both&#x27;,\n",
       "                                                             variables=[&#x27;Distance&#x27;,\n",
       "                                                                        &#x27;Car&#x27;,\n",
       "                                                                        &#x27;Landsize&#x27;,\n",
       "                                                                        &#x27;BuildingArea&#x27;])),\n",
       "                                                 (&#x27;scaler&#x27;, StandardScaler())]),\n",
       "                                 [&#x27;Distance&#x27;, &#x27;Car&#x27;, &#x27;Landsize&#x27;, &#x27;BuildingArea&#x27;,\n",
       "                                  &#x27;Bathroom&#x27;, &#x27;Bedroom2&#x27;]),\n",
       "                                (&#x27;Categorical&#x27;,\n",
       "                                 Pipeline(steps=[(&#x27;onehot&#x27;,\n",
       "                                                  OneHotEncoder(handle_unknown=&#x27;ignore&#x27;))]),\n",
       "                                 [&#x27;Type&#x27;, &#x27;Method&#x27;])])</pre></div></div></div><div class=\"sk-parallel\"><div class=\"sk-parallel-item\"><div class=\"sk-item\"><div class=\"sk-label-container\"><div class=\"sk-label sk-toggleable\"><input class=\"sk-toggleable__control sk-hidden--visually\" id=\"sk-estimator-id-46\" type=\"checkbox\" ><label for=\"sk-estimator-id-46\" class=\"sk-toggleable__label sk-toggleable__label-arrow\">Numerical</label><div class=\"sk-toggleable__content\"><pre>[&#x27;Distance&#x27;, &#x27;Car&#x27;, &#x27;Landsize&#x27;, &#x27;BuildingArea&#x27;, &#x27;Bathroom&#x27;, &#x27;Bedroom2&#x27;]</pre></div></div></div><div class=\"sk-serial\"><div class=\"sk-item\"><div class=\"sk-serial\"><div class=\"sk-item\"><div class=\"sk-estimator sk-toggleable\"><input class=\"sk-toggleable__control sk-hidden--visually\" id=\"sk-estimator-id-47\" type=\"checkbox\" ><label for=\"sk-estimator-id-47\" class=\"sk-toggleable__label sk-toggleable__label-arrow\">Winsorizer</label><div class=\"sk-toggleable__content\"><pre>Winsorizer(fold=1.5, tail=&#x27;both&#x27;, variables=[&#x27;Bedroom2&#x27;, &#x27;Bathroom&#x27;])</pre></div></div></div><div class=\"sk-item\"><div class=\"sk-estimator sk-toggleable\"><input class=\"sk-toggleable__control sk-hidden--visually\" id=\"sk-estimator-id-48\" type=\"checkbox\" ><label for=\"sk-estimator-id-48\" class=\"sk-toggleable__label sk-toggleable__label-arrow\">Winsorizer</label><div class=\"sk-toggleable__content\"><pre>Winsorizer(capping_method=&#x27;iqr&#x27;, fold=1.5, tail=&#x27;both&#x27;,\n",
       "           variables=[&#x27;Distance&#x27;, &#x27;Car&#x27;, &#x27;Landsize&#x27;, &#x27;BuildingArea&#x27;])</pre></div></div></div><div class=\"sk-item\"><div class=\"sk-estimator sk-toggleable\"><input class=\"sk-toggleable__control sk-hidden--visually\" id=\"sk-estimator-id-49\" type=\"checkbox\" ><label for=\"sk-estimator-id-49\" class=\"sk-toggleable__label sk-toggleable__label-arrow\">StandardScaler</label><div class=\"sk-toggleable__content\"><pre>StandardScaler()</pre></div></div></div></div></div></div></div></div><div class=\"sk-parallel-item\"><div class=\"sk-item\"><div class=\"sk-label-container\"><div class=\"sk-label sk-toggleable\"><input class=\"sk-toggleable__control sk-hidden--visually\" id=\"sk-estimator-id-50\" type=\"checkbox\" ><label for=\"sk-estimator-id-50\" class=\"sk-toggleable__label sk-toggleable__label-arrow\">Categorical</label><div class=\"sk-toggleable__content\"><pre>[&#x27;Type&#x27;, &#x27;Method&#x27;]</pre></div></div></div><div class=\"sk-serial\"><div class=\"sk-item\"><div class=\"sk-serial\"><div class=\"sk-item\"><div class=\"sk-estimator sk-toggleable\"><input class=\"sk-toggleable__control sk-hidden--visually\" id=\"sk-estimator-id-51\" type=\"checkbox\" ><label for=\"sk-estimator-id-51\" class=\"sk-toggleable__label sk-toggleable__label-arrow\">OneHotEncoder</label><div class=\"sk-toggleable__content\"><pre>OneHotEncoder(handle_unknown=&#x27;ignore&#x27;)</pre></div></div></div></div></div></div></div></div></div></div><div class=\"sk-item\"><div class=\"sk-estimator sk-toggleable\"><input class=\"sk-toggleable__control sk-hidden--visually\" id=\"sk-estimator-id-52\" type=\"checkbox\" ><label for=\"sk-estimator-id-52\" class=\"sk-toggleable__label sk-toggleable__label-arrow\">RandomForestRegressor</label><div class=\"sk-toggleable__content\"><pre>RandomForestRegressor()</pre></div></div></div></div></div></div></div>"
      ],
      "text/plain": [
       "Pipeline(steps=[('transormer',\n",
       "                 ColumnTransformer(transformers=[('Numerical',\n",
       "                                                  Pipeline(steps=[('winsorizer '\n",
       "                                                                   'Gaussian',\n",
       "                                                                   Winsorizer(fold=1.5,\n",
       "                                                                              tail='both',\n",
       "                                                                              variables=['Bedroom2',\n",
       "                                                                                         'Bathroom'])),\n",
       "                                                                  ('winsorizer '\n",
       "                                                                   'iqr',\n",
       "                                                                   Winsorizer(capping_method='iqr',\n",
       "                                                                              fold=1.5,\n",
       "                                                                              tail='both',\n",
       "                                                                              variables=['Distance',\n",
       "                                                                                         'Car',\n",
       "                                                                                         'Landsize',\n",
       "                                                                                         'BuildingArea'])),\n",
       "                                                                  ('scaler',\n",
       "                                                                   StandardScaler())]),\n",
       "                                                  ['Distance', 'Car',\n",
       "                                                   'Landsize', 'BuildingArea',\n",
       "                                                   'Bathroom', 'Bedroom2']),\n",
       "                                                 ('Categorical',\n",
       "                                                  Pipeline(steps=[('onehot',\n",
       "                                                                   OneHotEncoder(handle_unknown='ignore'))]),\n",
       "                                                  ['Type', 'Method'])])),\n",
       "                ('regressor', RandomForestRegressor())])"
      ]
     },
     "execution_count": 41,
     "metadata": {},
     "output_type": "execute_result"
    }
   ],
   "source": [
    "pipe_rfr"
   ]
  },
  {
   "cell_type": "code",
   "execution_count": 42,
   "metadata": {},
   "outputs": [
    {
     "name": "stdout",
     "output_type": "stream",
     "text": [
      "0.9439114621462129\n",
      "0.6354544304659805\n"
     ]
    }
   ],
   "source": [
    "pipe_rfr.fit(X_train,y_train)\n",
    "\n",
    "y_train_rfr = pipe_rfr.predict(X_train)\n",
    "y_test_rfr = pipe_rfr.predict(X_test)\n",
    "\n",
    "print (pipe_rfr.score(X_train,y_train))\n",
    "print(pipe_rfr.score(X_test,y_test))\n"
   ]
  },
  {
   "cell_type": "markdown",
   "metadata": {},
   "source": [
    "### 6. SVR"
   ]
  },
  {
   "cell_type": "code",
   "execution_count": 43,
   "metadata": {},
   "outputs": [
    {
     "data": {
      "text/html": [
       "<style>#sk-container-id-7 {color: black;}#sk-container-id-7 pre{padding: 0;}#sk-container-id-7 div.sk-toggleable {background-color: white;}#sk-container-id-7 label.sk-toggleable__label {cursor: pointer;display: block;width: 100%;margin-bottom: 0;padding: 0.3em;box-sizing: border-box;text-align: center;}#sk-container-id-7 label.sk-toggleable__label-arrow:before {content: \"▸\";float: left;margin-right: 0.25em;color: #696969;}#sk-container-id-7 label.sk-toggleable__label-arrow:hover:before {color: black;}#sk-container-id-7 div.sk-estimator:hover label.sk-toggleable__label-arrow:before {color: black;}#sk-container-id-7 div.sk-toggleable__content {max-height: 0;max-width: 0;overflow: hidden;text-align: left;background-color: #f0f8ff;}#sk-container-id-7 div.sk-toggleable__content pre {margin: 0.2em;color: black;border-radius: 0.25em;background-color: #f0f8ff;}#sk-container-id-7 input.sk-toggleable__control:checked~div.sk-toggleable__content {max-height: 200px;max-width: 100%;overflow: auto;}#sk-container-id-7 input.sk-toggleable__control:checked~label.sk-toggleable__label-arrow:before {content: \"▾\";}#sk-container-id-7 div.sk-estimator input.sk-toggleable__control:checked~label.sk-toggleable__label {background-color: #d4ebff;}#sk-container-id-7 div.sk-label input.sk-toggleable__control:checked~label.sk-toggleable__label {background-color: #d4ebff;}#sk-container-id-7 input.sk-hidden--visually {border: 0;clip: rect(1px 1px 1px 1px);clip: rect(1px, 1px, 1px, 1px);height: 1px;margin: -1px;overflow: hidden;padding: 0;position: absolute;width: 1px;}#sk-container-id-7 div.sk-estimator {font-family: monospace;background-color: #f0f8ff;border: 1px dotted black;border-radius: 0.25em;box-sizing: border-box;margin-bottom: 0.5em;}#sk-container-id-7 div.sk-estimator:hover {background-color: #d4ebff;}#sk-container-id-7 div.sk-parallel-item::after {content: \"\";width: 100%;border-bottom: 1px solid gray;flex-grow: 1;}#sk-container-id-7 div.sk-label:hover label.sk-toggleable__label {background-color: #d4ebff;}#sk-container-id-7 div.sk-serial::before {content: \"\";position: absolute;border-left: 1px solid gray;box-sizing: border-box;top: 0;bottom: 0;left: 50%;z-index: 0;}#sk-container-id-7 div.sk-serial {display: flex;flex-direction: column;align-items: center;background-color: white;padding-right: 0.2em;padding-left: 0.2em;position: relative;}#sk-container-id-7 div.sk-item {position: relative;z-index: 1;}#sk-container-id-7 div.sk-parallel {display: flex;align-items: stretch;justify-content: center;background-color: white;position: relative;}#sk-container-id-7 div.sk-item::before, #sk-container-id-7 div.sk-parallel-item::before {content: \"\";position: absolute;border-left: 1px solid gray;box-sizing: border-box;top: 0;bottom: 0;left: 50%;z-index: -1;}#sk-container-id-7 div.sk-parallel-item {display: flex;flex-direction: column;z-index: 1;position: relative;background-color: white;}#sk-container-id-7 div.sk-parallel-item:first-child::after {align-self: flex-end;width: 50%;}#sk-container-id-7 div.sk-parallel-item:last-child::after {align-self: flex-start;width: 50%;}#sk-container-id-7 div.sk-parallel-item:only-child::after {width: 0;}#sk-container-id-7 div.sk-dashed-wrapped {border: 1px dashed gray;margin: 0 0.4em 0.5em 0.4em;box-sizing: border-box;padding-bottom: 0.4em;background-color: white;}#sk-container-id-7 div.sk-label label {font-family: monospace;font-weight: bold;display: inline-block;line-height: 1.2em;}#sk-container-id-7 div.sk-label-container {text-align: center;}#sk-container-id-7 div.sk-container {/* jupyter's `normalize.less` sets `[hidden] { display: none; }` but bootstrap.min.css set `[hidden] { display: none !important; }` so we also need the `!important` here to be able to override the default hidden behavior on the sphinx rendered scikit-learn.org. See: https://github.com/scikit-learn/scikit-learn/issues/21755 */display: inline-block !important;position: relative;}#sk-container-id-7 div.sk-text-repr-fallback {display: none;}</style><div id=\"sk-container-id-7\" class=\"sk-top-container\"><div class=\"sk-text-repr-fallback\"><pre>Pipeline(steps=[(&#x27;transormer&#x27;,\n",
       "                 ColumnTransformer(transformers=[(&#x27;Numerical&#x27;,\n",
       "                                                  Pipeline(steps=[(&#x27;winsorizer &#x27;\n",
       "                                                                   &#x27;Gaussian&#x27;,\n",
       "                                                                   Winsorizer(fold=1.5,\n",
       "                                                                              tail=&#x27;both&#x27;,\n",
       "                                                                              variables=[&#x27;Bedroom2&#x27;,\n",
       "                                                                                         &#x27;Bathroom&#x27;])),\n",
       "                                                                  (&#x27;winsorizer &#x27;\n",
       "                                                                   &#x27;iqr&#x27;,\n",
       "                                                                   Winsorizer(capping_method=&#x27;iqr&#x27;,\n",
       "                                                                              fold=1.5,\n",
       "                                                                              tail=&#x27;both&#x27;,\n",
       "                                                                              variables=[&#x27;Distance&#x27;,\n",
       "                                                                                         &#x27;Car&#x27;,\n",
       "                                                                                         &#x27;Landsize&#x27;,\n",
       "                                                                                         &#x27;BuildingArea&#x27;])),\n",
       "                                                                  (&#x27;scaler&#x27;,\n",
       "                                                                   StandardScaler())]),\n",
       "                                                  [&#x27;Distance&#x27;, &#x27;Car&#x27;,\n",
       "                                                   &#x27;Landsize&#x27;, &#x27;BuildingArea&#x27;,\n",
       "                                                   &#x27;Bathroom&#x27;, &#x27;Bedroom2&#x27;]),\n",
       "                                                 (&#x27;Categorical&#x27;,\n",
       "                                                  Pipeline(steps=[(&#x27;onehot&#x27;,\n",
       "                                                                   OneHotEncoder(handle_unknown=&#x27;ignore&#x27;))]),\n",
       "                                                  [&#x27;Type&#x27;, &#x27;Method&#x27;])])),\n",
       "                (&#x27;regressor&#x27;, SVR())])</pre><b>In a Jupyter environment, please rerun this cell to show the HTML representation or trust the notebook. <br />On GitHub, the HTML representation is unable to render, please try loading this page with nbviewer.org.</b></div><div class=\"sk-container\" hidden><div class=\"sk-item sk-dashed-wrapped\"><div class=\"sk-label-container\"><div class=\"sk-label sk-toggleable\"><input class=\"sk-toggleable__control sk-hidden--visually\" id=\"sk-estimator-id-53\" type=\"checkbox\" ><label for=\"sk-estimator-id-53\" class=\"sk-toggleable__label sk-toggleable__label-arrow\">Pipeline</label><div class=\"sk-toggleable__content\"><pre>Pipeline(steps=[(&#x27;transormer&#x27;,\n",
       "                 ColumnTransformer(transformers=[(&#x27;Numerical&#x27;,\n",
       "                                                  Pipeline(steps=[(&#x27;winsorizer &#x27;\n",
       "                                                                   &#x27;Gaussian&#x27;,\n",
       "                                                                   Winsorizer(fold=1.5,\n",
       "                                                                              tail=&#x27;both&#x27;,\n",
       "                                                                              variables=[&#x27;Bedroom2&#x27;,\n",
       "                                                                                         &#x27;Bathroom&#x27;])),\n",
       "                                                                  (&#x27;winsorizer &#x27;\n",
       "                                                                   &#x27;iqr&#x27;,\n",
       "                                                                   Winsorizer(capping_method=&#x27;iqr&#x27;,\n",
       "                                                                              fold=1.5,\n",
       "                                                                              tail=&#x27;both&#x27;,\n",
       "                                                                              variables=[&#x27;Distance&#x27;,\n",
       "                                                                                         &#x27;Car&#x27;,\n",
       "                                                                                         &#x27;Landsize&#x27;,\n",
       "                                                                                         &#x27;BuildingArea&#x27;])),\n",
       "                                                                  (&#x27;scaler&#x27;,\n",
       "                                                                   StandardScaler())]),\n",
       "                                                  [&#x27;Distance&#x27;, &#x27;Car&#x27;,\n",
       "                                                   &#x27;Landsize&#x27;, &#x27;BuildingArea&#x27;,\n",
       "                                                   &#x27;Bathroom&#x27;, &#x27;Bedroom2&#x27;]),\n",
       "                                                 (&#x27;Categorical&#x27;,\n",
       "                                                  Pipeline(steps=[(&#x27;onehot&#x27;,\n",
       "                                                                   OneHotEncoder(handle_unknown=&#x27;ignore&#x27;))]),\n",
       "                                                  [&#x27;Type&#x27;, &#x27;Method&#x27;])])),\n",
       "                (&#x27;regressor&#x27;, SVR())])</pre></div></div></div><div class=\"sk-serial\"><div class=\"sk-item sk-dashed-wrapped\"><div class=\"sk-label-container\"><div class=\"sk-label sk-toggleable\"><input class=\"sk-toggleable__control sk-hidden--visually\" id=\"sk-estimator-id-54\" type=\"checkbox\" ><label for=\"sk-estimator-id-54\" class=\"sk-toggleable__label sk-toggleable__label-arrow\">transormer: ColumnTransformer</label><div class=\"sk-toggleable__content\"><pre>ColumnTransformer(transformers=[(&#x27;Numerical&#x27;,\n",
       "                                 Pipeline(steps=[(&#x27;winsorizer Gaussian&#x27;,\n",
       "                                                  Winsorizer(fold=1.5,\n",
       "                                                             tail=&#x27;both&#x27;,\n",
       "                                                             variables=[&#x27;Bedroom2&#x27;,\n",
       "                                                                        &#x27;Bathroom&#x27;])),\n",
       "                                                 (&#x27;winsorizer iqr&#x27;,\n",
       "                                                  Winsorizer(capping_method=&#x27;iqr&#x27;,\n",
       "                                                             fold=1.5,\n",
       "                                                             tail=&#x27;both&#x27;,\n",
       "                                                             variables=[&#x27;Distance&#x27;,\n",
       "                                                                        &#x27;Car&#x27;,\n",
       "                                                                        &#x27;Landsize&#x27;,\n",
       "                                                                        &#x27;BuildingArea&#x27;])),\n",
       "                                                 (&#x27;scaler&#x27;, StandardScaler())]),\n",
       "                                 [&#x27;Distance&#x27;, &#x27;Car&#x27;, &#x27;Landsize&#x27;, &#x27;BuildingArea&#x27;,\n",
       "                                  &#x27;Bathroom&#x27;, &#x27;Bedroom2&#x27;]),\n",
       "                                (&#x27;Categorical&#x27;,\n",
       "                                 Pipeline(steps=[(&#x27;onehot&#x27;,\n",
       "                                                  OneHotEncoder(handle_unknown=&#x27;ignore&#x27;))]),\n",
       "                                 [&#x27;Type&#x27;, &#x27;Method&#x27;])])</pre></div></div></div><div class=\"sk-parallel\"><div class=\"sk-parallel-item\"><div class=\"sk-item\"><div class=\"sk-label-container\"><div class=\"sk-label sk-toggleable\"><input class=\"sk-toggleable__control sk-hidden--visually\" id=\"sk-estimator-id-55\" type=\"checkbox\" ><label for=\"sk-estimator-id-55\" class=\"sk-toggleable__label sk-toggleable__label-arrow\">Numerical</label><div class=\"sk-toggleable__content\"><pre>[&#x27;Distance&#x27;, &#x27;Car&#x27;, &#x27;Landsize&#x27;, &#x27;BuildingArea&#x27;, &#x27;Bathroom&#x27;, &#x27;Bedroom2&#x27;]</pre></div></div></div><div class=\"sk-serial\"><div class=\"sk-item\"><div class=\"sk-serial\"><div class=\"sk-item\"><div class=\"sk-estimator sk-toggleable\"><input class=\"sk-toggleable__control sk-hidden--visually\" id=\"sk-estimator-id-56\" type=\"checkbox\" ><label for=\"sk-estimator-id-56\" class=\"sk-toggleable__label sk-toggleable__label-arrow\">Winsorizer</label><div class=\"sk-toggleable__content\"><pre>Winsorizer(fold=1.5, tail=&#x27;both&#x27;, variables=[&#x27;Bedroom2&#x27;, &#x27;Bathroom&#x27;])</pre></div></div></div><div class=\"sk-item\"><div class=\"sk-estimator sk-toggleable\"><input class=\"sk-toggleable__control sk-hidden--visually\" id=\"sk-estimator-id-57\" type=\"checkbox\" ><label for=\"sk-estimator-id-57\" class=\"sk-toggleable__label sk-toggleable__label-arrow\">Winsorizer</label><div class=\"sk-toggleable__content\"><pre>Winsorizer(capping_method=&#x27;iqr&#x27;, fold=1.5, tail=&#x27;both&#x27;,\n",
       "           variables=[&#x27;Distance&#x27;, &#x27;Car&#x27;, &#x27;Landsize&#x27;, &#x27;BuildingArea&#x27;])</pre></div></div></div><div class=\"sk-item\"><div class=\"sk-estimator sk-toggleable\"><input class=\"sk-toggleable__control sk-hidden--visually\" id=\"sk-estimator-id-58\" type=\"checkbox\" ><label for=\"sk-estimator-id-58\" class=\"sk-toggleable__label sk-toggleable__label-arrow\">StandardScaler</label><div class=\"sk-toggleable__content\"><pre>StandardScaler()</pre></div></div></div></div></div></div></div></div><div class=\"sk-parallel-item\"><div class=\"sk-item\"><div class=\"sk-label-container\"><div class=\"sk-label sk-toggleable\"><input class=\"sk-toggleable__control sk-hidden--visually\" id=\"sk-estimator-id-59\" type=\"checkbox\" ><label for=\"sk-estimator-id-59\" class=\"sk-toggleable__label sk-toggleable__label-arrow\">Categorical</label><div class=\"sk-toggleable__content\"><pre>[&#x27;Type&#x27;, &#x27;Method&#x27;]</pre></div></div></div><div class=\"sk-serial\"><div class=\"sk-item\"><div class=\"sk-serial\"><div class=\"sk-item\"><div class=\"sk-estimator sk-toggleable\"><input class=\"sk-toggleable__control sk-hidden--visually\" id=\"sk-estimator-id-60\" type=\"checkbox\" ><label for=\"sk-estimator-id-60\" class=\"sk-toggleable__label sk-toggleable__label-arrow\">OneHotEncoder</label><div class=\"sk-toggleable__content\"><pre>OneHotEncoder(handle_unknown=&#x27;ignore&#x27;)</pre></div></div></div></div></div></div></div></div></div></div><div class=\"sk-item\"><div class=\"sk-estimator sk-toggleable\"><input class=\"sk-toggleable__control sk-hidden--visually\" id=\"sk-estimator-id-61\" type=\"checkbox\" ><label for=\"sk-estimator-id-61\" class=\"sk-toggleable__label sk-toggleable__label-arrow\">SVR</label><div class=\"sk-toggleable__content\"><pre>SVR()</pre></div></div></div></div></div></div></div>"
      ],
      "text/plain": [
       "Pipeline(steps=[('transormer',\n",
       "                 ColumnTransformer(transformers=[('Numerical',\n",
       "                                                  Pipeline(steps=[('winsorizer '\n",
       "                                                                   'Gaussian',\n",
       "                                                                   Winsorizer(fold=1.5,\n",
       "                                                                              tail='both',\n",
       "                                                                              variables=['Bedroom2',\n",
       "                                                                                         'Bathroom'])),\n",
       "                                                                  ('winsorizer '\n",
       "                                                                   'iqr',\n",
       "                                                                   Winsorizer(capping_method='iqr',\n",
       "                                                                              fold=1.5,\n",
       "                                                                              tail='both',\n",
       "                                                                              variables=['Distance',\n",
       "                                                                                         'Car',\n",
       "                                                                                         'Landsize',\n",
       "                                                                                         'BuildingArea'])),\n",
       "                                                                  ('scaler',\n",
       "                                                                   StandardScaler())]),\n",
       "                                                  ['Distance', 'Car',\n",
       "                                                   'Landsize', 'BuildingArea',\n",
       "                                                   'Bathroom', 'Bedroom2']),\n",
       "                                                 ('Categorical',\n",
       "                                                  Pipeline(steps=[('onehot',\n",
       "                                                                   OneHotEncoder(handle_unknown='ignore'))]),\n",
       "                                                  ['Type', 'Method'])])),\n",
       "                ('regressor', SVR())])"
      ]
     },
     "execution_count": 43,
     "metadata": {},
     "output_type": "execute_result"
    }
   ],
   "source": [
    "pipe_svr"
   ]
  },
  {
   "cell_type": "code",
   "execution_count": 44,
   "metadata": {},
   "outputs": [
    {
     "name": "stdout",
     "output_type": "stream",
     "text": [
      "-0.07190262344693821\n",
      "-0.06479689964438795\n"
     ]
    }
   ],
   "source": [
    "pipe_svr.fit(X_train,y_train)\n",
    "\n",
    "y_train_svr = pipe_svr.predict(X_train)\n",
    "y_test_svr = pipe_svr.predict(X_test)\n",
    "\n",
    "print (pipe_svr.score(X_train,y_train))\n",
    "print(pipe_svr.score(X_test,y_test))\n"
   ]
  },
  {
   "cell_type": "markdown",
   "metadata": {},
   "source": [
    "### 7. SGD Regressor"
   ]
  },
  {
   "cell_type": "code",
   "execution_count": 45,
   "metadata": {},
   "outputs": [
    {
     "data": {
      "text/html": [
       "<style>#sk-container-id-8 {color: black;}#sk-container-id-8 pre{padding: 0;}#sk-container-id-8 div.sk-toggleable {background-color: white;}#sk-container-id-8 label.sk-toggleable__label {cursor: pointer;display: block;width: 100%;margin-bottom: 0;padding: 0.3em;box-sizing: border-box;text-align: center;}#sk-container-id-8 label.sk-toggleable__label-arrow:before {content: \"▸\";float: left;margin-right: 0.25em;color: #696969;}#sk-container-id-8 label.sk-toggleable__label-arrow:hover:before {color: black;}#sk-container-id-8 div.sk-estimator:hover label.sk-toggleable__label-arrow:before {color: black;}#sk-container-id-8 div.sk-toggleable__content {max-height: 0;max-width: 0;overflow: hidden;text-align: left;background-color: #f0f8ff;}#sk-container-id-8 div.sk-toggleable__content pre {margin: 0.2em;color: black;border-radius: 0.25em;background-color: #f0f8ff;}#sk-container-id-8 input.sk-toggleable__control:checked~div.sk-toggleable__content {max-height: 200px;max-width: 100%;overflow: auto;}#sk-container-id-8 input.sk-toggleable__control:checked~label.sk-toggleable__label-arrow:before {content: \"▾\";}#sk-container-id-8 div.sk-estimator input.sk-toggleable__control:checked~label.sk-toggleable__label {background-color: #d4ebff;}#sk-container-id-8 div.sk-label input.sk-toggleable__control:checked~label.sk-toggleable__label {background-color: #d4ebff;}#sk-container-id-8 input.sk-hidden--visually {border: 0;clip: rect(1px 1px 1px 1px);clip: rect(1px, 1px, 1px, 1px);height: 1px;margin: -1px;overflow: hidden;padding: 0;position: absolute;width: 1px;}#sk-container-id-8 div.sk-estimator {font-family: monospace;background-color: #f0f8ff;border: 1px dotted black;border-radius: 0.25em;box-sizing: border-box;margin-bottom: 0.5em;}#sk-container-id-8 div.sk-estimator:hover {background-color: #d4ebff;}#sk-container-id-8 div.sk-parallel-item::after {content: \"\";width: 100%;border-bottom: 1px solid gray;flex-grow: 1;}#sk-container-id-8 div.sk-label:hover label.sk-toggleable__label {background-color: #d4ebff;}#sk-container-id-8 div.sk-serial::before {content: \"\";position: absolute;border-left: 1px solid gray;box-sizing: border-box;top: 0;bottom: 0;left: 50%;z-index: 0;}#sk-container-id-8 div.sk-serial {display: flex;flex-direction: column;align-items: center;background-color: white;padding-right: 0.2em;padding-left: 0.2em;position: relative;}#sk-container-id-8 div.sk-item {position: relative;z-index: 1;}#sk-container-id-8 div.sk-parallel {display: flex;align-items: stretch;justify-content: center;background-color: white;position: relative;}#sk-container-id-8 div.sk-item::before, #sk-container-id-8 div.sk-parallel-item::before {content: \"\";position: absolute;border-left: 1px solid gray;box-sizing: border-box;top: 0;bottom: 0;left: 50%;z-index: -1;}#sk-container-id-8 div.sk-parallel-item {display: flex;flex-direction: column;z-index: 1;position: relative;background-color: white;}#sk-container-id-8 div.sk-parallel-item:first-child::after {align-self: flex-end;width: 50%;}#sk-container-id-8 div.sk-parallel-item:last-child::after {align-self: flex-start;width: 50%;}#sk-container-id-8 div.sk-parallel-item:only-child::after {width: 0;}#sk-container-id-8 div.sk-dashed-wrapped {border: 1px dashed gray;margin: 0 0.4em 0.5em 0.4em;box-sizing: border-box;padding-bottom: 0.4em;background-color: white;}#sk-container-id-8 div.sk-label label {font-family: monospace;font-weight: bold;display: inline-block;line-height: 1.2em;}#sk-container-id-8 div.sk-label-container {text-align: center;}#sk-container-id-8 div.sk-container {/* jupyter's `normalize.less` sets `[hidden] { display: none; }` but bootstrap.min.css set `[hidden] { display: none !important; }` so we also need the `!important` here to be able to override the default hidden behavior on the sphinx rendered scikit-learn.org. See: https://github.com/scikit-learn/scikit-learn/issues/21755 */display: inline-block !important;position: relative;}#sk-container-id-8 div.sk-text-repr-fallback {display: none;}</style><div id=\"sk-container-id-8\" class=\"sk-top-container\"><div class=\"sk-text-repr-fallback\"><pre>Pipeline(steps=[(&#x27;transormer&#x27;,\n",
       "                 ColumnTransformer(transformers=[(&#x27;Numerical&#x27;,\n",
       "                                                  Pipeline(steps=[(&#x27;winsorizer &#x27;\n",
       "                                                                   &#x27;Gaussian&#x27;,\n",
       "                                                                   Winsorizer(fold=1.5,\n",
       "                                                                              tail=&#x27;both&#x27;,\n",
       "                                                                              variables=[&#x27;Bedroom2&#x27;,\n",
       "                                                                                         &#x27;Bathroom&#x27;])),\n",
       "                                                                  (&#x27;winsorizer &#x27;\n",
       "                                                                   &#x27;iqr&#x27;,\n",
       "                                                                   Winsorizer(capping_method=&#x27;iqr&#x27;,\n",
       "                                                                              fold=1.5,\n",
       "                                                                              tail=&#x27;both&#x27;,\n",
       "                                                                              variables=[&#x27;Distance&#x27;,\n",
       "                                                                                         &#x27;Car&#x27;,\n",
       "                                                                                         &#x27;Landsize&#x27;,\n",
       "                                                                                         &#x27;BuildingArea&#x27;])),\n",
       "                                                                  (&#x27;scaler&#x27;,\n",
       "                                                                   StandardScaler())]),\n",
       "                                                  [&#x27;Distance&#x27;, &#x27;Car&#x27;,\n",
       "                                                   &#x27;Landsize&#x27;, &#x27;BuildingArea&#x27;,\n",
       "                                                   &#x27;Bathroom&#x27;, &#x27;Bedroom2&#x27;]),\n",
       "                                                 (&#x27;Categorical&#x27;,\n",
       "                                                  Pipeline(steps=[(&#x27;onehot&#x27;,\n",
       "                                                                   OneHotEncoder(handle_unknown=&#x27;ignore&#x27;))]),\n",
       "                                                  [&#x27;Type&#x27;, &#x27;Method&#x27;])])),\n",
       "                (&#x27;regressor&#x27;, SGDRegressor())])</pre><b>In a Jupyter environment, please rerun this cell to show the HTML representation or trust the notebook. <br />On GitHub, the HTML representation is unable to render, please try loading this page with nbviewer.org.</b></div><div class=\"sk-container\" hidden><div class=\"sk-item sk-dashed-wrapped\"><div class=\"sk-label-container\"><div class=\"sk-label sk-toggleable\"><input class=\"sk-toggleable__control sk-hidden--visually\" id=\"sk-estimator-id-62\" type=\"checkbox\" ><label for=\"sk-estimator-id-62\" class=\"sk-toggleable__label sk-toggleable__label-arrow\">Pipeline</label><div class=\"sk-toggleable__content\"><pre>Pipeline(steps=[(&#x27;transormer&#x27;,\n",
       "                 ColumnTransformer(transformers=[(&#x27;Numerical&#x27;,\n",
       "                                                  Pipeline(steps=[(&#x27;winsorizer &#x27;\n",
       "                                                                   &#x27;Gaussian&#x27;,\n",
       "                                                                   Winsorizer(fold=1.5,\n",
       "                                                                              tail=&#x27;both&#x27;,\n",
       "                                                                              variables=[&#x27;Bedroom2&#x27;,\n",
       "                                                                                         &#x27;Bathroom&#x27;])),\n",
       "                                                                  (&#x27;winsorizer &#x27;\n",
       "                                                                   &#x27;iqr&#x27;,\n",
       "                                                                   Winsorizer(capping_method=&#x27;iqr&#x27;,\n",
       "                                                                              fold=1.5,\n",
       "                                                                              tail=&#x27;both&#x27;,\n",
       "                                                                              variables=[&#x27;Distance&#x27;,\n",
       "                                                                                         &#x27;Car&#x27;,\n",
       "                                                                                         &#x27;Landsize&#x27;,\n",
       "                                                                                         &#x27;BuildingArea&#x27;])),\n",
       "                                                                  (&#x27;scaler&#x27;,\n",
       "                                                                   StandardScaler())]),\n",
       "                                                  [&#x27;Distance&#x27;, &#x27;Car&#x27;,\n",
       "                                                   &#x27;Landsize&#x27;, &#x27;BuildingArea&#x27;,\n",
       "                                                   &#x27;Bathroom&#x27;, &#x27;Bedroom2&#x27;]),\n",
       "                                                 (&#x27;Categorical&#x27;,\n",
       "                                                  Pipeline(steps=[(&#x27;onehot&#x27;,\n",
       "                                                                   OneHotEncoder(handle_unknown=&#x27;ignore&#x27;))]),\n",
       "                                                  [&#x27;Type&#x27;, &#x27;Method&#x27;])])),\n",
       "                (&#x27;regressor&#x27;, SGDRegressor())])</pre></div></div></div><div class=\"sk-serial\"><div class=\"sk-item sk-dashed-wrapped\"><div class=\"sk-label-container\"><div class=\"sk-label sk-toggleable\"><input class=\"sk-toggleable__control sk-hidden--visually\" id=\"sk-estimator-id-63\" type=\"checkbox\" ><label for=\"sk-estimator-id-63\" class=\"sk-toggleable__label sk-toggleable__label-arrow\">transormer: ColumnTransformer</label><div class=\"sk-toggleable__content\"><pre>ColumnTransformer(transformers=[(&#x27;Numerical&#x27;,\n",
       "                                 Pipeline(steps=[(&#x27;winsorizer Gaussian&#x27;,\n",
       "                                                  Winsorizer(fold=1.5,\n",
       "                                                             tail=&#x27;both&#x27;,\n",
       "                                                             variables=[&#x27;Bedroom2&#x27;,\n",
       "                                                                        &#x27;Bathroom&#x27;])),\n",
       "                                                 (&#x27;winsorizer iqr&#x27;,\n",
       "                                                  Winsorizer(capping_method=&#x27;iqr&#x27;,\n",
       "                                                             fold=1.5,\n",
       "                                                             tail=&#x27;both&#x27;,\n",
       "                                                             variables=[&#x27;Distance&#x27;,\n",
       "                                                                        &#x27;Car&#x27;,\n",
       "                                                                        &#x27;Landsize&#x27;,\n",
       "                                                                        &#x27;BuildingArea&#x27;])),\n",
       "                                                 (&#x27;scaler&#x27;, StandardScaler())]),\n",
       "                                 [&#x27;Distance&#x27;, &#x27;Car&#x27;, &#x27;Landsize&#x27;, &#x27;BuildingArea&#x27;,\n",
       "                                  &#x27;Bathroom&#x27;, &#x27;Bedroom2&#x27;]),\n",
       "                                (&#x27;Categorical&#x27;,\n",
       "                                 Pipeline(steps=[(&#x27;onehot&#x27;,\n",
       "                                                  OneHotEncoder(handle_unknown=&#x27;ignore&#x27;))]),\n",
       "                                 [&#x27;Type&#x27;, &#x27;Method&#x27;])])</pre></div></div></div><div class=\"sk-parallel\"><div class=\"sk-parallel-item\"><div class=\"sk-item\"><div class=\"sk-label-container\"><div class=\"sk-label sk-toggleable\"><input class=\"sk-toggleable__control sk-hidden--visually\" id=\"sk-estimator-id-64\" type=\"checkbox\" ><label for=\"sk-estimator-id-64\" class=\"sk-toggleable__label sk-toggleable__label-arrow\">Numerical</label><div class=\"sk-toggleable__content\"><pre>[&#x27;Distance&#x27;, &#x27;Car&#x27;, &#x27;Landsize&#x27;, &#x27;BuildingArea&#x27;, &#x27;Bathroom&#x27;, &#x27;Bedroom2&#x27;]</pre></div></div></div><div class=\"sk-serial\"><div class=\"sk-item\"><div class=\"sk-serial\"><div class=\"sk-item\"><div class=\"sk-estimator sk-toggleable\"><input class=\"sk-toggleable__control sk-hidden--visually\" id=\"sk-estimator-id-65\" type=\"checkbox\" ><label for=\"sk-estimator-id-65\" class=\"sk-toggleable__label sk-toggleable__label-arrow\">Winsorizer</label><div class=\"sk-toggleable__content\"><pre>Winsorizer(fold=1.5, tail=&#x27;both&#x27;, variables=[&#x27;Bedroom2&#x27;, &#x27;Bathroom&#x27;])</pre></div></div></div><div class=\"sk-item\"><div class=\"sk-estimator sk-toggleable\"><input class=\"sk-toggleable__control sk-hidden--visually\" id=\"sk-estimator-id-66\" type=\"checkbox\" ><label for=\"sk-estimator-id-66\" class=\"sk-toggleable__label sk-toggleable__label-arrow\">Winsorizer</label><div class=\"sk-toggleable__content\"><pre>Winsorizer(capping_method=&#x27;iqr&#x27;, fold=1.5, tail=&#x27;both&#x27;,\n",
       "           variables=[&#x27;Distance&#x27;, &#x27;Car&#x27;, &#x27;Landsize&#x27;, &#x27;BuildingArea&#x27;])</pre></div></div></div><div class=\"sk-item\"><div class=\"sk-estimator sk-toggleable\"><input class=\"sk-toggleable__control sk-hidden--visually\" id=\"sk-estimator-id-67\" type=\"checkbox\" ><label for=\"sk-estimator-id-67\" class=\"sk-toggleable__label sk-toggleable__label-arrow\">StandardScaler</label><div class=\"sk-toggleable__content\"><pre>StandardScaler()</pre></div></div></div></div></div></div></div></div><div class=\"sk-parallel-item\"><div class=\"sk-item\"><div class=\"sk-label-container\"><div class=\"sk-label sk-toggleable\"><input class=\"sk-toggleable__control sk-hidden--visually\" id=\"sk-estimator-id-68\" type=\"checkbox\" ><label for=\"sk-estimator-id-68\" class=\"sk-toggleable__label sk-toggleable__label-arrow\">Categorical</label><div class=\"sk-toggleable__content\"><pre>[&#x27;Type&#x27;, &#x27;Method&#x27;]</pre></div></div></div><div class=\"sk-serial\"><div class=\"sk-item\"><div class=\"sk-serial\"><div class=\"sk-item\"><div class=\"sk-estimator sk-toggleable\"><input class=\"sk-toggleable__control sk-hidden--visually\" id=\"sk-estimator-id-69\" type=\"checkbox\" ><label for=\"sk-estimator-id-69\" class=\"sk-toggleable__label sk-toggleable__label-arrow\">OneHotEncoder</label><div class=\"sk-toggleable__content\"><pre>OneHotEncoder(handle_unknown=&#x27;ignore&#x27;)</pre></div></div></div></div></div></div></div></div></div></div><div class=\"sk-item\"><div class=\"sk-estimator sk-toggleable\"><input class=\"sk-toggleable__control sk-hidden--visually\" id=\"sk-estimator-id-70\" type=\"checkbox\" ><label for=\"sk-estimator-id-70\" class=\"sk-toggleable__label sk-toggleable__label-arrow\">SGDRegressor</label><div class=\"sk-toggleable__content\"><pre>SGDRegressor()</pre></div></div></div></div></div></div></div>"
      ],
      "text/plain": [
       "Pipeline(steps=[('transormer',\n",
       "                 ColumnTransformer(transformers=[('Numerical',\n",
       "                                                  Pipeline(steps=[('winsorizer '\n",
       "                                                                   'Gaussian',\n",
       "                                                                   Winsorizer(fold=1.5,\n",
       "                                                                              tail='both',\n",
       "                                                                              variables=['Bedroom2',\n",
       "                                                                                         'Bathroom'])),\n",
       "                                                                  ('winsorizer '\n",
       "                                                                   'iqr',\n",
       "                                                                   Winsorizer(capping_method='iqr',\n",
       "                                                                              fold=1.5,\n",
       "                                                                              tail='both',\n",
       "                                                                              variables=['Distance',\n",
       "                                                                                         'Car',\n",
       "                                                                                         'Landsize',\n",
       "                                                                                         'BuildingArea'])),\n",
       "                                                                  ('scaler',\n",
       "                                                                   StandardScaler())]),\n",
       "                                                  ['Distance', 'Car',\n",
       "                                                   'Landsize', 'BuildingArea',\n",
       "                                                   'Bathroom', 'Bedroom2']),\n",
       "                                                 ('Categorical',\n",
       "                                                  Pipeline(steps=[('onehot',\n",
       "                                                                   OneHotEncoder(handle_unknown='ignore'))]),\n",
       "                                                  ['Type', 'Method'])])),\n",
       "                ('regressor', SGDRegressor())])"
      ]
     },
     "execution_count": 45,
     "metadata": {},
     "output_type": "execute_result"
    }
   ],
   "source": [
    "pipe_sgd"
   ]
  },
  {
   "cell_type": "code",
   "execution_count": 46,
   "metadata": {},
   "outputs": [
    {
     "name": "stdout",
     "output_type": "stream",
     "text": [
      "0.45552070309797854\n",
      "0.4649442183645376\n"
     ]
    }
   ],
   "source": [
    "pipe_sgd.fit(X_train,y_train)\n",
    "\n",
    "y_train_sgd = pipe_sgd.predict(X_train)\n",
    "y_test_sgd = pipe_sgd.predict(X_test)\n",
    "\n",
    "print (pipe_sgd.score(X_train,y_train))\n",
    "print(pipe_sgd.score(X_test,y_test))\n"
   ]
  },
  {
   "cell_type": "markdown",
   "metadata": {},
   "source": [
    "## Cross Validation"
   ]
  },
  {
   "cell_type": "markdown",
   "metadata": {},
   "source": [
    "Cross-validation adalah teknik evaluasi model yang umum digunakan dalam machine learning. Tujuannya adalah untuk mengukur seberapa baik kinerja model dalam mengeneralisasi data yang belum pernah dilihat sebelumnya. Ini dilakukan dengan membagi data menjadi subset yang saling terpisah untuk pelatihan dan pengujian."
   ]
  },
  {
   "cell_type": "markdown",
   "metadata": {},
   "source": [
    "### 1. Cross Validation Linear Regression"
   ]
  },
  {
   "cell_type": "code",
   "execution_count": 47,
   "metadata": {},
   "outputs": [
    {
     "name": "stdout",
     "output_type": "stream",
     "text": [
      "----Cross Validation Linear Regression ---- \n",
      "r2 Score - All - Cross Validation  :  [0.45669128 0.46687043 0.42485989 0.4566042  0.4667493 ]\n",
      "r2 Score - Mean - Cross Validation :  0.4543550202948124\n",
      "r2 Score - Std - Cross Validation  :  0.015432001928529821\n",
      "r2 Score - Range of Test-Set       :  0.43892301836628256 - 0.46978702222334223\n"
     ]
    }
   ],
   "source": [
    "r2_train_cross_val_linreg = cross_val_score(pipe_linreg,\n",
    "                                        X_train,\n",
    "                                        y_train,\n",
    "                                        cv=5,\n",
    "                                        scoring=\"r2\")\n",
    "\n",
    "print('----Cross Validation Linear Regression ---- ')\n",
    "print('r2 Score - All - Cross Validation  : ', r2_train_cross_val_linreg)\n",
    "print('r2 Score - Mean - Cross Validation : ', r2_train_cross_val_linreg.mean())\n",
    "print('r2 Score - Std - Cross Validation  : ', r2_train_cross_val_linreg.std())\n",
    "print('r2 Score - Range of Test-Set       : ', (r2_train_cross_val_linreg.mean()-r2_train_cross_val_linreg.std()) , '-', (r2_train_cross_val_linreg.mean()+r2_train_cross_val_linreg.std()))"
   ]
  },
  {
   "cell_type": "markdown",
   "metadata": {},
   "source": [
    "### 2. Cross Validation KNN"
   ]
  },
  {
   "cell_type": "code",
   "execution_count": 48,
   "metadata": {},
   "outputs": [
    {
     "name": "stdout",
     "output_type": "stream",
     "text": [
      "----Cross Validation KNN ---- \n",
      "r2 Score - All - Cross Validation  :  [0.46658844 0.52287241 0.46954215 0.48297544 0.50746092]\n",
      "r2 Score - Mean - Cross Validation :  0.48988787130833933\n",
      "r2 Score - Std - Cross Validation  :  0.0219152240062251\n",
      "r2 Score - Range of Test-Set       :  0.46797264730211424 - 0.5118030953145645\n"
     ]
    }
   ],
   "source": [
    "r2_train_cross_val_knn = cross_val_score(pipe_knn,\n",
    "                                        X_train,\n",
    "                                        y_train,\n",
    "                                        cv=5,\n",
    "                                        scoring=\"r2\")\n",
    "\n",
    "print('----Cross Validation KNN ---- ')\n",
    "print('r2 Score - All - Cross Validation  : ', r2_train_cross_val_knn)\n",
    "print('r2 Score - Mean - Cross Validation : ', r2_train_cross_val_knn.mean())\n",
    "print('r2 Score - Std - Cross Validation  : ', r2_train_cross_val_knn.std())\n",
    "print('r2 Score - Range of Test-Set       : ', (r2_train_cross_val_knn.mean()-r2_train_cross_val_knn.std()) , '-', (r2_train_cross_val_knn.mean()+r2_train_cross_val_knn.std()))"
   ]
  },
  {
   "cell_type": "markdown",
   "metadata": {},
   "source": [
    "### 3. Cross Validation Decission Tree"
   ]
  },
  {
   "cell_type": "code",
   "execution_count": 49,
   "metadata": {},
   "outputs": [
    {
     "name": "stdout",
     "output_type": "stream",
     "text": [
      "----Cross Validation Decission Tree ---- \n",
      "r2 Score - All - Cross Validation  :  [0.25314912 0.18530774 0.23874907 0.07919877 0.21199516]\n",
      "r2 Score - Mean - Cross Validation :  0.19367997302728998\n",
      "r2 Score - Std - Cross Validation  :  0.061772629260275276\n",
      "r2 Score - Range of Test-Set       :  0.1319073437670147 - 0.2554526022875653\n"
     ]
    }
   ],
   "source": [
    "r2_train_cross_val_dtr = cross_val_score(pipe_dtr,\n",
    "                                        X_train,\n",
    "                                        y_train,\n",
    "                                        cv=5,\n",
    "                                        scoring=\"r2\")\n",
    "\n",
    "print('----Cross Validation Decission Tree ---- ')\n",
    "print('r2 Score - All - Cross Validation  : ', r2_train_cross_val_dtr)\n",
    "print('r2 Score - Mean - Cross Validation : ', r2_train_cross_val_dtr.mean())\n",
    "print('r2 Score - Std - Cross Validation  : ', r2_train_cross_val_dtr.std())\n",
    "print('r2 Score - Range of Test-Set       : ', (r2_train_cross_val_dtr.mean()-r2_train_cross_val_dtr.std()) , '-', (r2_train_cross_val_dtr.mean()+r2_train_cross_val_dtr.std()))"
   ]
  },
  {
   "cell_type": "markdown",
   "metadata": {},
   "source": [
    "### 4. Cross Validation Ada Boost Regressor"
   ]
  },
  {
   "cell_type": "code",
   "execution_count": 50,
   "metadata": {},
   "outputs": [
    {
     "name": "stdout",
     "output_type": "stream",
     "text": [
      "----Cross Validation Ada Boost Regressor ---- \n",
      "r2 Score - All - Cross Validation  :  [-0.35874124 -0.31930537  0.09852749 -0.21255179 -0.04109876]\n",
      "r2 Score - Mean - Cross Validation :  -0.16663393530068807\n",
      "r2 Score - Std - Cross Validation  :  0.17227413690175114\n",
      "r2 Score - Range of Test-Set       :  -0.33890807220243924 - 0.005640201601063072\n"
     ]
    }
   ],
   "source": [
    "r2_train_cross_val_abr = cross_val_score(pipe_abr,\n",
    "                                        X_train,\n",
    "                                        y_train,\n",
    "                                        cv=5,\n",
    "                                        scoring=\"r2\")\n",
    "\n",
    "print('----Cross Validation Ada Boost Regressor ---- ')\n",
    "print('r2 Score - All - Cross Validation  : ', r2_train_cross_val_abr)\n",
    "print('r2 Score - Mean - Cross Validation : ', r2_train_cross_val_abr.mean())\n",
    "print('r2 Score - Std - Cross Validation  : ', r2_train_cross_val_abr.std())\n",
    "print('r2 Score - Range of Test-Set       : ', (r2_train_cross_val_abr.mean()-r2_train_cross_val_abr.std()) , '-', (r2_train_cross_val_abr.mean()+r2_train_cross_val_abr.std()))"
   ]
  },
  {
   "cell_type": "markdown",
   "metadata": {},
   "source": [
    "### 5. Cross Validation Random Forest Regressor"
   ]
  },
  {
   "cell_type": "code",
   "execution_count": 51,
   "metadata": {},
   "outputs": [
    {
     "name": "stdout",
     "output_type": "stream",
     "text": [
      "----Cross Validation Random Forest Regressor ---- \n",
      "r2 Score - All - Cross Validation  :  [0.60255637 0.61204815 0.54999599 0.61784808 0.59746898]\n",
      "r2 Score - Mean - Cross Validation :  0.5959835148020755\n",
      "r2 Score - Std - Cross Validation  :  0.024068206712983705\n",
      "r2 Score - Range of Test-Set       :  0.5719153080890917 - 0.6200517215150592\n"
     ]
    }
   ],
   "source": [
    "r2_train_cross_val_rfr = cross_val_score(pipe_rfr,\n",
    "                                        X_train,\n",
    "                                        y_train,\n",
    "                                        cv=5,\n",
    "                                        scoring=\"r2\")\n",
    "\n",
    "print('----Cross Validation Random Forest Regressor ---- ')\n",
    "print('r2 Score - All - Cross Validation  : ', r2_train_cross_val_rfr)\n",
    "print('r2 Score - Mean - Cross Validation : ', r2_train_cross_val_rfr.mean())\n",
    "print('r2 Score - Std - Cross Validation  : ', r2_train_cross_val_rfr.std())\n",
    "print('r2 Score - Range of Test-Set       : ', (r2_train_cross_val_rfr.mean()-r2_train_cross_val_rfr.std()) , '-', (r2_train_cross_val_rfr.mean()+r2_train_cross_val_rfr.std()))"
   ]
  },
  {
   "cell_type": "markdown",
   "metadata": {},
   "source": [
    "### 6. Cross Validation SVR"
   ]
  },
  {
   "cell_type": "code",
   "execution_count": 52,
   "metadata": {},
   "outputs": [
    {
     "name": "stdout",
     "output_type": "stream",
     "text": [
      "----Cross Validation SVR ---- \n",
      "r2 Score - All - Cross Validation  :  [-0.06586481 -0.06005275 -0.07731951 -0.07548755 -0.08097274]\n",
      "r2 Score - Mean - Cross Validation :  -0.07193947184479202\n",
      "r2 Score - Std - Cross Validation  :  0.007763109645750214\n",
      "r2 Score - Range of Test-Set       :  -0.07970258149054224 - -0.0641763621990418\n"
     ]
    }
   ],
   "source": [
    "r2_train_cross_val_svr = cross_val_score(pipe_svr,\n",
    "                                        X_train,\n",
    "                                        y_train,\n",
    "                                        cv=5,\n",
    "                                        scoring=\"r2\")\n",
    "\n",
    "print('----Cross Validation SVR ---- ')\n",
    "print('r2 Score - All - Cross Validation  : ', r2_train_cross_val_svr)\n",
    "print('r2 Score - Mean - Cross Validation : ', r2_train_cross_val_svr.mean())\n",
    "print('r2 Score - Std - Cross Validation  : ', r2_train_cross_val_svr.std())\n",
    "print('r2 Score - Range of Test-Set       : ', (r2_train_cross_val_svr.mean()-r2_train_cross_val_svr.std()) , '-', (r2_train_cross_val_svr.mean()+r2_train_cross_val_svr.std()))"
   ]
  },
  {
   "cell_type": "markdown",
   "metadata": {},
   "source": [
    "### 7. Cross Validation SGD Regressor"
   ]
  },
  {
   "cell_type": "code",
   "execution_count": 53,
   "metadata": {},
   "outputs": [
    {
     "name": "stdout",
     "output_type": "stream",
     "text": [
      "----Cross Validation SGD Regressor ---- \n",
      "r2 Score - All - Cross Validation  :  [0.4554523  0.4620895  0.42623351 0.4552807  0.46783488]\n",
      "r2 Score - Mean - Cross Validation :  0.453378177908652\n",
      "r2 Score - Std - Cross Validation  :  0.014350174520756999\n",
      "r2 Score - Range of Test-Set       :  0.439028003387895 - 0.46772835242940897\n"
     ]
    }
   ],
   "source": [
    "r2_train_cross_val_sgd = cross_val_score(pipe_sgd,\n",
    "                                        X_train,\n",
    "                                        y_train,\n",
    "                                        cv=5,\n",
    "                                        scoring=\"r2\")\n",
    "\n",
    "print('----Cross Validation SGD Regressor ---- ')\n",
    "print('r2 Score - All - Cross Validation  : ', r2_train_cross_val_sgd)\n",
    "print('r2 Score - Mean - Cross Validation : ', r2_train_cross_val_sgd.mean())\n",
    "print('r2 Score - Std - Cross Validation  : ', r2_train_cross_val_sgd.std())\n",
    "print('r2 Score - Range of Test-Set       : ', (r2_train_cross_val_sgd.mean()-r2_train_cross_val_sgd.std()) , '-', (r2_train_cross_val_sgd.mean()+r2_train_cross_val_sgd.std()))"
   ]
  },
  {
   "cell_type": "markdown",
   "metadata": {},
   "source": [
    "Setelah dilihat dari r2 Score dan standar deviasinya, saya memutuskan model paling baik yang tersedia untuk digunakan dalam model adalah menggunakan Random Forest Regressor.\n",
    "Random Forest Regressor memiliki rata-rata r2 score sebesar 59% dari 5 jenis pembagian data. \n",
    "\n",
    "Random Forest Regressor adalah salah satu algoritma dalam machine learning yang digunakan untuk tugas regresi. Ini merupakan versi dari algoritma Random Forest yang digunakan untuk melakukan prediksi terhadap variabel kontinu (seperti prediksi harga, prediksi suhu, dsb)."
   ]
  },
  {
   "cell_type": "markdown",
   "metadata": {},
   "source": [
    "# Model Training"
   ]
  },
  {
   "cell_type": "markdown",
   "metadata": {},
   "source": [
    "## Hyperparameter Tunning"
   ]
  },
  {
   "cell_type": "markdown",
   "metadata": {},
   "source": [
    "Hyperparameter tuning adalah proses mengoptimalkan parameter yang tidak bisa dipelajari (disebut hyperparameter) dalam suatu model machine learning untuk meningkatkan kinerja model tersebut. Perbedaan antara hyperparameter dengan parameter biasa adalah bahwa hyperparameter didefinisikan sebelum proses pelatihan model dan tidak berubah selama proses pelatihan.\n",
    "\n",
    "Tujuan dari hyperparameter tuning adalah mencari kombinasi hyperparameter yang dapat menghasilkan model dengan performa terbaik, yang dapat diukur dengan metrik yang sesuai (misalnya akurasi, presisi, recall, R-squared, Mean Squared Error, dll.)."
   ]
  },
  {
   "cell_type": "markdown",
   "metadata": {},
   "source": [
    "Menggunakan GridSearchCV untuk melakukan hyperparameter tuning, untuk parameter yang akan dilakukan tunning meliputi :\n",
    "- n_estimators : Menentukan jumlah pohon dalam Random Forest.\n",
    "- criterion : Menentukan kriteria untuk mengukur kualitas split.\n",
    "- max_depth : Menentukan kedalaman maksimum setiap pohon dalam model."
   ]
  },
  {
   "cell_type": "code",
   "execution_count": 54,
   "metadata": {},
   "outputs": [],
   "source": [
    "#memasukan parameter apa saja yang akan dilakukan tunning\n",
    "parameter_rfr = {\n",
    "    'regressor__n_estimators': [100, 150, 200],  \n",
    "    'regressor__criterion': ['mse', 'mae', 'friedman_mse', 'poisson'],  \n",
    "    'regressor__max_depth': [10, 50, 100]  \n",
    "}\n",
    "\n",
    "#mencari parameter terbaik dari Random Forest regressor, dan memasukan parameter yang sudah dibuat sebelumnya\n",
    "model_rfr = GridSearchCV(pipe_rfr, parameter_rfr, cv=3, verbose=1)"
   ]
  },
  {
   "cell_type": "markdown",
   "metadata": {},
   "source": [
    "Melakukan Train pada Model Random Forest Regressor"
   ]
  },
  {
   "cell_type": "code",
   "execution_count": 55,
   "metadata": {},
   "outputs": [
    {
     "name": "stdout",
     "output_type": "stream",
     "text": [
      "Fitting 3 folds for each of 36 candidates, totalling 108 fits\n"
     ]
    },
    {
     "name": "stderr",
     "output_type": "stream",
     "text": [
      "c:\\Users\\LENOVO\\anaconda3\\Lib\\site-packages\\sklearn\\model_selection\\_validation.py:425: FitFailedWarning: \n",
      "54 fits failed out of a total of 108.\n",
      "The score on these train-test partitions for these parameters will be set to nan.\n",
      "If these failures are not expected, you can try to debug them by setting error_score='raise'.\n",
      "\n",
      "Below are more details about the failures:\n",
      "--------------------------------------------------------------------------------\n",
      "27 fits failed with the following error:\n",
      "Traceback (most recent call last):\n",
      "  File \"c:\\Users\\LENOVO\\anaconda3\\Lib\\site-packages\\sklearn\\model_selection\\_validation.py\", line 732, in _fit_and_score\n",
      "    estimator.fit(X_train, y_train, **fit_params)\n",
      "  File \"c:\\Users\\LENOVO\\anaconda3\\Lib\\site-packages\\sklearn\\base.py\", line 1151, in wrapper\n",
      "    return fit_method(estimator, *args, **kwargs)\n",
      "           ^^^^^^^^^^^^^^^^^^^^^^^^^^^^^^^^^^^^^^\n",
      "  File \"c:\\Users\\LENOVO\\anaconda3\\Lib\\site-packages\\sklearn\\pipeline.py\", line 420, in fit\n",
      "    self._final_estimator.fit(Xt, y, **fit_params_last_step)\n",
      "  File \"c:\\Users\\LENOVO\\anaconda3\\Lib\\site-packages\\sklearn\\base.py\", line 1144, in wrapper\n",
      "    estimator._validate_params()\n",
      "  File \"c:\\Users\\LENOVO\\anaconda3\\Lib\\site-packages\\sklearn\\base.py\", line 637, in _validate_params\n",
      "    validate_parameter_constraints(\n",
      "  File \"c:\\Users\\LENOVO\\anaconda3\\Lib\\site-packages\\sklearn\\utils\\_param_validation.py\", line 95, in validate_parameter_constraints\n",
      "    raise InvalidParameterError(\n",
      "sklearn.utils._param_validation.InvalidParameterError: The 'criterion' parameter of RandomForestRegressor must be a str among {'friedman_mse', 'poisson', 'absolute_error', 'squared_error'}. Got 'mse' instead.\n",
      "\n",
      "--------------------------------------------------------------------------------\n",
      "27 fits failed with the following error:\n",
      "Traceback (most recent call last):\n",
      "  File \"c:\\Users\\LENOVO\\anaconda3\\Lib\\site-packages\\sklearn\\model_selection\\_validation.py\", line 732, in _fit_and_score\n",
      "    estimator.fit(X_train, y_train, **fit_params)\n",
      "  File \"c:\\Users\\LENOVO\\anaconda3\\Lib\\site-packages\\sklearn\\base.py\", line 1151, in wrapper\n",
      "    return fit_method(estimator, *args, **kwargs)\n",
      "           ^^^^^^^^^^^^^^^^^^^^^^^^^^^^^^^^^^^^^^\n",
      "  File \"c:\\Users\\LENOVO\\anaconda3\\Lib\\site-packages\\sklearn\\pipeline.py\", line 420, in fit\n",
      "    self._final_estimator.fit(Xt, y, **fit_params_last_step)\n",
      "  File \"c:\\Users\\LENOVO\\anaconda3\\Lib\\site-packages\\sklearn\\base.py\", line 1144, in wrapper\n",
      "    estimator._validate_params()\n",
      "  File \"c:\\Users\\LENOVO\\anaconda3\\Lib\\site-packages\\sklearn\\base.py\", line 637, in _validate_params\n",
      "    validate_parameter_constraints(\n",
      "  File \"c:\\Users\\LENOVO\\anaconda3\\Lib\\site-packages\\sklearn\\utils\\_param_validation.py\", line 95, in validate_parameter_constraints\n",
      "    raise InvalidParameterError(\n",
      "sklearn.utils._param_validation.InvalidParameterError: The 'criterion' parameter of RandomForestRegressor must be a str among {'friedman_mse', 'poisson', 'absolute_error', 'squared_error'}. Got 'mae' instead.\n",
      "\n",
      "  warnings.warn(some_fits_failed_message, FitFailedWarning)\n",
      "c:\\Users\\LENOVO\\anaconda3\\Lib\\site-packages\\sklearn\\model_selection\\_search.py:976: UserWarning: One or more of the test scores are non-finite: [       nan        nan        nan        nan        nan        nan\n",
      "        nan        nan        nan        nan        nan        nan\n",
      "        nan        nan        nan        nan        nan        nan\n",
      " 0.59413168 0.59043784 0.59516653 0.58649565 0.59298179 0.59260396\n",
      " 0.59073684 0.5902116  0.59269788 0.58999196 0.59011575 0.59199497\n",
      " 0.5865905  0.5871443  0.58825673 0.58907202 0.58865591 0.59052919]\n",
      "  warnings.warn(\n"
     ]
    },
    {
     "data": {
      "text/html": [
       "<style>#sk-container-id-9 {color: black;}#sk-container-id-9 pre{padding: 0;}#sk-container-id-9 div.sk-toggleable {background-color: white;}#sk-container-id-9 label.sk-toggleable__label {cursor: pointer;display: block;width: 100%;margin-bottom: 0;padding: 0.3em;box-sizing: border-box;text-align: center;}#sk-container-id-9 label.sk-toggleable__label-arrow:before {content: \"▸\";float: left;margin-right: 0.25em;color: #696969;}#sk-container-id-9 label.sk-toggleable__label-arrow:hover:before {color: black;}#sk-container-id-9 div.sk-estimator:hover label.sk-toggleable__label-arrow:before {color: black;}#sk-container-id-9 div.sk-toggleable__content {max-height: 0;max-width: 0;overflow: hidden;text-align: left;background-color: #f0f8ff;}#sk-container-id-9 div.sk-toggleable__content pre {margin: 0.2em;color: black;border-radius: 0.25em;background-color: #f0f8ff;}#sk-container-id-9 input.sk-toggleable__control:checked~div.sk-toggleable__content {max-height: 200px;max-width: 100%;overflow: auto;}#sk-container-id-9 input.sk-toggleable__control:checked~label.sk-toggleable__label-arrow:before {content: \"▾\";}#sk-container-id-9 div.sk-estimator input.sk-toggleable__control:checked~label.sk-toggleable__label {background-color: #d4ebff;}#sk-container-id-9 div.sk-label input.sk-toggleable__control:checked~label.sk-toggleable__label {background-color: #d4ebff;}#sk-container-id-9 input.sk-hidden--visually {border: 0;clip: rect(1px 1px 1px 1px);clip: rect(1px, 1px, 1px, 1px);height: 1px;margin: -1px;overflow: hidden;padding: 0;position: absolute;width: 1px;}#sk-container-id-9 div.sk-estimator {font-family: monospace;background-color: #f0f8ff;border: 1px dotted black;border-radius: 0.25em;box-sizing: border-box;margin-bottom: 0.5em;}#sk-container-id-9 div.sk-estimator:hover {background-color: #d4ebff;}#sk-container-id-9 div.sk-parallel-item::after {content: \"\";width: 100%;border-bottom: 1px solid gray;flex-grow: 1;}#sk-container-id-9 div.sk-label:hover label.sk-toggleable__label {background-color: #d4ebff;}#sk-container-id-9 div.sk-serial::before {content: \"\";position: absolute;border-left: 1px solid gray;box-sizing: border-box;top: 0;bottom: 0;left: 50%;z-index: 0;}#sk-container-id-9 div.sk-serial {display: flex;flex-direction: column;align-items: center;background-color: white;padding-right: 0.2em;padding-left: 0.2em;position: relative;}#sk-container-id-9 div.sk-item {position: relative;z-index: 1;}#sk-container-id-9 div.sk-parallel {display: flex;align-items: stretch;justify-content: center;background-color: white;position: relative;}#sk-container-id-9 div.sk-item::before, #sk-container-id-9 div.sk-parallel-item::before {content: \"\";position: absolute;border-left: 1px solid gray;box-sizing: border-box;top: 0;bottom: 0;left: 50%;z-index: -1;}#sk-container-id-9 div.sk-parallel-item {display: flex;flex-direction: column;z-index: 1;position: relative;background-color: white;}#sk-container-id-9 div.sk-parallel-item:first-child::after {align-self: flex-end;width: 50%;}#sk-container-id-9 div.sk-parallel-item:last-child::after {align-self: flex-start;width: 50%;}#sk-container-id-9 div.sk-parallel-item:only-child::after {width: 0;}#sk-container-id-9 div.sk-dashed-wrapped {border: 1px dashed gray;margin: 0 0.4em 0.5em 0.4em;box-sizing: border-box;padding-bottom: 0.4em;background-color: white;}#sk-container-id-9 div.sk-label label {font-family: monospace;font-weight: bold;display: inline-block;line-height: 1.2em;}#sk-container-id-9 div.sk-label-container {text-align: center;}#sk-container-id-9 div.sk-container {/* jupyter's `normalize.less` sets `[hidden] { display: none; }` but bootstrap.min.css set `[hidden] { display: none !important; }` so we also need the `!important` here to be able to override the default hidden behavior on the sphinx rendered scikit-learn.org. See: https://github.com/scikit-learn/scikit-learn/issues/21755 */display: inline-block !important;position: relative;}#sk-container-id-9 div.sk-text-repr-fallback {display: none;}</style><div id=\"sk-container-id-9\" class=\"sk-top-container\"><div class=\"sk-text-repr-fallback\"><pre>GridSearchCV(cv=3,\n",
       "             estimator=Pipeline(steps=[(&#x27;transormer&#x27;,\n",
       "                                        ColumnTransformer(transformers=[(&#x27;Numerical&#x27;,\n",
       "                                                                         Pipeline(steps=[(&#x27;winsorizer &#x27;\n",
       "                                                                                          &#x27;Gaussian&#x27;,\n",
       "                                                                                          Winsorizer(fold=1.5,\n",
       "                                                                                                     tail=&#x27;both&#x27;,\n",
       "                                                                                                     variables=[&#x27;Bedroom2&#x27;,\n",
       "                                                                                                                &#x27;Bathroom&#x27;])),\n",
       "                                                                                         (&#x27;winsorizer &#x27;\n",
       "                                                                                          &#x27;iqr&#x27;,\n",
       "                                                                                          Winsorizer(capping_method=&#x27;iqr&#x27;,\n",
       "                                                                                                     fold=1.5,\n",
       "                                                                                                     tail=&#x27;both&#x27;,\n",
       "                                                                                                     variables=[&#x27;Distance&#x27;,\n",
       "                                                                                                                &#x27;Car&#x27;,\n",
       "                                                                                                                &#x27;Landsize&#x27;,\n",
       "                                                                                                                &#x27;BuildingArea&#x27;])),\n",
       "                                                                                         (&#x27;scaler&#x27;,...\n",
       "                                                                          &#x27;Landsize&#x27;,\n",
       "                                                                          &#x27;BuildingArea&#x27;,\n",
       "                                                                          &#x27;Bathroom&#x27;,\n",
       "                                                                          &#x27;Bedroom2&#x27;]),\n",
       "                                                                        (&#x27;Categorical&#x27;,\n",
       "                                                                         Pipeline(steps=[(&#x27;onehot&#x27;,\n",
       "                                                                                          OneHotEncoder(handle_unknown=&#x27;ignore&#x27;))]),\n",
       "                                                                         [&#x27;Type&#x27;,\n",
       "                                                                          &#x27;Method&#x27;])])),\n",
       "                                       (&#x27;regressor&#x27;, RandomForestRegressor())]),\n",
       "             param_grid={&#x27;regressor__criterion&#x27;: [&#x27;mse&#x27;, &#x27;mae&#x27;, &#x27;friedman_mse&#x27;,\n",
       "                                                  &#x27;poisson&#x27;],\n",
       "                         &#x27;regressor__max_depth&#x27;: [10, 50, 100],\n",
       "                         &#x27;regressor__n_estimators&#x27;: [100, 150, 200]},\n",
       "             verbose=1)</pre><b>In a Jupyter environment, please rerun this cell to show the HTML representation or trust the notebook. <br />On GitHub, the HTML representation is unable to render, please try loading this page with nbviewer.org.</b></div><div class=\"sk-container\" hidden><div class=\"sk-item sk-dashed-wrapped\"><div class=\"sk-label-container\"><div class=\"sk-label sk-toggleable\"><input class=\"sk-toggleable__control sk-hidden--visually\" id=\"sk-estimator-id-71\" type=\"checkbox\" ><label for=\"sk-estimator-id-71\" class=\"sk-toggleable__label sk-toggleable__label-arrow\">GridSearchCV</label><div class=\"sk-toggleable__content\"><pre>GridSearchCV(cv=3,\n",
       "             estimator=Pipeline(steps=[(&#x27;transormer&#x27;,\n",
       "                                        ColumnTransformer(transformers=[(&#x27;Numerical&#x27;,\n",
       "                                                                         Pipeline(steps=[(&#x27;winsorizer &#x27;\n",
       "                                                                                          &#x27;Gaussian&#x27;,\n",
       "                                                                                          Winsorizer(fold=1.5,\n",
       "                                                                                                     tail=&#x27;both&#x27;,\n",
       "                                                                                                     variables=[&#x27;Bedroom2&#x27;,\n",
       "                                                                                                                &#x27;Bathroom&#x27;])),\n",
       "                                                                                         (&#x27;winsorizer &#x27;\n",
       "                                                                                          &#x27;iqr&#x27;,\n",
       "                                                                                          Winsorizer(capping_method=&#x27;iqr&#x27;,\n",
       "                                                                                                     fold=1.5,\n",
       "                                                                                                     tail=&#x27;both&#x27;,\n",
       "                                                                                                     variables=[&#x27;Distance&#x27;,\n",
       "                                                                                                                &#x27;Car&#x27;,\n",
       "                                                                                                                &#x27;Landsize&#x27;,\n",
       "                                                                                                                &#x27;BuildingArea&#x27;])),\n",
       "                                                                                         (&#x27;scaler&#x27;,...\n",
       "                                                                          &#x27;Landsize&#x27;,\n",
       "                                                                          &#x27;BuildingArea&#x27;,\n",
       "                                                                          &#x27;Bathroom&#x27;,\n",
       "                                                                          &#x27;Bedroom2&#x27;]),\n",
       "                                                                        (&#x27;Categorical&#x27;,\n",
       "                                                                         Pipeline(steps=[(&#x27;onehot&#x27;,\n",
       "                                                                                          OneHotEncoder(handle_unknown=&#x27;ignore&#x27;))]),\n",
       "                                                                         [&#x27;Type&#x27;,\n",
       "                                                                          &#x27;Method&#x27;])])),\n",
       "                                       (&#x27;regressor&#x27;, RandomForestRegressor())]),\n",
       "             param_grid={&#x27;regressor__criterion&#x27;: [&#x27;mse&#x27;, &#x27;mae&#x27;, &#x27;friedman_mse&#x27;,\n",
       "                                                  &#x27;poisson&#x27;],\n",
       "                         &#x27;regressor__max_depth&#x27;: [10, 50, 100],\n",
       "                         &#x27;regressor__n_estimators&#x27;: [100, 150, 200]},\n",
       "             verbose=1)</pre></div></div></div><div class=\"sk-parallel\"><div class=\"sk-parallel-item\"><div class=\"sk-item\"><div class=\"sk-label-container\"><div class=\"sk-label sk-toggleable\"><input class=\"sk-toggleable__control sk-hidden--visually\" id=\"sk-estimator-id-72\" type=\"checkbox\" ><label for=\"sk-estimator-id-72\" class=\"sk-toggleable__label sk-toggleable__label-arrow\">estimator: Pipeline</label><div class=\"sk-toggleable__content\"><pre>Pipeline(steps=[(&#x27;transormer&#x27;,\n",
       "                 ColumnTransformer(transformers=[(&#x27;Numerical&#x27;,\n",
       "                                                  Pipeline(steps=[(&#x27;winsorizer &#x27;\n",
       "                                                                   &#x27;Gaussian&#x27;,\n",
       "                                                                   Winsorizer(fold=1.5,\n",
       "                                                                              tail=&#x27;both&#x27;,\n",
       "                                                                              variables=[&#x27;Bedroom2&#x27;,\n",
       "                                                                                         &#x27;Bathroom&#x27;])),\n",
       "                                                                  (&#x27;winsorizer &#x27;\n",
       "                                                                   &#x27;iqr&#x27;,\n",
       "                                                                   Winsorizer(capping_method=&#x27;iqr&#x27;,\n",
       "                                                                              fold=1.5,\n",
       "                                                                              tail=&#x27;both&#x27;,\n",
       "                                                                              variables=[&#x27;Distance&#x27;,\n",
       "                                                                                         &#x27;Car&#x27;,\n",
       "                                                                                         &#x27;Landsize&#x27;,\n",
       "                                                                                         &#x27;BuildingArea&#x27;])),\n",
       "                                                                  (&#x27;scaler&#x27;,\n",
       "                                                                   StandardScaler())]),\n",
       "                                                  [&#x27;Distance&#x27;, &#x27;Car&#x27;,\n",
       "                                                   &#x27;Landsize&#x27;, &#x27;BuildingArea&#x27;,\n",
       "                                                   &#x27;Bathroom&#x27;, &#x27;Bedroom2&#x27;]),\n",
       "                                                 (&#x27;Categorical&#x27;,\n",
       "                                                  Pipeline(steps=[(&#x27;onehot&#x27;,\n",
       "                                                                   OneHotEncoder(handle_unknown=&#x27;ignore&#x27;))]),\n",
       "                                                  [&#x27;Type&#x27;, &#x27;Method&#x27;])])),\n",
       "                (&#x27;regressor&#x27;, RandomForestRegressor())])</pre></div></div></div><div class=\"sk-serial\"><div class=\"sk-item\"><div class=\"sk-serial\"><div class=\"sk-item sk-dashed-wrapped\"><div class=\"sk-label-container\"><div class=\"sk-label sk-toggleable\"><input class=\"sk-toggleable__control sk-hidden--visually\" id=\"sk-estimator-id-73\" type=\"checkbox\" ><label for=\"sk-estimator-id-73\" class=\"sk-toggleable__label sk-toggleable__label-arrow\">transormer: ColumnTransformer</label><div class=\"sk-toggleable__content\"><pre>ColumnTransformer(transformers=[(&#x27;Numerical&#x27;,\n",
       "                                 Pipeline(steps=[(&#x27;winsorizer Gaussian&#x27;,\n",
       "                                                  Winsorizer(fold=1.5,\n",
       "                                                             tail=&#x27;both&#x27;,\n",
       "                                                             variables=[&#x27;Bedroom2&#x27;,\n",
       "                                                                        &#x27;Bathroom&#x27;])),\n",
       "                                                 (&#x27;winsorizer iqr&#x27;,\n",
       "                                                  Winsorizer(capping_method=&#x27;iqr&#x27;,\n",
       "                                                             fold=1.5,\n",
       "                                                             tail=&#x27;both&#x27;,\n",
       "                                                             variables=[&#x27;Distance&#x27;,\n",
       "                                                                        &#x27;Car&#x27;,\n",
       "                                                                        &#x27;Landsize&#x27;,\n",
       "                                                                        &#x27;BuildingArea&#x27;])),\n",
       "                                                 (&#x27;scaler&#x27;, StandardScaler())]),\n",
       "                                 [&#x27;Distance&#x27;, &#x27;Car&#x27;, &#x27;Landsize&#x27;, &#x27;BuildingArea&#x27;,\n",
       "                                  &#x27;Bathroom&#x27;, &#x27;Bedroom2&#x27;]),\n",
       "                                (&#x27;Categorical&#x27;,\n",
       "                                 Pipeline(steps=[(&#x27;onehot&#x27;,\n",
       "                                                  OneHotEncoder(handle_unknown=&#x27;ignore&#x27;))]),\n",
       "                                 [&#x27;Type&#x27;, &#x27;Method&#x27;])])</pre></div></div></div><div class=\"sk-parallel\"><div class=\"sk-parallel-item\"><div class=\"sk-item\"><div class=\"sk-label-container\"><div class=\"sk-label sk-toggleable\"><input class=\"sk-toggleable__control sk-hidden--visually\" id=\"sk-estimator-id-74\" type=\"checkbox\" ><label for=\"sk-estimator-id-74\" class=\"sk-toggleable__label sk-toggleable__label-arrow\">Numerical</label><div class=\"sk-toggleable__content\"><pre>[&#x27;Distance&#x27;, &#x27;Car&#x27;, &#x27;Landsize&#x27;, &#x27;BuildingArea&#x27;, &#x27;Bathroom&#x27;, &#x27;Bedroom2&#x27;]</pre></div></div></div><div class=\"sk-serial\"><div class=\"sk-item\"><div class=\"sk-serial\"><div class=\"sk-item\"><div class=\"sk-estimator sk-toggleable\"><input class=\"sk-toggleable__control sk-hidden--visually\" id=\"sk-estimator-id-75\" type=\"checkbox\" ><label for=\"sk-estimator-id-75\" class=\"sk-toggleable__label sk-toggleable__label-arrow\">Winsorizer</label><div class=\"sk-toggleable__content\"><pre>Winsorizer(fold=1.5, tail=&#x27;both&#x27;, variables=[&#x27;Bedroom2&#x27;, &#x27;Bathroom&#x27;])</pre></div></div></div><div class=\"sk-item\"><div class=\"sk-estimator sk-toggleable\"><input class=\"sk-toggleable__control sk-hidden--visually\" id=\"sk-estimator-id-76\" type=\"checkbox\" ><label for=\"sk-estimator-id-76\" class=\"sk-toggleable__label sk-toggleable__label-arrow\">Winsorizer</label><div class=\"sk-toggleable__content\"><pre>Winsorizer(capping_method=&#x27;iqr&#x27;, fold=1.5, tail=&#x27;both&#x27;,\n",
       "           variables=[&#x27;Distance&#x27;, &#x27;Car&#x27;, &#x27;Landsize&#x27;, &#x27;BuildingArea&#x27;])</pre></div></div></div><div class=\"sk-item\"><div class=\"sk-estimator sk-toggleable\"><input class=\"sk-toggleable__control sk-hidden--visually\" id=\"sk-estimator-id-77\" type=\"checkbox\" ><label for=\"sk-estimator-id-77\" class=\"sk-toggleable__label sk-toggleable__label-arrow\">StandardScaler</label><div class=\"sk-toggleable__content\"><pre>StandardScaler()</pre></div></div></div></div></div></div></div></div><div class=\"sk-parallel-item\"><div class=\"sk-item\"><div class=\"sk-label-container\"><div class=\"sk-label sk-toggleable\"><input class=\"sk-toggleable__control sk-hidden--visually\" id=\"sk-estimator-id-78\" type=\"checkbox\" ><label for=\"sk-estimator-id-78\" class=\"sk-toggleable__label sk-toggleable__label-arrow\">Categorical</label><div class=\"sk-toggleable__content\"><pre>[&#x27;Type&#x27;, &#x27;Method&#x27;]</pre></div></div></div><div class=\"sk-serial\"><div class=\"sk-item\"><div class=\"sk-serial\"><div class=\"sk-item\"><div class=\"sk-estimator sk-toggleable\"><input class=\"sk-toggleable__control sk-hidden--visually\" id=\"sk-estimator-id-79\" type=\"checkbox\" ><label for=\"sk-estimator-id-79\" class=\"sk-toggleable__label sk-toggleable__label-arrow\">OneHotEncoder</label><div class=\"sk-toggleable__content\"><pre>OneHotEncoder(handle_unknown=&#x27;ignore&#x27;)</pre></div></div></div></div></div></div></div></div></div></div><div class=\"sk-item\"><div class=\"sk-estimator sk-toggleable\"><input class=\"sk-toggleable__control sk-hidden--visually\" id=\"sk-estimator-id-80\" type=\"checkbox\" ><label for=\"sk-estimator-id-80\" class=\"sk-toggleable__label sk-toggleable__label-arrow\">RandomForestRegressor</label><div class=\"sk-toggleable__content\"><pre>RandomForestRegressor()</pre></div></div></div></div></div></div></div></div></div></div></div></div>"
      ],
      "text/plain": [
       "GridSearchCV(cv=3,\n",
       "             estimator=Pipeline(steps=[('transormer',\n",
       "                                        ColumnTransformer(transformers=[('Numerical',\n",
       "                                                                         Pipeline(steps=[('winsorizer '\n",
       "                                                                                          'Gaussian',\n",
       "                                                                                          Winsorizer(fold=1.5,\n",
       "                                                                                                     tail='both',\n",
       "                                                                                                     variables=['Bedroom2',\n",
       "                                                                                                                'Bathroom'])),\n",
       "                                                                                         ('winsorizer '\n",
       "                                                                                          'iqr',\n",
       "                                                                                          Winsorizer(capping_method='iqr',\n",
       "                                                                                                     fold=1.5,\n",
       "                                                                                                     tail='both',\n",
       "                                                                                                     variables=['Distance',\n",
       "                                                                                                                'Car',\n",
       "                                                                                                                'Landsize',\n",
       "                                                                                                                'BuildingArea'])),\n",
       "                                                                                         ('scaler',...\n",
       "                                                                          'Landsize',\n",
       "                                                                          'BuildingArea',\n",
       "                                                                          'Bathroom',\n",
       "                                                                          'Bedroom2']),\n",
       "                                                                        ('Categorical',\n",
       "                                                                         Pipeline(steps=[('onehot',\n",
       "                                                                                          OneHotEncoder(handle_unknown='ignore'))]),\n",
       "                                                                         ['Type',\n",
       "                                                                          'Method'])])),\n",
       "                                       ('regressor', RandomForestRegressor())]),\n",
       "             param_grid={'regressor__criterion': ['mse', 'mae', 'friedman_mse',\n",
       "                                                  'poisson'],\n",
       "                         'regressor__max_depth': [10, 50, 100],\n",
       "                         'regressor__n_estimators': [100, 150, 200]},\n",
       "             verbose=1)"
      ]
     },
     "execution_count": 55,
     "metadata": {},
     "output_type": "execute_result"
    }
   ],
   "source": [
    "model_rfr.fit(X_train,y_train)"
   ]
  },
  {
   "cell_type": "markdown",
   "metadata": {},
   "source": [
    "Melihat nilai rata-rata dari hasil pencarian hyperparameter"
   ]
  },
  {
   "cell_type": "code",
   "execution_count": 56,
   "metadata": {},
   "outputs": [
    {
     "name": "stdout",
     "output_type": "stream",
     "text": [
      "Nilai mean dari hasil pencarian hyperparameter adalah: 0.5952\n"
     ]
    }
   ],
   "source": [
    "mean_score = model_rfr.best_score_\n",
    "print(f\"Nilai mean dari hasil pencarian hyperparameter adalah: {mean_score:.4f}\")"
   ]
  },
  {
   "cell_type": "markdown",
   "metadata": {},
   "source": [
    "Melihat standar deviasi dari pencarian hyperparameter"
   ]
  },
  {
   "cell_type": "code",
   "execution_count": 57,
   "metadata": {},
   "outputs": [
    {
     "name": "stdout",
     "output_type": "stream",
     "text": [
      "Nilai standar deviasi dari hasil pencarian hyperparameter adalah: 0.0152\n"
     ]
    }
   ],
   "source": [
    "\n",
    "# Mendapatkan nilai standar deviasi dari hasil pencarian hyperparameter\n",
    "std_score = model_rfr.cv_results_['std_test_score'][model_rfr.best_index_]\n",
    "\n",
    "print(f\"Nilai standar deviasi dari hasil pencarian hyperparameter adalah: {std_score:.4f}\")"
   ]
  },
  {
   "cell_type": "markdown",
   "metadata": {},
   "source": [
    "Melihat Parameter Terbaik yang didapatkan"
   ]
  },
  {
   "cell_type": "code",
   "execution_count": 58,
   "metadata": {},
   "outputs": [
    {
     "name": "stdout",
     "output_type": "stream",
     "text": [
      "Parameter Terbaik: {'regressor__criterion': 'friedman_mse', 'regressor__max_depth': 10, 'regressor__n_estimators': 200}\n"
     ]
    }
   ],
   "source": [
    "print(\"Parameter Terbaik:\", model_rfr.best_params_)"
   ]
  },
  {
   "cell_type": "markdown",
   "metadata": {},
   "source": [
    "`INSIGHT:`\n",
    "- criterion terbaik adalah friedman_mse \n",
    "- max_depth terbaik adalah 10\n",
    "- n_estimators terbaik adalah 200"
   ]
  },
  {
   "cell_type": "markdown",
   "metadata": {},
   "source": [
    "Membuat variabel baru `model_rfr_best` untuk menyimpan hasil parameter terbaik"
   ]
  },
  {
   "cell_type": "code",
   "execution_count": 59,
   "metadata": {},
   "outputs": [],
   "source": [
    "model_rfr_best = model_rfr.best_estimator_"
   ]
  },
  {
   "cell_type": "markdown",
   "metadata": {},
   "source": [
    "## Train dengan Random Forest Regression menggunakan parameter terbaik"
   ]
  },
  {
   "cell_type": "code",
   "execution_count": 60,
   "metadata": {},
   "outputs": [
    {
     "name": "stdout",
     "output_type": "stream",
     "text": [
      "R2 Score Pada data Train: 0.7842577012734242\n"
     ]
    }
   ],
   "source": [
    "# Menggunakan model SVM terbaik untuk membuat prediksi\n",
    "y_train_pred = model_rfr_best.predict(X_train)\n",
    "\n",
    "# Evaluasi model SVM terbaik\n",
    "r2_train_pred = r2_score(y_train, y_train_pred)\n",
    "\n",
    "# Cetak hasil evaluasi\n",
    "print(\"R2 Score Pada data Train:\", r2_train_pred)"
   ]
  },
  {
   "cell_type": "code",
   "execution_count": 61,
   "metadata": {},
   "outputs": [
    {
     "name": "stdout",
     "output_type": "stream",
     "text": [
      "R2 Score pada Test  :  0.6239410190525709 \n",
      "\n"
     ]
    }
   ],
   "source": [
    "#menampilkan hasil data test dengan metode random search\n",
    "y_test_pred = model_rfr.predict(X_test)\n",
    "\n",
    "print('R2 Score pada Test  : ', r2_score(y_test, y_test_pred), '\\n')\n"
   ]
  },
  {
   "cell_type": "markdown",
   "metadata": {},
   "source": [
    "# Model Evaluation"
   ]
  },
  {
   "cell_type": "markdown",
   "metadata": {},
   "source": [
    "## 1. Report SGD Regressor sebelum Hyperparameter Tuning"
   ]
  },
  {
   "cell_type": "code",
   "execution_count": 62,
   "metadata": {},
   "outputs": [
    {
     "data": {
      "text/html": [
       "<div>\n",
       "<style scoped>\n",
       "    .dataframe tbody tr th:only-of-type {\n",
       "        vertical-align: middle;\n",
       "    }\n",
       "\n",
       "    .dataframe tbody tr th {\n",
       "        vertical-align: top;\n",
       "    }\n",
       "\n",
       "    .dataframe thead th {\n",
       "        text-align: right;\n",
       "    }\n",
       "</style>\n",
       "<table border=\"1\" class=\"dataframe\">\n",
       "  <thead>\n",
       "    <tr style=\"text-align: right;\">\n",
       "      <th></th>\n",
       "      <th>Model Default Random Forest Regressor</th>\n",
       "    </tr>\n",
       "  </thead>\n",
       "  <tbody>\n",
       "    <tr>\n",
       "      <th>test - MAE</th>\n",
       "      <td>2.515296e+05</td>\n",
       "    </tr>\n",
       "    <tr>\n",
       "      <th>test - MSE</th>\n",
       "      <td>1.502480e+11</td>\n",
       "    </tr>\n",
       "    <tr>\n",
       "      <th>test - RMSE</th>\n",
       "      <td>3.876184e+05</td>\n",
       "    </tr>\n",
       "    <tr>\n",
       "      <th>test - r2</th>\n",
       "      <td>6.354544e-01</td>\n",
       "    </tr>\n",
       "    <tr>\n",
       "      <th>train - MAE</th>\n",
       "      <td>9.699833e+04</td>\n",
       "    </tr>\n",
       "    <tr>\n",
       "      <th>train - MSE</th>\n",
       "      <td>2.283849e+10</td>\n",
       "    </tr>\n",
       "    <tr>\n",
       "      <th>train - RMSE</th>\n",
       "      <td>1.511241e+05</td>\n",
       "    </tr>\n",
       "    <tr>\n",
       "      <th>train - r2</th>\n",
       "      <td>9.439115e-01</td>\n",
       "    </tr>\n",
       "  </tbody>\n",
       "</table>\n",
       "</div>"
      ],
      "text/plain": [
       "              Model Default Random Forest Regressor\n",
       "test - MAE                             2.515296e+05\n",
       "test - MSE                             1.502480e+11\n",
       "test - RMSE                            3.876184e+05\n",
       "test - r2                              6.354544e-01\n",
       "train - MAE                            9.699833e+04\n",
       "train - MSE                            2.283849e+10\n",
       "train - RMSE                           1.511241e+05\n",
       "train - r2                             9.439115e-01"
      ]
     },
     "execution_count": 62,
     "metadata": {},
     "output_type": "execute_result"
    }
   ],
   "source": [
    "all_reports = {}  # Dictionary untuk menyimpan laporan kinerja\n",
    "\n",
    "# Fungsi untuk membuat laporan kinerja\n",
    "def performance_report(all_reports, y_test, y_test_rfr, y_train, y_train_rfr, name):\n",
    "    score_reports = {\n",
    "        'test - r2': r2_score(y_test, y_test_rfr),\n",
    "        'test - MAE': mean_absolute_error(y_test, y_test_rfr),\n",
    "        'test - MSE': mean_squared_error(y_test, y_test_rfr),\n",
    "        'test - RMSE': np.sqrt(mean_squared_error(y_test, y_test_rfr)),\n",
    "        'train - r2': r2_score(y_train,y_train_rfr),\n",
    "        'train - MAE': mean_absolute_error(y_train,y_train_rfr),\n",
    "        'train - MSE': mean_squared_error(y_train,y_train_rfr),\n",
    "        'train - RMSE': np.sqrt(mean_squared_error(y_train,y_train_rfr))\n",
    "    }\n",
    "    all_reports[name] = score_reports\n",
    "    return all_reports\n",
    "\n",
    "# Memanggil fungsi \n",
    "reports_default = performance_report(all_reports,y_test, y_test_rfr, y_train, y_train_rfr, 'Model Default Random Forest Regressor')\n",
    " \n",
    "# Menampilkan laporan kinerja dalam bentuk DataFrame\n",
    "pd.DataFrame(reports_default)"
   ]
  },
  {
   "cell_type": "markdown",
   "metadata": {},
   "source": [
    "## 2. Report Setelah Hyperparameter Tuning"
   ]
  },
  {
   "cell_type": "code",
   "execution_count": 63,
   "metadata": {},
   "outputs": [
    {
     "data": {
      "text/html": [
       "<div>\n",
       "<style scoped>\n",
       "    .dataframe tbody tr th:only-of-type {\n",
       "        vertical-align: middle;\n",
       "    }\n",
       "\n",
       "    .dataframe tbody tr th {\n",
       "        vertical-align: top;\n",
       "    }\n",
       "\n",
       "    .dataframe thead th {\n",
       "        text-align: right;\n",
       "    }\n",
       "</style>\n",
       "<table border=\"1\" class=\"dataframe\">\n",
       "  <thead>\n",
       "    <tr style=\"text-align: right;\">\n",
       "      <th></th>\n",
       "      <th>Model Default Random Forest Regressor</th>\n",
       "      <th>Model Random Forest Regressor Hasil Hyper Parameter Tuning</th>\n",
       "    </tr>\n",
       "  </thead>\n",
       "  <tbody>\n",
       "    <tr>\n",
       "      <th>test - r2</th>\n",
       "      <td>6.354544e-01</td>\n",
       "      <td>6.239410e-01</td>\n",
       "    </tr>\n",
       "    <tr>\n",
       "      <th>test - MAE</th>\n",
       "      <td>2.515296e+05</td>\n",
       "      <td>2.613513e+05</td>\n",
       "    </tr>\n",
       "    <tr>\n",
       "      <th>test - MSE</th>\n",
       "      <td>1.502480e+11</td>\n",
       "      <td>1.549933e+11</td>\n",
       "    </tr>\n",
       "    <tr>\n",
       "      <th>test - RMSE</th>\n",
       "      <td>3.876184e+05</td>\n",
       "      <td>3.936919e+05</td>\n",
       "    </tr>\n",
       "    <tr>\n",
       "      <th>train - r2</th>\n",
       "      <td>9.439115e-01</td>\n",
       "      <td>7.842577e-01</td>\n",
       "    </tr>\n",
       "    <tr>\n",
       "      <th>train - MAE</th>\n",
       "      <td>9.699833e+04</td>\n",
       "      <td>2.066900e+05</td>\n",
       "    </tr>\n",
       "    <tr>\n",
       "      <th>train - MSE</th>\n",
       "      <td>2.283849e+10</td>\n",
       "      <td>8.784732e+10</td>\n",
       "    </tr>\n",
       "    <tr>\n",
       "      <th>train - RMSE</th>\n",
       "      <td>1.511241e+05</td>\n",
       "      <td>2.963905e+05</td>\n",
       "    </tr>\n",
       "  </tbody>\n",
       "</table>\n",
       "</div>"
      ],
      "text/plain": [
       "              Model Default Random Forest Regressor  \\\n",
       "test - r2                              6.354544e-01   \n",
       "test - MAE                             2.515296e+05   \n",
       "test - MSE                             1.502480e+11   \n",
       "test - RMSE                            3.876184e+05   \n",
       "train - r2                             9.439115e-01   \n",
       "train - MAE                            9.699833e+04   \n",
       "train - MSE                            2.283849e+10   \n",
       "train - RMSE                           1.511241e+05   \n",
       "\n",
       "              Model Random Forest Regressor Hasil Hyper Parameter Tuning  \n",
       "test - r2                                          6.239410e-01           \n",
       "test - MAE                                         2.613513e+05           \n",
       "test - MSE                                         1.549933e+11           \n",
       "test - RMSE                                        3.936919e+05           \n",
       "train - r2                                         7.842577e-01           \n",
       "train - MAE                                        2.066900e+05           \n",
       "train - MSE                                        8.784732e+10           \n",
       "train - RMSE                                       2.963905e+05           "
      ]
     },
     "execution_count": 63,
     "metadata": {},
     "output_type": "execute_result"
    }
   ],
   "source": [
    "# Memanggil fungsi \n",
    "reports_default = performance_report(all_reports,y_test, y_test_pred,y_train,y_train_pred, 'Model Random Forest Regressor Hasil Hyper Parameter Tuning')\n",
    "\n",
    "# Menampilkan laporan kinerja dalam bentuk DataFrame\n",
    "pd.DataFrame(reports_default)"
   ]
  },
  {
   "cell_type": "code",
   "execution_count": 64,
   "metadata": {},
   "outputs": [
    {
     "data": {
      "image/png": "[encoded data removed]",
      "text/plain": [
       "<Figure size 640x480 with 1 Axes>"
      ]
     },
     "metadata": {},
     "output_type": "display_data"
    }
   ],
   "source": [
    "#plot data asli dan hasil prediksi\n",
    "x_ax = range(len(y_test))\n",
    "plt.plot(x_ax, y_test, linewidth=1, label=\"original\")\n",
    "plt.plot(x_ax, y_test_pred, linewidth=1.1, label=\"predicted\")\n",
    "plt.title(\"y-test and y-predicted data\")\n",
    "plt.xlabel('X-axis')\n",
    "plt.ylabel('Y-axis')\n",
    "plt.legend(loc='best',fancybox=True, shadow=True)\n",
    "plt.grid(True)\n",
    "plt.show() "
   ]
  },
  {
   "cell_type": "markdown",
   "metadata": {},
   "source": [
    "## 3. Kesimpulan Model Evaluation"
   ]
  },
  {
   "cell_type": "markdown",
   "metadata": {},
   "source": [
    "1. Penurunan Performa pada Test Set Setelah Hyperparameter Tuning:\n",
    "\n",
    "- R^2 pada data uji mengalami penurunan kecil setelah tuning.\n",
    "- Metrics MAE, MSE, dan RMSE pada data uji menunjukkan peningkatan yang menandakan prediksi yang kurang akurat.\n",
    "\n",
    "2. Penurunan Overfitting:\n",
    "- Setelah tuning, model mengalami peningkatan dalam generalisasi (penurunan overfitting) karena terdapat peningkatan pada metrics pada data latih dan pengurangan perbedaan antara data latih dan uji.\n",
    "\n",
    "3. Kinerja Default Model:\n",
    "- Model default cenderung lebih baik dalam memprediksi data latih (tinggi R^2 dan rendahnya error metrics), namun kemungkinan overfitting pada data uji.\n",
    "\n",
    "4. Kinerja Setelah Hyperparameter Tuning:\n",
    "- Terjadi peningkatan pada generalisasi model, namun performa pada data uji menunjukkan sedikit penurunan yang menandakan tuning mungkin belum mengoptimalkan model secara keseluruhan.\n",
    "\n",
    "5. Diperlukan Evaluasi Lebih Lanjut:\n",
    "- Diperlukan evaluasi lebih lanjut, mungkin dengan eksplorasi hyperparameter lain atau teknik tuning yang berbeda untuk memperbaiki performa model.\n",
    "\n",
    "\n",
    "Kesimpulannya, walaupun ada penurunan kecil pada performa model pada data uji setelah hyperparameter tuning, tuning telah membantu mengurangi overfitting pada data latih, memberikan peluang untuk meningkatkan generalisasi model, tetapi perlu diakui bahwa hasilnya masih perlu perbaikan lebih lanjut untuk memperbaiki performa pada data uji."
   ]
  },
  {
   "cell_type": "markdown",
   "metadata": {},
   "source": [
    "# Model Saving"
   ]
  },
  {
   "cell_type": "code",
   "execution_count": 65,
   "metadata": {},
   "outputs": [
    {
     "data": {
      "text/html": [
       "<style>#sk-container-id-10 {color: black;}#sk-container-id-10 pre{padding: 0;}#sk-container-id-10 div.sk-toggleable {background-color: white;}#sk-container-id-10 label.sk-toggleable__label {cursor: pointer;display: block;width: 100%;margin-bottom: 0;padding: 0.3em;box-sizing: border-box;text-align: center;}#sk-container-id-10 label.sk-toggleable__label-arrow:before {content: \"▸\";float: left;margin-right: 0.25em;color: #696969;}#sk-container-id-10 label.sk-toggleable__label-arrow:hover:before {color: black;}#sk-container-id-10 div.sk-estimator:hover label.sk-toggleable__label-arrow:before {color: black;}#sk-container-id-10 div.sk-toggleable__content {max-height: 0;max-width: 0;overflow: hidden;text-align: left;background-color: #f0f8ff;}#sk-container-id-10 div.sk-toggleable__content pre {margin: 0.2em;color: black;border-radius: 0.25em;background-color: #f0f8ff;}#sk-container-id-10 input.sk-toggleable__control:checked~div.sk-toggleable__content {max-height: 200px;max-width: 100%;overflow: auto;}#sk-container-id-10 input.sk-toggleable__control:checked~label.sk-toggleable__label-arrow:before {content: \"▾\";}#sk-container-id-10 div.sk-estimator input.sk-toggleable__control:checked~label.sk-toggleable__label {background-color: #d4ebff;}#sk-container-id-10 div.sk-label input.sk-toggleable__control:checked~label.sk-toggleable__label {background-color: #d4ebff;}#sk-container-id-10 input.sk-hidden--visually {border: 0;clip: rect(1px 1px 1px 1px);clip: rect(1px, 1px, 1px, 1px);height: 1px;margin: -1px;overflow: hidden;padding: 0;position: absolute;width: 1px;}#sk-container-id-10 div.sk-estimator {font-family: monospace;background-color: #f0f8ff;border: 1px dotted black;border-radius: 0.25em;box-sizing: border-box;margin-bottom: 0.5em;}#sk-container-id-10 div.sk-estimator:hover {background-color: #d4ebff;}#sk-container-id-10 div.sk-parallel-item::after {content: \"\";width: 100%;border-bottom: 1px solid gray;flex-grow: 1;}#sk-container-id-10 div.sk-label:hover label.sk-toggleable__label {background-color: #d4ebff;}#sk-container-id-10 div.sk-serial::before {content: \"\";position: absolute;border-left: 1px solid gray;box-sizing: border-box;top: 0;bottom: 0;left: 50%;z-index: 0;}#sk-container-id-10 div.sk-serial {display: flex;flex-direction: column;align-items: center;background-color: white;padding-right: 0.2em;padding-left: 0.2em;position: relative;}#sk-container-id-10 div.sk-item {position: relative;z-index: 1;}#sk-container-id-10 div.sk-parallel {display: flex;align-items: stretch;justify-content: center;background-color: white;position: relative;}#sk-container-id-10 div.sk-item::before, #sk-container-id-10 div.sk-parallel-item::before {content: \"\";position: absolute;border-left: 1px solid gray;box-sizing: border-box;top: 0;bottom: 0;left: 50%;z-index: -1;}#sk-container-id-10 div.sk-parallel-item {display: flex;flex-direction: column;z-index: 1;position: relative;background-color: white;}#sk-container-id-10 div.sk-parallel-item:first-child::after {align-self: flex-end;width: 50%;}#sk-container-id-10 div.sk-parallel-item:last-child::after {align-self: flex-start;width: 50%;}#sk-container-id-10 div.sk-parallel-item:only-child::after {width: 0;}#sk-container-id-10 div.sk-dashed-wrapped {border: 1px dashed gray;margin: 0 0.4em 0.5em 0.4em;box-sizing: border-box;padding-bottom: 0.4em;background-color: white;}#sk-container-id-10 div.sk-label label {font-family: monospace;font-weight: bold;display: inline-block;line-height: 1.2em;}#sk-container-id-10 div.sk-label-container {text-align: center;}#sk-container-id-10 div.sk-container {/* jupyter's `normalize.less` sets `[hidden] { display: none; }` but bootstrap.min.css set `[hidden] { display: none !important; }` so we also need the `!important` here to be able to override the default hidden behavior on the sphinx rendered scikit-learn.org. See: https://github.com/scikit-learn/scikit-learn/issues/21755 */display: inline-block !important;position: relative;}#sk-container-id-10 div.sk-text-repr-fallback {display: none;}</style><div id=\"sk-container-id-10\" class=\"sk-top-container\"><div class=\"sk-text-repr-fallback\"><pre>Pipeline(steps=[(&#x27;transormer&#x27;,\n",
       "                 ColumnTransformer(transformers=[(&#x27;Numerical&#x27;,\n",
       "                                                  Pipeline(steps=[(&#x27;winsorizer &#x27;\n",
       "                                                                   &#x27;Gaussian&#x27;,\n",
       "                                                                   Winsorizer(fold=1.5,\n",
       "                                                                              tail=&#x27;both&#x27;,\n",
       "                                                                              variables=[&#x27;Bedroom2&#x27;,\n",
       "                                                                                         &#x27;Bathroom&#x27;])),\n",
       "                                                                  (&#x27;winsorizer &#x27;\n",
       "                                                                   &#x27;iqr&#x27;,\n",
       "                                                                   Winsorizer(capping_method=&#x27;iqr&#x27;,\n",
       "                                                                              fold=1.5,\n",
       "                                                                              tail=&#x27;both&#x27;,\n",
       "                                                                              variables=[&#x27;Distance&#x27;,\n",
       "                                                                                         &#x27;Car&#x27;,\n",
       "                                                                                         &#x27;Landsize&#x27;,\n",
       "                                                                                         &#x27;BuildingArea&#x27;])),\n",
       "                                                                  (&#x27;scaler&#x27;,\n",
       "                                                                   StandardScaler())]),\n",
       "                                                  [&#x27;Distance&#x27;, &#x27;Car&#x27;,\n",
       "                                                   &#x27;Landsize&#x27;, &#x27;BuildingArea&#x27;,\n",
       "                                                   &#x27;Bathroom&#x27;, &#x27;Bedroom2&#x27;]),\n",
       "                                                 (&#x27;Categorical&#x27;,\n",
       "                                                  Pipeline(steps=[(&#x27;onehot&#x27;,\n",
       "                                                                   OneHotEncoder(handle_unknown=&#x27;ignore&#x27;))]),\n",
       "                                                  [&#x27;Type&#x27;, &#x27;Method&#x27;])])),\n",
       "                (&#x27;regressor&#x27;, RandomForestRegressor())])</pre><b>In a Jupyter environment, please rerun this cell to show the HTML representation or trust the notebook. <br />On GitHub, the HTML representation is unable to render, please try loading this page with nbviewer.org.</b></div><div class=\"sk-container\" hidden><div class=\"sk-item sk-dashed-wrapped\"><div class=\"sk-label-container\"><div class=\"sk-label sk-toggleable\"><input class=\"sk-toggleable__control sk-hidden--visually\" id=\"sk-estimator-id-81\" type=\"checkbox\" ><label for=\"sk-estimator-id-81\" class=\"sk-toggleable__label sk-toggleable__label-arrow\">Pipeline</label><div class=\"sk-toggleable__content\"><pre>Pipeline(steps=[(&#x27;transormer&#x27;,\n",
       "                 ColumnTransformer(transformers=[(&#x27;Numerical&#x27;,\n",
       "                                                  Pipeline(steps=[(&#x27;winsorizer &#x27;\n",
       "                                                                   &#x27;Gaussian&#x27;,\n",
       "                                                                   Winsorizer(fold=1.5,\n",
       "                                                                              tail=&#x27;both&#x27;,\n",
       "                                                                              variables=[&#x27;Bedroom2&#x27;,\n",
       "                                                                                         &#x27;Bathroom&#x27;])),\n",
       "                                                                  (&#x27;winsorizer &#x27;\n",
       "                                                                   &#x27;iqr&#x27;,\n",
       "                                                                   Winsorizer(capping_method=&#x27;iqr&#x27;,\n",
       "                                                                              fold=1.5,\n",
       "                                                                              tail=&#x27;both&#x27;,\n",
       "                                                                              variables=[&#x27;Distance&#x27;,\n",
       "                                                                                         &#x27;Car&#x27;,\n",
       "                                                                                         &#x27;Landsize&#x27;,\n",
       "                                                                                         &#x27;BuildingArea&#x27;])),\n",
       "                                                                  (&#x27;scaler&#x27;,\n",
       "                                                                   StandardScaler())]),\n",
       "                                                  [&#x27;Distance&#x27;, &#x27;Car&#x27;,\n",
       "                                                   &#x27;Landsize&#x27;, &#x27;BuildingArea&#x27;,\n",
       "                                                   &#x27;Bathroom&#x27;, &#x27;Bedroom2&#x27;]),\n",
       "                                                 (&#x27;Categorical&#x27;,\n",
       "                                                  Pipeline(steps=[(&#x27;onehot&#x27;,\n",
       "                                                                   OneHotEncoder(handle_unknown=&#x27;ignore&#x27;))]),\n",
       "                                                  [&#x27;Type&#x27;, &#x27;Method&#x27;])])),\n",
       "                (&#x27;regressor&#x27;, RandomForestRegressor())])</pre></div></div></div><div class=\"sk-serial\"><div class=\"sk-item sk-dashed-wrapped\"><div class=\"sk-label-container\"><div class=\"sk-label sk-toggleable\"><input class=\"sk-toggleable__control sk-hidden--visually\" id=\"sk-estimator-id-82\" type=\"checkbox\" ><label for=\"sk-estimator-id-82\" class=\"sk-toggleable__label sk-toggleable__label-arrow\">transormer: ColumnTransformer</label><div class=\"sk-toggleable__content\"><pre>ColumnTransformer(transformers=[(&#x27;Numerical&#x27;,\n",
       "                                 Pipeline(steps=[(&#x27;winsorizer Gaussian&#x27;,\n",
       "                                                  Winsorizer(fold=1.5,\n",
       "                                                             tail=&#x27;both&#x27;,\n",
       "                                                             variables=[&#x27;Bedroom2&#x27;,\n",
       "                                                                        &#x27;Bathroom&#x27;])),\n",
       "                                                 (&#x27;winsorizer iqr&#x27;,\n",
       "                                                  Winsorizer(capping_method=&#x27;iqr&#x27;,\n",
       "                                                             fold=1.5,\n",
       "                                                             tail=&#x27;both&#x27;,\n",
       "                                                             variables=[&#x27;Distance&#x27;,\n",
       "                                                                        &#x27;Car&#x27;,\n",
       "                                                                        &#x27;Landsize&#x27;,\n",
       "                                                                        &#x27;BuildingArea&#x27;])),\n",
       "                                                 (&#x27;scaler&#x27;, StandardScaler())]),\n",
       "                                 [&#x27;Distance&#x27;, &#x27;Car&#x27;, &#x27;Landsize&#x27;, &#x27;BuildingArea&#x27;,\n",
       "                                  &#x27;Bathroom&#x27;, &#x27;Bedroom2&#x27;]),\n",
       "                                (&#x27;Categorical&#x27;,\n",
       "                                 Pipeline(steps=[(&#x27;onehot&#x27;,\n",
       "                                                  OneHotEncoder(handle_unknown=&#x27;ignore&#x27;))]),\n",
       "                                 [&#x27;Type&#x27;, &#x27;Method&#x27;])])</pre></div></div></div><div class=\"sk-parallel\"><div class=\"sk-parallel-item\"><div class=\"sk-item\"><div class=\"sk-label-container\"><div class=\"sk-label sk-toggleable\"><input class=\"sk-toggleable__control sk-hidden--visually\" id=\"sk-estimator-id-83\" type=\"checkbox\" ><label for=\"sk-estimator-id-83\" class=\"sk-toggleable__label sk-toggleable__label-arrow\">Numerical</label><div class=\"sk-toggleable__content\"><pre>[&#x27;Distance&#x27;, &#x27;Car&#x27;, &#x27;Landsize&#x27;, &#x27;BuildingArea&#x27;, &#x27;Bathroom&#x27;, &#x27;Bedroom2&#x27;]</pre></div></div></div><div class=\"sk-serial\"><div class=\"sk-item\"><div class=\"sk-serial\"><div class=\"sk-item\"><div class=\"sk-estimator sk-toggleable\"><input class=\"sk-toggleable__control sk-hidden--visually\" id=\"sk-estimator-id-84\" type=\"checkbox\" ><label for=\"sk-estimator-id-84\" class=\"sk-toggleable__label sk-toggleable__label-arrow\">Winsorizer</label><div class=\"sk-toggleable__content\"><pre>Winsorizer(fold=1.5, tail=&#x27;both&#x27;, variables=[&#x27;Bedroom2&#x27;, &#x27;Bathroom&#x27;])</pre></div></div></div><div class=\"sk-item\"><div class=\"sk-estimator sk-toggleable\"><input class=\"sk-toggleable__control sk-hidden--visually\" id=\"sk-estimator-id-85\" type=\"checkbox\" ><label for=\"sk-estimator-id-85\" class=\"sk-toggleable__label sk-toggleable__label-arrow\">Winsorizer</label><div class=\"sk-toggleable__content\"><pre>Winsorizer(capping_method=&#x27;iqr&#x27;, fold=1.5, tail=&#x27;both&#x27;,\n",
       "           variables=[&#x27;Distance&#x27;, &#x27;Car&#x27;, &#x27;Landsize&#x27;, &#x27;BuildingArea&#x27;])</pre></div></div></div><div class=\"sk-item\"><div class=\"sk-estimator sk-toggleable\"><input class=\"sk-toggleable__control sk-hidden--visually\" id=\"sk-estimator-id-86\" type=\"checkbox\" ><label for=\"sk-estimator-id-86\" class=\"sk-toggleable__label sk-toggleable__label-arrow\">StandardScaler</label><div class=\"sk-toggleable__content\"><pre>StandardScaler()</pre></div></div></div></div></div></div></div></div><div class=\"sk-parallel-item\"><div class=\"sk-item\"><div class=\"sk-label-container\"><div class=\"sk-label sk-toggleable\"><input class=\"sk-toggleable__control sk-hidden--visually\" id=\"sk-estimator-id-87\" type=\"checkbox\" ><label for=\"sk-estimator-id-87\" class=\"sk-toggleable__label sk-toggleable__label-arrow\">Categorical</label><div class=\"sk-toggleable__content\"><pre>[&#x27;Type&#x27;, &#x27;Method&#x27;]</pre></div></div></div><div class=\"sk-serial\"><div class=\"sk-item\"><div class=\"sk-serial\"><div class=\"sk-item\"><div class=\"sk-estimator sk-toggleable\"><input class=\"sk-toggleable__control sk-hidden--visually\" id=\"sk-estimator-id-88\" type=\"checkbox\" ><label for=\"sk-estimator-id-88\" class=\"sk-toggleable__label sk-toggleable__label-arrow\">OneHotEncoder</label><div class=\"sk-toggleable__content\"><pre>OneHotEncoder(handle_unknown=&#x27;ignore&#x27;)</pre></div></div></div></div></div></div></div></div></div></div><div class=\"sk-item\"><div class=\"sk-estimator sk-toggleable\"><input class=\"sk-toggleable__control sk-hidden--visually\" id=\"sk-estimator-id-89\" type=\"checkbox\" ><label for=\"sk-estimator-id-89\" class=\"sk-toggleable__label sk-toggleable__label-arrow\">RandomForestRegressor</label><div class=\"sk-toggleable__content\"><pre>RandomForestRegressor()</pre></div></div></div></div></div></div></div>"
      ],
      "text/plain": [
       "Pipeline(steps=[('transormer',\n",
       "                 ColumnTransformer(transformers=[('Numerical',\n",
       "                                                  Pipeline(steps=[('winsorizer '\n",
       "                                                                   'Gaussian',\n",
       "                                                                   Winsorizer(fold=1.5,\n",
       "                                                                              tail='both',\n",
       "                                                                              variables=['Bedroom2',\n",
       "                                                                                         'Bathroom'])),\n",
       "                                                                  ('winsorizer '\n",
       "                                                                   'iqr',\n",
       "                                                                   Winsorizer(capping_method='iqr',\n",
       "                                                                              fold=1.5,\n",
       "                                                                              tail='both',\n",
       "                                                                              variables=['Distance',\n",
       "                                                                                         'Car',\n",
       "                                                                                         'Landsize',\n",
       "                                                                                         'BuildingArea'])),\n",
       "                                                                  ('scaler',\n",
       "                                                                   StandardScaler())]),\n",
       "                                                  ['Distance', 'Car',\n",
       "                                                   'Landsize', 'BuildingArea',\n",
       "                                                   'Bathroom', 'Bedroom2']),\n",
       "                                                 ('Categorical',\n",
       "                                                  Pipeline(steps=[('onehot',\n",
       "                                                                   OneHotEncoder(handle_unknown='ignore'))]),\n",
       "                                                  ['Type', 'Method'])])),\n",
       "                ('regressor', RandomForestRegressor())])"
      ]
     },
     "execution_count": 65,
     "metadata": {},
     "output_type": "execute_result"
    }
   ],
   "source": [
    "pipe_rfr"
   ]
  },
  {
   "cell_type": "code",
   "execution_count": 84,
   "metadata": {},
   "outputs": [],
   "source": [
    "# Menyimpan model menggunakan pickle\n",
    "with open('final_pipeline1.pkl', 'wb') as file:\n",
    "  pickle.dump((pipe_rfr), file)\n",
    "\n",
    "with open('best_model.pkl', 'wb') as file_1:\n",
    "  pickle.dump(model_rfr_best, file_1)"
   ]
  }
 ],
 "metadata": {
  "kernelspec": {
   "display_name": "base",
   "language": "python",
   "name": "python3"
  },
  "language_info": {
   "codemirror_mode": {
    "name": "ipython",
    "version": 3
   },
   "file_extension": ".py",
   "mimetype": "text/x-python",
   "name": "python",
   "nbconvert_exporter": "python",
   "pygments_lexer": "ipython3",
   "version": "3.11.4"
  }
 },
 "nbformat": 4,
 "nbformat_minor": 2
}
